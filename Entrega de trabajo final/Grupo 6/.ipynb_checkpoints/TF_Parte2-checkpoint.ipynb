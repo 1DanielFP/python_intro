{
 "cells": [
  {
   "cell_type": "markdown",
   "id": "e2953bfe-d361-43ae-9d74-dabd5275d0cf",
   "metadata": {},
   "source": [
    "# Parte 2 del trabajo final: Indicadores de desarrollo global\n",
    "\n",
    "## Female labor force in Peru"
   ]
  },
  {
   "cell_type": "code",
   "execution_count": 8,
   "id": "a8797c25-1674-44d7-a4b5-900eaf5bb090",
   "metadata": {},
   "outputs": [],
   "source": [
    "import pandas as pd\n",
    "import matplotlib.pyplot as plt\n",
    "import seaborn as sns\n",
    "import numpy as np \n",
    "from scipy.stats import norm\n",
    "from scipy import stats"
   ]
  },
  {
   "cell_type": "code",
   "execution_count": null,
   "id": "ac5c1d19-28eb-4eac-a88a-cb048478b435",
   "metadata": {},
   "outputs": [],
   "source": []
  },
  {
   "cell_type": "markdown",
   "id": "cd87ed0d-cec6-415f-a4f7-0adc210e5dcb",
   "metadata": {},
   "source": [
    "## CO2 emissions and GDP growth"
   ]
  },
  {
   "cell_type": "code",
   "execution_count": null,
   "id": "1728ad35-6a4f-406f-8d51-f07004873b0b",
   "metadata": {},
   "outputs": [],
   "source": []
  }
 ],
 "metadata": {
  "kernelspec": {
   "display_name": "Python [conda env:base] *",
   "language": "python",
   "name": "conda-base-py"
  },
  "language_info": {
   "codemirror_mode": {
    "name": "ipython",
    "version": 3
   },
   "file_extension": ".py",
   "mimetype": "text/x-python",
   "name": "python",
   "nbconvert_exporter": "python",
   "pygments_lexer": "ipython3",
   "version": "3.12.2"
  }
 },
 "nbformat": 4,
 "nbformat_minor": 5
}
