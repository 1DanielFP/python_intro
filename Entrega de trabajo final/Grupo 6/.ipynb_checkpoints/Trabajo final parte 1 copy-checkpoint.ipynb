{
 "cells": [
  {
   "cell_type": "markdown",
   "id": "8ecd9598",
   "metadata": {},
   "source": [
    "# Trabajo final \n",
    "\n",
    "\n",
    "Indicaciones: \n",
    "\n",
    "\n",
    "\n",
    "\n",
    "\n",
    "\n",
    "\n",
    "\n",
    "\n",
    "\n",
    "\n",
    "\n",
    "\n",
    "\n",
    "\n",
    "\n",
    "\n",
    "\n",
    "\n",
    "\n"
   ]
  },
  {
   "cell_type": "markdown",
   "id": "5d7ebf44",
   "metadata": {},
   "source": [
    "1. Utilizando scipy. stats, crea un programa que modele la probabilidad de obtener un\n",
    "número específico de éxitos en una serie de lanzamientos de una moneda sin trucos\n",
    "(probabilidad de éxito p = 0. 5). Genera la probabilidad de obtener exactamente 7 caras\n",
    "en 10 lanzamientos"
   ]
  },
  {
   "cell_type": "code",
   "execution_count": 1,
   "id": "041ede03",
   "metadata": {},
   "outputs": [],
   "source": [
    "import scipy\n",
    "from scipy import stats"
   ]
  },
  {
   "cell_type": "code",
   "execution_count": 2,
   "id": "875caeef",
   "metadata": {},
   "outputs": [],
   "source": [
    "from scipy.stats import binom"
   ]
  },
  {
   "cell_type": "code",
   "execution_count": 15,
   "id": "83e6df48",
   "metadata": {},
   "outputs": [
    {
     "name": "stdout",
     "output_type": "stream",
     "text": [
      "La probabilidad de obtener 7 caras en 10 lanzamientos en una moneda no trucada es de 11.72%\n"
     ]
    }
   ],
   "source": [
    "n_esp= 7 #buscamos obtener exactamente 7 caras\n",
    "n_int= 10 #en 10 intentos\n",
    "prob= 0.5 #con una probabilidad de 50%\n",
    "probabilidad= binom.pmf(n_esp,n_int,prob)\n",
    "probabilidad= round(probabilidad*100,2)\n",
    "print(f'La probabilidad de obtener 7 caras en 10 lanzamientos en una moneda no trucada es de {probabilidad}%')"
   ]
  },
  {
   "cell_type": "markdown",
   "id": "20ae8b60",
   "metadata": {},
   "source": [
    "Calcula la probabilidad acumulada de obtener 7 o menos caras en 10 lanzamientos"
   ]
  },
  {
   "cell_type": "code",
   "execution_count": 17,
   "id": "a0d83594",
   "metadata": {},
   "outputs": [
    {
     "name": "stdout",
     "output_type": "stream",
     "text": [
      "La probabilidad de obtener 7 caras o menos en 10 lanzamientos en una moneda no trucada es de 94.53%\n"
     ]
    }
   ],
   "source": [
    "n_max= 7 #buscamos obtener 7 caras o menos\n",
    "n_int= 10 #en 10 intentos\n",
    "prob= 0.5 #con una probabilidad de 50%\n",
    "probabilidad1= binom.cdf(n_max,n_int,prob)\n",
    "probabilidad1= round(probabilidad1*100,2)\n",
    "print(f'La probabilidad de obtener 7 caras o menos en 10 lanzamientos en una moneda no trucada es de {probabilidad1}%')"
   ]
  },
  {
   "cell_type": "markdown",
   "id": "80962ba6",
   "metadata": {},
   "source": [
    "Grafica la distribución binomial completa para los 10 lanzamientos, mostrando la\n",
    "probabilidad de obtener desde 0 hasta 10 caras."
   ]
  },
  {
   "cell_type": "code",
   "execution_count": 22,
   "id": "08c0ea13",
   "metadata": {},
   "outputs": [
    {
     "data": {
      "image/png": "[encoded data removed]",
      "text/plain": [
       "<Figure size 640x480 with 1 Axes>"
      ]
     },
     "metadata": {},
     "output_type": "display_data"
    }
   ],
   "source": [
    "import matplotlib.pyplot as plt\n",
    "\n",
    "x = list(range(n_int + 1)) \n",
    "y = binom.pmf(x, n_int, prob)\n",
    "\n",
    "plt.bar(x, y)\n",
    "plt.xlabel('Número de caras (k)')\n",
    "plt.ylabel('Probabilidad')\n",
    "plt.title('Distribución Binomial: Probabilidad de obtener k caras')\n",
    "plt.xticks(x)\n",
    "plt.show()"
   ]
  },
  {
   "cell_type": "markdown",
   "id": "5ab25328",
   "metadata": {},
   "source": [
    "Ahora la moneda tiene mayor probabilidad de caer en cara (probabilidad de éxito p =\n",
    "0. 8). ¿Cómo cambian los resultados? Vuelve a realizar los ejercicios I, II y III."
   ]
  },
  {
   "cell_type": "code",
   "execution_count": null,
   "id": "088734f2",
   "metadata": {},
   "outputs": [],
   "source": []
  },
  {
   "cell_type": "markdown",
   "id": "c1ff4e76",
   "metadata": {},
   "source": [
    "Utilizando scipy. stats, realiza un análisis de una distribución normal con una media de\n",
    "0 y desviación estándar de 1. Genera un conjunto de datos aleatorios con 1000\n",
    "muestras a partir de esta distribución."
   ]
  },
  {
   "cell_type": "code",
   "execution_count": null,
   "id": "163f71dd",
   "metadata": {},
   "outputs": [],
   "source": []
  },
  {
   "cell_type": "markdown",
   "id": "b426c743",
   "metadata": {},
   "source": [
    "Calcula y muestra la media, la desviación estándar y la mediana de los datos\n",
    "generados."
   ]
  },
  {
   "cell_type": "code",
   "execution_count": null,
   "id": "256c4b1d",
   "metadata": {},
   "outputs": [],
   "source": []
  },
  {
   "cell_type": "markdown",
   "id": "4cfdc972",
   "metadata": {},
   "source": [
    "Grafica el histograma de los datos y superpón la curva de la distribución normal\n",
    "teórica."
   ]
  },
  {
   "cell_type": "code",
   "execution_count": null,
   "id": "a583732a",
   "metadata": {},
   "outputs": [],
   "source": []
  },
  {
   "cell_type": "markdown",
   "id": "84838427",
   "metadata": {},
   "source": [
    "Calcula la probabilidad de que un valor caiga dentro del rango de -1 a 1 (una desviación\n",
    "estándar de la media)."
   ]
  },
  {
   "cell_type": "code",
   "execution_count": null,
   "id": "970da0b8",
   "metadata": {},
   "outputs": [],
   "source": []
  },
  {
   "cell_type": "markdown",
   "id": "71b3d75e",
   "metadata": {},
   "source": [
    "# Parte 2"
   ]
  },
  {
   "cell_type": "markdown",
   "id": "4b09b0e3",
   "metadata": {},
   "source": [
    "Contaran con toda la información sobre el trabajo  en la carpeta \"Trabajo Final\" del Github de curso. Lean con cuidado las indicaciones.\n",
    "Algunos puntos a tener en cuenta:\n",
    "    \n",
    "    \n",
    "Puedes elegir una de estas dos opciones\n",
    "\n",
    "* Indicadores de Desarrollo GlobaL, a nivel país. \n",
    "* El IDH, a nivel distrital, provincial o departamental.\n",
    "\n",
    "Realiza 4 gráficos con la base de datos de tu elección. Ojo que cualquiera de las opciones implica realizar alguna limpieza de los datos.\n",
    "\n",
    "Aquí van algunas ideas:\n",
    "\n",
    "Para los indicadores de desarrollo global: \n",
    "\n",
    "* puedes ver la evolución en el tiempo de un sólo indicador, para un sólo pais, o región.\n",
    "* Puedes hacer la comparación entre la evolucion de varios países. \n",
    "* puedes ver la comparación entre países de un sólo indicador. Puedes enfocarte en una o varias regiones. \n",
    "* puedes ver la relación de dos o más indicadores. \n",
    "\n",
    "\n",
    "Para el IDH: \n",
    "\n",
    "* puedes ver la comparación  de alguno de los indicadores entre distritos dentro de un departamento. \n",
    "* puedes ver la relación de dos indicadores que componen el IDH, entre ellos. \n",
    "\n",
    "Hay más opciones de temas para los indicadores de desarrollo global.     \n",
    "    \n",
    "    \n",
    "    \n",
    "    \n",
    "    \n",
    "    \n",
    "    \n",
    "    \n",
    "    \n",
    "    \n",
    "    \n",
    "    \n",
    "    \n",
    "    \n",
    "    \n"
   ]
  },
  {
   "cell_type": "markdown",
   "id": "3ebb00e4",
   "metadata": {},
   "source": [
    "Formato de entrega: Un archivo txt con la URL de la web en Github o notebook del trabajo que también incluya la URL de la web en github. Tener en consideración que dado que el trabajo es de grupos\n",
    "    de 5 solo sera necesario que este publicado en un Github. Además dentro de la pagina de Github del trabajo final esta un tutorial de como publicar\n",
    "    sus paginas en formato html. "
   ]
  },
  {
   "cell_type": "markdown",
   "id": "3f312e33",
   "metadata": {},
   "source": [
    "## Ha sido un gusto poder enseñarles . Hasta pronto :D\n",
    "\n",
    "(╯°□°）╯︵ ┻━┻ "
   ]
  },
  {
   "cell_type": "code",
   "execution_count": null,
   "id": "7b857fb5",
   "metadata": {},
   "outputs": [],
   "source": []
  }
 ],
 "metadata": {
  "kernelspec": {
   "display_name": "Python 3 (ipykernel)",
   "language": "python",
   "name": "python3"
  },
  "language_info": {
   "codemirror_mode": {
    "name": "ipython",
    "version": 3
   },
   "file_extension": ".py",
   "mimetype": "text/x-python",
   "name": "python",
   "nbconvert_exporter": "python",
   "pygments_lexer": "ipython3",
   "version": "3.11.5"
  }
 },
 "nbformat": 4,
 "nbformat_minor": 5
}
