{
 "cells": [
  {
   "cell_type": "markdown",
   "id": "5d198778",
   "metadata": {},
   "source": [
    "# Assignment_1\n",
    "If you copy codes from previous answers, explain each step. No explanation is `0 points`."
   ]
  },
  {
   "cell_type": "markdown",
   "id": "853562f8",
   "metadata": {},
   "source": [
    "##  Part 1.Data types\n"
   ]
  },
  {
   "cell_type": "markdown",
   "id": "521b5fe7",
   "metadata": {},
   "source": [
    "a.Declare one variable for each one these types: : int , float , string , boolean.\n",
    "- Print  the varible's type using  type () function\n",
    "\n",
    "\n"
   ]
  },
  {
   "cell_type": "code",
   "execution_count": 1,
   "id": "b8adc928",
   "metadata": {},
   "outputs": [
    {
     "name": "stdout",
     "output_type": "stream",
     "text": [
      "<class 'int'>\n",
      "<class 'float'>\n",
      "<class 'str'>\n",
      "<class 'bool'>\n"
     ]
    }
   ],
   "source": [
    "mi_entero = 10          # int\n",
    "mi_decimal = 3.14       # float\n",
    "mi_cadena = \"Hola\"      # string\n",
    "mi_booleano = True      # boolean\n",
    "\n",
    "# Imprimir el tipo de cada variable\n",
    "print(type(mi_entero))\n",
    "print(type(mi_decimal))\n",
    "print(type(mi_cadena))\n",
    "print(type(mi_booleano))"
   ]
  },
  {
   "cell_type": "markdown",
   "id": "ce38f1d9",
   "metadata": {},
   "source": [
    " b. Using only the following inputs: ```5``` and ```2```  ,  work the  operators to get the output  : ```50```"
   ]
  },
  {
   "cell_type": "code",
   "execution_count": 9,
   "id": "46b08279",
   "metadata": {},
   "outputs": [
    {
     "name": "stdout",
     "output_type": "stream",
     "text": [
      "50\n"
     ]
    }
   ],
   "source": [
    "# Usando solo 5 y 2 para obtener 50\n",
    "resultado = (5 * 5) *  2\n",
    "\n",
    "# Imprimir el resultado\n",
    "print(resultado)"
   ]
  },
  {
   "cell_type": "markdown",
   "id": "42009dda",
   "metadata": {},
   "source": [
    "c. Evaluate if the output of the previous excercise is over 100. Create a variable that makes this evaluation. (Hint: It would be a boolean)."
   ]
  },
  {
   "cell_type": "code",
   "execution_count": 11,
   "id": "e1226c5e",
   "metadata": {},
   "outputs": [
    {
     "name": "stdout",
     "output_type": "stream",
     "text": [
      "False\n"
     ]
    }
   ],
   "source": [
    "# Evaluar si el resultado es mayor a 100\n",
    "es_mayor_que_100 = resultado > 100\n",
    "\n",
    "# Imprimir el resultado de la evaluación\n",
    "print(es_mayor_que_100)"
   ]
  },
  {
   "cell_type": "markdown",
   "id": "877a0395",
   "metadata": {},
   "source": [
    "d. Create a variable equal to a list that contains: \n",
    "- a string,\n",
    "- a boolean,\n",
    "- two numeric values ( of any kind)  and\n",
    "- a  list of two strings with the names of your favourite musical artists. "
   ]
  },
  {
   "cell_type": "code",
   "execution_count": 3,
   "id": "081b71d0",
   "metadata": {},
   "outputs": [
    {
     "name": "stdout",
     "output_type": "stream",
     "text": [
      "['Hola, Daniel :)', True, 42, 3.14159, ['Radiohead', 'Lana del Rey']]\n"
     ]
    }
   ],
   "source": [
    "mi_lista = [\n",
    "    \"Hola, Daniel :)\",  # Un string\n",
    "    0.000001 > 0,           # Un booleano\n",
    "    42,             # Un número entero (int)\n",
    "    3.14159,           # Un número decimal (float)\n",
    "    [\"Radiohead\", \"Lana del Rey\"]  # Lista con dos nombres de artistas musicales\n",
    "]\n",
    "\n",
    "# Imprimir la lista\n",
    "print(mi_lista)"
   ]
  },
  {
   "cell_type": "markdown",
   "id": "e2a5f459",
   "metadata": {},
   "source": [
    "## Part 2. Containers"
   ]
  },
  {
   "cell_type": "markdown",
   "id": "51681d3c",
   "metadata": {},
   "source": [
    "e. Create a tuple with 3 elements. Explain why you can't modify it. "
   ]
  },
  {
   "cell_type": "code",
   "execution_count": 1,
   "id": "dd8d0079",
   "metadata": {},
   "outputs": [
    {
     "data": {
      "text/plain": [
       "(2022, 2023, 2024)"
      ]
     },
     "execution_count": 1,
     "metadata": {},
     "output_type": "execute_result"
    }
   ],
   "source": [
    "Tupla_grupo7 = (2022, 2023, 2024)\n",
    "Tupla_grupo7\n",
    "\n",
    "#No se puede modificar porque la función de las tuplas consiste en almacenar datos de manera inmutable. "
   ]
  },
  {
   "cell_type": "markdown",
   "id": "25ecd132",
   "metadata": {},
   "source": [
    "f.Create a dictionary with at least 3 different  keys and values ."
   ]
  },
  {
   "cell_type": "code",
   "execution_count": 5,
   "id": "57ac77f1",
   "metadata": {},
   "outputs": [],
   "source": [
    "diccionario_integrantes = {\"Integrante_1\":\"Juan Calzado\", \"Integrante_2\":\"Pablo Torres\", \"Integrante_3\":\"Renzo Zevallos\"}"
   ]
  },
  {
   "cell_type": "code",
   "execution_count": 7,
   "id": "a479669d-5397-4ee0-91c9-7da60ac5b1e9",
   "metadata": {},
   "outputs": [
    {
     "data": {
      "text/plain": [
       "{'Integrante_1': 'Juan Calzado',\n",
       " 'Integrante_2': 'Pablo Torres',\n",
       " 'Integrante_3': 'Renzo Zevallos'}"
      ]
     },
     "execution_count": 7,
     "metadata": {},
     "output_type": "execute_result"
    }
   ],
   "source": [
    "diccionario_integrantes"
   ]
  },
  {
   "cell_type": "markdown",
   "id": "88837e32",
   "metadata": {},
   "source": [
    "g.We got the next courses list: "
   ]
  },
  {
   "cell_type": "code",
   "execution_count": 133,
   "id": "b75be7fb",
   "metadata": {},
   "outputs": [],
   "source": [
    "courses = [\"History\", \"Economy\", \"Anthropology\", \"Sociology\", \"Literature\"]"
   ]
  },
  {
   "cell_type": "markdown",
   "id": "005d3d70",
   "metadata": {},
   "source": [
    "g.1.Add tree additional courses in 3 different ways( one for each way):\n",
    "   - Sum (+) a list that contains an additional course. \n",
    "   - Use append. \n",
    "   - Use extend. "
   ]
  },
  {
   "cell_type": "code",
   "execution_count": 136,
   "id": "6d6e70db",
   "metadata": {},
   "outputs": [
    {
     "name": "stdout",
     "output_type": "stream",
     "text": [
      "['History', 'Economy', 'Anthropology', 'Sociology', 'Literature', 'Qlab - RStudio for Social Science']\n"
     ]
    }
   ],
   "source": [
    "#Sum (+) a list that contains an additional course. \n",
    "extra_course = [\"Qlab - RStudio for Social Science\"]\n",
    "courses = courses + extra_course\n",
    "print(courses)"
   ]
  },
  {
   "cell_type": "code",
   "execution_count": 138,
   "id": "48807da8-a298-4a57-bdb5-558a5e4c3673",
   "metadata": {},
   "outputs": [
    {
     "name": "stdout",
     "output_type": "stream",
     "text": [
      "['History', 'Economy', 'Anthropology', 'Sociology', 'Literature', 'Qlab - RStudio for Social Science', 'Qlab - Python']\n"
     ]
    }
   ],
   "source": [
    "#Use append\n",
    "courses.append(\"Qlab - Python\")\n",
    "print(courses)"
   ]
  },
  {
   "cell_type": "code",
   "execution_count": 140,
   "id": "6a8cdd60-7d32-449b-9d51-7b0e4eb9425f",
   "metadata": {},
   "outputs": [
    {
     "name": "stdout",
     "output_type": "stream",
     "text": [
      "['History', 'Economy', 'Anthropology', 'Sociology', 'Literature', 'Qlab - RStudio for Social Science', 'Qlab - Python', 'Q', 'l', 'a', 'b', ' ', '-', ' ', 'P', 'y', 't', 'h', 'o', 'n', ':', ' ', 'T', 'i', 'm', 'e', ' ', 's', 'e', 'r', 'i', 'e', 's']\n"
     ]
    }
   ],
   "source": [
    "#Use extend\n",
    "courses.extend(\"Qlab - Python: Time series\")\n",
    "print(courses)"
   ]
  },
  {
   "cell_type": "markdown",
   "id": "6cf07d6a",
   "metadata": {},
   "source": [
    "g.2.Use the indexation to stress _Sociology_."
   ]
  },
  {
   "cell_type": "code",
   "execution_count": 143,
   "id": "0a03e468",
   "metadata": {},
   "outputs": [
    {
     "name": "stdout",
     "output_type": "stream",
     "text": [
      "Sociology\n"
     ]
    }
   ],
   "source": [
    "courses.index(\"Sociology\")\n",
    "print(courses[3])"
   ]
  },
  {
   "cell_type": "markdown",
   "id": "bfb7ace5",
   "metadata": {},
   "source": [
    "g.3 Remove your least favourite course"
   ]
  },
  {
   "cell_type": "code",
   "execution_count": 146,
   "id": "63ea56cf",
   "metadata": {},
   "outputs": [
    {
     "name": "stdout",
     "output_type": "stream",
     "text": [
      "['History', 'Economy', 'Anthropology', 'Literature', 'Qlab - RStudio for Social Science', 'Qlab - Python', 'Q', 'l', 'a', 'b', ' ', '-', ' ', 'P', 'y', 't', 'h', 'o', 'n', ':', ' ', 'T', 'i', 'm', 'e', ' ', 's', 'e', 'r', 'i', 'e', 's']\n"
     ]
    }
   ],
   "source": [
    "courses.remove(\"Sociology\")\n",
    "print(courses)"
   ]
  },
  {
   "cell_type": "markdown",
   "id": "d07e8d7c",
   "metadata": {},
   "source": [
    "g.4. Invert the list"
   ]
  },
  {
   "cell_type": "code",
   "execution_count": 149,
   "id": "c32c86be",
   "metadata": {},
   "outputs": [
    {
     "name": "stdout",
     "output_type": "stream",
     "text": [
      "['s', 'e', 'i', 'r', 'e', 's', ' ', 'e', 'm', 'i', 'T', ' ', ':', 'n', 'o', 'h', 't', 'y', 'P', ' ', '-', ' ', 'b', 'a', 'l', 'Q', 'Qlab - Python', 'Qlab - RStudio for Social Science', 'Literature', 'Anthropology', 'Economy', 'History']\n"
     ]
    }
   ],
   "source": [
    "courses.reverse()\n",
    "print(courses)"
   ]
  },
  {
   "cell_type": "markdown",
   "id": "17a5576a",
   "metadata": {},
   "source": [
    "h.Create a dictionary that representst a fruits inventory:\n",
    " - Add at least 5 fruits to the inventory\n",
    "- Print the amount of apples in stock \n",
    "- Modify the amount of grapes\n"
   ]
  },
  {
   "cell_type": "code",
   "execution_count": 153,
   "id": "a7ec16e9",
   "metadata": {},
   "outputs": [
    {
     "name": "stdout",
     "output_type": "stream",
     "text": [
      "{'apples': 5, 'grapes': 24, 'pineaplles': 3, 'watermelon': 1, 'oranges': 4}\n"
     ]
    }
   ],
   "source": [
    "frutas_cantidad = { \"apples\":5, \"grapes\":24, \"pineaplles\":3, \"watermelon\":1, \"oranges\":4}\n",
    "print(frutas_cantidad)"
   ]
  },
  {
   "cell_type": "code",
   "execution_count": 155,
   "id": "22efa88d-c5f2-4cce-bcec-3159675f9292",
   "metadata": {},
   "outputs": [
    {
     "data": {
      "text/plain": [
       "5"
      ]
     },
     "execution_count": 155,
     "metadata": {},
     "output_type": "execute_result"
    }
   ],
   "source": [
    "#Cantidad de manzanas:\n",
    "frutas_cantidad[\"apples\"]"
   ]
  },
  {
   "cell_type": "code",
   "execution_count": 165,
   "id": "a91c0c5e-fee7-464b-9957-e3f99fda7188",
   "metadata": {},
   "outputs": [
    {
     "name": "stdout",
     "output_type": "stream",
     "text": [
      "48\n"
     ]
    }
   ],
   "source": [
    "#Aumento de la cantidad de uvas:\n",
    "frutas_cantidad.update( {\"grapes\":48} )\n",
    "print(frutas_cantidad[\"grapes\"])"
   ]
  },
  {
   "cell_type": "markdown",
   "id": "0c74c187",
   "metadata": {},
   "source": [
    "i.  Write a dictionary with the local GMT of the nexts cities:\n",
    "- Antananarivo, Madagascar, \n",
    "- Beirut, Lebanon, \n",
    "- Jakarta, Indonesia, \n",
    "- Teherán, Iran, \n",
    "- Vientiane, Laos, \n",
    "\n",
    "\n",
    "\n",
    "Hint: Lima would be: `\"Lima\": -5`"
   ]
  },
  {
   "cell_type": "code",
   "execution_count": 184,
   "id": "95e4b82d",
   "metadata": {},
   "outputs": [
    {
     "name": "stdout",
     "output_type": "stream",
     "text": [
      "{'Antananarivo, Madagascar': '+3', 'Beirut, Lebanon': '+2', 'Jakarta, Indonesia': '+7', 'Teherán, Iran': '+3:30', 'Vientiane, Laos': '+7'}\n"
     ]
    }
   ],
   "source": [
    "local_GMT = {\"Antananarivo, Madagascar\":\"+3\", \"Beirut, Lebanon\":\"+2\", \"Jakarta, Indonesia\":\"+7\", \"Teherán, Iran\":\"+3:30\", \"Vientiane, Laos\":\"+7\"}\n",
    "print(local_GMT)"
   ]
  },
  {
   "cell_type": "markdown",
   "id": "e0f93671",
   "metadata": {},
   "source": [
    " j.Add the nexts cities to the dictionary:\n",
    "- Astana, Kazakhstan,\n",
    "- Uagadugú, Burkina Faso,\n",
    "- Balmopan, Belize"
   ]
  },
  {
   "cell_type": "code",
   "execution_count": 187,
   "id": "a4c5f47d-873d-43b9-b259-f0d7067a9bbf",
   "metadata": {},
   "outputs": [
    {
     "name": "stdout",
     "output_type": "stream",
     "text": [
      "{'Antananarivo, Madagascar': '+3', 'Beirut, Lebanon': '+2', 'Jakarta, Indonesia': '+7', 'Teherán, Iran': '+3:30', 'Vientiane, Laos': '+7', 'Astana, Kazakhstan': '+6', 'Uagadugú, Burkina Faso': '0', 'Balmopan, Belize': '-6'}\n"
     ]
    }
   ],
   "source": [
    "local_GMT.update( {\"Astana, Kazakhstan\":\"+6\", \"Uagadugú, Burkina Faso\":\"0\", \"Balmopan, Belize\":\"-6\"} )\n",
    "print(local_GMT)"
   ]
  },
  {
   "cell_type": "markdown",
   "id": "c6c4f120",
   "metadata": {},
   "source": [
    "# Part 3. Numpy\n"
   ]
  },
  {
   "cell_type": "markdown",
   "id": "ef5f5f96",
   "metadata": {},
   "source": [
    "k.Create an array with 10 aleatory values that go from 0 to 9"
   ]
  },
  {
   "cell_type": "code",
   "execution_count": 16,
   "id": "ec7c8e8d-e371-4d7c-bbde-9f14a56adce8",
   "metadata": {},
   "outputs": [
    {
     "name": "stdout",
     "output_type": "stream",
     "text": [
      "[1 9 2 2 4 7 1 7 5 6]\n"
     ]
    }
   ],
   "source": [
    "import numpy as np\n",
    "valores=np.random.randint(0,10,size=10)\n",
    "print(valores)"
   ]
  },
  {
   "cell_type": "markdown",
   "id": "f653f08e",
   "metadata": {},
   "source": [
    "l.Create a matrix 3x2 fill with zeros"
   ]
  },
  {
   "cell_type": "code",
   "execution_count": 18,
   "id": "6aea98a5",
   "metadata": {},
   "outputs": [
    {
     "name": "stdout",
     "output_type": "stream",
     "text": [
      "[[0. 0.]\n",
      " [0. 0.]\n",
      " [0. 0.]]\n"
     ]
    }
   ],
   "source": [
    "import numpy as np\n",
    "matrix=np.zeros((3, 2))\n",
    "print(matrix)"
   ]
  },
  {
   "cell_type": "markdown",
   "id": "b0cca53d",
   "metadata": {},
   "source": [
    "m.Sum two arrays and then multiply the output by an scalar"
   ]
  },
  {
   "cell_type": "markdown",
   "id": "9d7b9466",
   "metadata": {},
   "source": [
    "import numpy as np\n",
    "valores_1=np.random.randint(0,10,size=10)\n",
    "valores_2=np.arange(10)\n",
    "valores_3= valores_1+valores_2\n",
    "print(valores_3)\n",
    "escalar=2\n",
    "multiplicacion=valores_3*escalar\n",
    "print(multiplicacion)\n"
   ]
  },
  {
   "cell_type": "markdown",
   "id": "a9e3e08f",
   "metadata": {},
   "source": [
    "n.Create 2 arrays with the values that you wish :\n",
    "- Concatenate vertically \n",
    "- Concatenate horizontally "
   ]
  },
  {
   "cell_type": "code",
   "execution_count": 22,
   "id": "6469da02",
   "metadata": {},
   "outputs": [
    {
     "name": "stdout",
     "output_type": "stream",
     "text": [
      "[[1. 1. 1.]\n",
      " [1. 1. 1.]\n",
      " [1. 1. 1.]\n",
      " [1. 1. 1.]\n",
      " [1. 1. 1.]\n",
      " [1. 1. 1.]]\n"
     ]
    }
   ],
   "source": [
    "valor_1=np.ones((3, 3))\n",
    "valor_2=np.ones((3, 3))\n",
    "valor_3=np.vstack((valor_1, valor_2))\n",
    "print(valor_3)"
   ]
  },
  {
   "cell_type": "markdown",
   "id": "c2a634a1",
   "metadata": {},
   "source": []
  }
 ],
 "metadata": {
  "kernelspec": {
   "display_name": "Python 3 (ipykernel)",
   "language": "python",
   "name": "python3"
  },
  "language_info": {
   "codemirror_mode": {
    "name": "ipython",
    "version": 3
   },
   "file_extension": ".py",
   "mimetype": "text/x-python",
   "name": "python",
   "nbconvert_exporter": "python",
   "pygments_lexer": "ipython3",
   "version": "3.12.4"
  }
 },
 "nbformat": 4,
 "nbformat_minor": 5
}
