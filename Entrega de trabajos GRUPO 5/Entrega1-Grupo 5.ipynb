{
 "cells": [
  {
   "cell_type": "markdown",
   "id": "2a44fd1e",
   "metadata": {},
   "source": [
    "# Tarea 1\n"
   ]
  },
  {
   "cell_type": "markdown",
   "id": "bdacefa6",
   "metadata": {},
   "source": [
    "Fecha de entrega: \n",
    "Miercoles 11 de marzo, 2025, 11.59pm\n",
    "\n",
    "Comentarios generales:\n",
    "\n",
    "- No olvidar que python usa el snake_case (o minúsculas separadas por subguión) para llamar a sus variables. \n",
    "- No nombrar variables con acentos porque algunas veces, dependiendo de la máquina en la que se corra, esto será aceptado o no. \n",
    "- Leer  claramente qué es lo que pide la pregunta.  \n",
    "   \n"
   ]
  },
  {
   "cell_type": "markdown",
   "id": "80152401",
   "metadata": {},
   "source": [
    "Ejemplo:  Utilizando sólo los siguientes inputs numéricos: ```5``` y ```2```  , maneje los operadores tal que el output sea ```120```. Crea una variable con el resultado. "
   ]
  },
  {
   "cell_type": "code",
   "execution_count": 3,
   "id": "7601a7f9",
   "metadata": {},
   "outputs": [
    {
     "data": {
      "text/plain": [
       "120"
      ]
     },
     "execution_count": 3,
     "metadata": {},
     "output_type": "execute_result"
    }
   ],
   "source": [
    "#Respuesta\n",
    "output = (5*2)**2 + 5*2**2\n",
    "output"
   ]
  },
  {
   "cell_type": "markdown",
   "id": "a8018627",
   "metadata": {},
   "source": [
    "1.  Utilizando sólo los siguientes inputs: ```5``` y ```2```  , maneje los operadores tal que el output sea ```50```"
   ]
  },
  {
   "cell_type": "code",
   "execution_count": 1,
   "id": "1f723e46",
   "metadata": {},
   "outputs": [
    {
     "data": {
      "text/plain": [
       "50"
      ]
     },
     "execution_count": 1,
     "metadata": {},
     "output_type": "execute_result"
    }
   ],
   "source": [
    "#Respuesta1\n",
    "output= (5*5)*2\n",
    "output\n"
   ]
  },
  {
   "cell_type": "markdown",
   "id": "994dc4bc",
   "metadata": {},
   "source": [
    "2. Evalúa que el output del ejemplo sea mayor al output de 1. Crea una variable con esta evaluación (Hint: Será un booleano)."
   ]
  },
  {
   "cell_type": "code",
   "execution_count": 3,
   "id": "b8928779",
   "metadata": {
    "scrolled": true
   },
   "outputs": [
    {
     "name": "stdout",
     "output_type": "stream",
     "text": [
      "True\n"
     ]
    }
   ],
   "source": [
    "#Respuesta 2\n",
    "es_mayor_que_uno =output > 1\n",
    "print(es_mayor_que_uno)\n"
   ]
  },
  {
   "cell_type": "markdown",
   "id": "69918902",
   "metadata": {},
   "source": [
    "3. Utilizando sólo los siguientes inputs: ```31``` maneja los operadores tal que el output sea ```0```"
   ]
  },
  {
   "cell_type": "code",
   "execution_count": 4,
   "id": "4dcc2afa",
   "metadata": {},
   "outputs": [
    {
     "data": {
      "text/plain": [
       "0.0"
      ]
     },
     "execution_count": 4,
     "metadata": {},
     "output_type": "execute_result"
    }
   ],
   "source": [
    "output = (31*2)/2-31\n",
    "output\n"
   ]
  },
  {
   "cell_type": "markdown",
   "id": "97cf5786",
   "metadata": {},
   "source": [
    "4.  Utilizando sólo los siguientes inputs: ```2``` (todos los 2 que necesites) maneja los operadores tal que el output sea ```5```"
   ]
  },
  {
   "cell_type": "code",
   "execution_count": 5,
   "id": "418fdb47",
   "metadata": {},
   "outputs": [
    {
     "data": {
      "text/plain": [
       "5.0"
      ]
     },
     "execution_count": 5,
     "metadata": {},
     "output_type": "execute_result"
    }
   ],
   "source": [
    "2+2+2/2 #Usando operaciones combinadas obtenemos un 5\n"
   ]
  },
  {
   "cell_type": "markdown",
   "id": "178e7ec3",
   "metadata": {},
   "source": [
    "5. Crea una variable ```x``` y una variable ```y``` que sumen 1600. Crea una variable ```v``` que dé un booleano, tal que evalúe que ```x + y``` sea igual a 2000."
   ]
  },
  {
   "cell_type": "code",
   "execution_count": 6,
   "id": "0e75e524",
   "metadata": {},
   "outputs": [
    {
     "name": "stdout",
     "output_type": "stream",
     "text": [
      "1600\n",
      "False\n"
     ]
    }
   ],
   "source": [
    "#SUMATORIA\n",
    "x= 1000\n",
    "y=600\n",
    "print(x+y)\n",
    "\n",
    "#BOOLEANO\n",
    "v=(x+y)\n",
    "print(v==2000)\n"
   ]
  },
  {
   "cell_type": "markdown",
   "id": "163e5332",
   "metadata": {},
   "source": [
    "6. Cree una variable ```z``` y una variable ```a``` que sumen 1000."
   ]
  },
  {
   "cell_type": "code",
   "execution_count": 7,
   "id": "846bea9d",
   "metadata": {},
   "outputs": [
    {
     "data": {
      "text/plain": [
       "1000"
      ]
     },
     "execution_count": 7,
     "metadata": {},
     "output_type": "execute_result"
    }
   ],
   "source": [
    "#Respuesta6\n",
    "z=600\n",
    "a=400\n",
    "output= (z+a)\n",
    "output\n"
   ]
  },
  {
   "cell_type": "markdown",
   "id": "c222c968",
   "metadata": {},
   "source": [
    "7. Calcula cuántas horas trabajan en total los 130 congresistas de nuestro país en un año. Asume que trabajan 40 horas a la semana, por 48 semanas al año (considerando que tienen vacaciones y no trabajan sobretiempo). "
   ]
  },
  {
   "cell_type": "code",
   "execution_count": 8,
   "id": "5deb8908",
   "metadata": {},
   "outputs": [
    {
     "name": "stdout",
     "output_type": "stream",
     "text": [
      "Horas trabajadas en total por los 130 congresistas en un año: 249600\n"
     ]
    }
   ],
   "source": [
    "#Respuesta 7\n",
    "# Datos del problema\n",
    "congresistas = 130\n",
    "horas_semanales = 40\n",
    "semanas_anuales = 48\n",
    "\n",
    "# Cálculo de las horas totales trabajadas en un año\n",
    "horas_totales = congresistas * horas_semanales * semanas_anuales\n",
    "\n",
    "# Imprimir resultado\n",
    "print(\"Horas trabajadas en total por los 130 congresistas en un año:\", horas_totales)\n"
   ]
  },
  {
   "cell_type": "markdown",
   "id": "80e32ec2",
   "metadata": {},
   "source": [
    "8. Ahora calcula el salario de un congresista por hora. Los supuestos del anterior ejercicio se mantienen (Se puede pasar por alto las vacaciones). Cabe recordar que los congresistas ganan 15,600 soles mensuales.   \n",
    "- Crea una variable para el salario por hora de un congresista.   \n",
    "- Crea una variable para la suma de los salarios por hora de los 130 congresistas.\n"
   ]
  },
  {
   "cell_type": "code",
   "execution_count": 13,
   "id": "6d98f342",
   "metadata": {},
   "outputs": [
    {
     "data": {
      "text/plain": [
       "1056.25"
      ]
     },
     "execution_count": 13,
     "metadata": {},
     "output_type": "execute_result"
    }
   ],
   "source": [
    "Horas_trabajadas=40*48\n",
    "Horas_trabajadas\n",
    "Salario_hora=15600/Horas_trabajadas\n",
    "Salario_hora\n",
    "Suma_salarios=Salario_hora*130\n",
    "Suma_salarios\n"
   ]
  },
  {
   "cell_type": "markdown",
   "id": "ae512853",
   "metadata": {},
   "source": [
    "9. Con la reducción del IGV para restaurantes y hoteles (https://emprender.sunat.gob.pe/tributando/temas-actualidad/reduccion-igv-para-restaurantes-hoteles), los restaurantes pagan el 10% de IGV. Un restaurante factura 3426 soles diarios, en promedio, después de impuestos. Calcule el valor base (el IGV es 10% sobre el valor base, ó 1 + .1).\n",
    "\n",
    "Calcule, utilizando el valor base, cuánto es el descuento del IGV en soles (o el 8% de este valor base).\n",
    "\n",
    "Cree una variable para cada uno de los siguientes:\n",
    "- porcentaje de IGV \n",
    "- el total de facturación\n",
    "- el monto del impuesto\n",
    "- el valor base sin impuesto\n",
    "- el descuento de IGV en soles. Puedes comprobar tu fórmula con cualquier recibo de pago que detalle el IGV. "
   ]
  },
  {
   "cell_type": "code",
   "execution_count": 74,
   "id": "51599f11",
   "metadata": {},
   "outputs": [
    {
     "name": "stdout",
     "output_type": "stream",
     "text": [
      "el total de facturación: 3426\n",
      "el monto del impuesto: 311.4545454545455\n",
      "el valor base sin impuesto: 3114.5454545454545\n",
      "el descuento del IGV en soles: 311.45\n"
     ]
    }
   ],
   "source": [
    "fact_total = 3426 #Creamos el total de facturación\n",
    "fact_neta= 3426/1.1 #Creamos el valor base sin impuesto\n",
    "monto_IGV = fact_total - fact_neta #Creamos el monto del impuesto\n",
    "print(\"el total de facturación:\",fact_total)\n",
    "print(\"el monto del impuesto:\", monto_IGV)\n",
    "print(\"el valor base sin impuesto:\", fact_neta)\n",
    "print(\"el descuento del IGV en soles:\", round(desc_igv,2))\n"
   ]
  },
  {
   "cell_type": "markdown",
   "id": "69f6e4f9",
   "metadata": {},
   "source": [
    "10.  Cristina percibe el sueldo mínimo (1025 soles). Compruebe que el salario anual de Cristina es menor al salario anual de un congresista, usando operadores de comparación y una expresión que detalle el monto mensual y el número de meses trabajados de ambos. La comparación debe ser ser evaluada a un booleano"
   ]
  },
  {
   "cell_type": "code",
   "execution_count": 26,
   "id": "cc09bc62",
   "metadata": {},
   "outputs": [
    {
     "name": "stdout",
     "output_type": "stream",
     "text": [
      "True\n"
     ]
    }
   ],
   "source": [
    "#SALARIO MENSUAL\n",
    "sueldo_cristina=1025\n",
    "sueldo_congresista=15600\n",
    "#SALARIO ANUAL\n",
    "s_anual_cristina=sueldo_cristina*12\n",
    "s_anual_congresista=sueldo_congresista*12\n",
    "#BOOLEANO\n",
    "print(s_anual_cristina<s_anual_congresista)\n"
   ]
  },
  {
   "cell_type": "markdown",
   "id": "37de8248",
   "metadata": {},
   "source": [
    "11. Una conocida petrolera debe volver a compensar a  1023 familias que se dedican a la pesca por la contaminación causada en el mar donde pescan. El nuevo monto negociado es de 1200 millones de soles, sin embargo, una cláusula del contrato dice que el monto de compensación tiene que ser un número entero. ¿Cuántos soles adicionales se le  tiene  que agregar al monto negociado para que las familias reciban una cantidad entera,  asumiendo que para lograr este número entero, hay que elevar el monto total? (Pista: Acuérdate del  floor y el módulo)."
   ]
  },
  {
   "cell_type": "code",
   "execution_count": 27,
   "id": "948141a9",
   "metadata": {},
   "outputs": [
    {
     "name": "stdout",
     "output_type": "stream",
     "text": [
      "Se deben agregar 483 soles al monto total para que cada familia reciba una cantidad entera.\n"
     ]
    }
   ],
   "source": [
    "#Respuesta11\n",
    "\n",
    "import math\n",
    "# Datos del problema\n",
    "monto_total = 1200_000_000  # 1200 millones de soles\n",
    "familias = 1023\n",
    "\n",
    "compensacion_por_familia = monto_total / familias\n",
    "\n",
    "# Si no es un número entero, encontrar el siguiente monto que sí lo sea\n",
    "if compensacion_por_familia % 1 != 0:\n",
    "    # Redondear para obtener un número entero\n",
    "    nuevo_monto_total = math.ceil(monto_total / familias) * familias\n",
    "    adicionales = nuevo_monto_total - monto_total\n",
    "else:\n",
    "    adicionales = 0  # No se necesita agregar nada\n",
    "\n",
    "print(f\"Se deben agregar {adicionales} soles al monto total para que cada familia reciba una cantidad entera.\")\n"
   ]
  },
  {
   "cell_type": "markdown",
   "id": "75a0de8e",
   "metadata": {},
   "source": [
    "12. Crea una variable igual a una lista que contenga:\n",
    "- un string,\n",
    "- un booleano,\n",
    "- dos valores numéricos (de cualquier tipo) y\n",
    "- una lista de dos strings con el nombre de tus artistas musicales favoritos. "
   ]
  },
  {
   "cell_type": "code",
   "execution_count": 28,
   "id": "721f56c9",
   "metadata": {},
   "outputs": [
    {
     "name": "stdout",
     "output_type": "stream",
     "text": [
      "['Hola', True, 42, 3.14, ['Coldplay', 'The Beatles']]\n"
     ]
    }
   ],
   "source": [
    "# Crear una lista\n",
    "mi_lista = [\n",
    "    \"Hola\",  # Un string\n",
    "    True,  # Un booleano\n",
    "    42, 3.14,  # Dos valores numéricos (entero y flotante)\n",
    "    [\"Coldplay\", \"The Beatles\"]  # Lista de dos artistas musicales favoritos\n",
    "]\n",
    "\n",
    "# Imprimir la lista para verificar\n",
    "print(mi_lista)\n"
   ]
  },
  {
   "cell_type": "markdown",
   "id": "5e64d253",
   "metadata": {},
   "source": [
    "13. Tenemos la siguiente lista de cursos: "
   ]
  },
  {
   "cell_type": "code",
   "execution_count": 8,
   "id": "8011eabe",
   "metadata": {},
   "outputs": [],
   "source": [
    "cursos = [\"Historia\", \"Economia\", \"Antropologia\", \"RSP\", \"Derecho\"]\n"
   ]
  },
  {
   "cell_type": "markdown",
   "id": "df10d9ac",
   "metadata": {},
   "source": [
    "Realiza las siguientes operaciones en bloques diferentes: \n",
    "- Calcula cuántos elementos tiene la lista."
   ]
  },
  {
   "cell_type": "code",
   "execution_count": 60,
   "id": "2610418e",
   "metadata": {},
   "outputs": [
    {
     "data": {
      "text/plain": [
       "5"
      ]
     },
     "execution_count": 60,
     "metadata": {},
     "output_type": "execute_result"
    }
   ],
   "source": [
    "cursos = [\"Historia\", \"Economia\", \"Antropologia\", \"RSP\", \"Derecho\"]\n",
    "len(cursos)"
   ]
  },
  {
   "cell_type": "markdown",
   "id": "0e1e30ac",
   "metadata": {},
   "source": [
    "13.1. Agrega tres cursos adicionales de 3 formas diferentes (uno por forma):\n",
    "   - Suma (+) una lista que contenga un curso adicional. \n",
    "   - Usa el append. \n",
    "   - Usa el extend."
   ]
  },
  {
   "cell_type": "code",
   "execution_count": 61,
   "id": "dd9e9b9f",
   "metadata": {},
   "outputs": [
    {
     "data": {
      "text/plain": [
       "['Historia',\n",
       " 'Economia',\n",
       " 'Antropologia',\n",
       " 'RSP',\n",
       " 'Derecho',\n",
       " 'Matemáticas',\n",
       " 'Física',\n",
       " 'Química']"
      ]
     },
     "execution_count": 61,
     "metadata": {},
     "output_type": "execute_result"
    }
   ],
   "source": [
    "curso=[\"Matemáticas\"]\n",
    "cursos=cursos+curso\n",
    "cursos.append(\"Física\")\n",
    "cursos.extend([\"Química\"])\n",
    "cursos\n"
   ]
  },
  {
   "cell_type": "markdown",
   "id": "42a424de",
   "metadata": {},
   "source": [
    "13.2. \n",
    "- Usa la indexación para señalar a _RSP_."
   ]
  },
  {
   "cell_type": "code",
   "execution_count": 62,
   "id": "a453c0fe",
   "metadata": {},
   "outputs": [
    {
     "data": {
      "text/plain": [
       "3"
      ]
     },
     "execution_count": 62,
     "metadata": {},
     "output_type": "execute_result"
    }
   ],
   "source": [
    "cursos.index(\"RSP\")\n"
   ]
  },
  {
   "cell_type": "markdown",
   "id": "f842a7f3",
   "metadata": {},
   "source": [
    "13.3.\n",
    "- Remueve el curso que menos te guste de la lista.\n"
   ]
  },
  {
   "cell_type": "code",
   "execution_count": 63,
   "id": "03d70f60",
   "metadata": {},
   "outputs": [
    {
     "data": {
      "text/plain": [
       "['Historia',\n",
       " 'Economia',\n",
       " 'Antropologia',\n",
       " 'RSP',\n",
       " 'Derecho',\n",
       " 'Matemáticas',\n",
       " 'Física']"
      ]
     },
     "execution_count": 63,
     "metadata": {},
     "output_type": "execute_result"
    }
   ],
   "source": [
    "cursos.remove(\"Química\")\n",
    "cursos\n"
   ]
  },
  {
   "cell_type": "markdown",
   "id": "f9952c8d",
   "metadata": {},
   "source": [
    "14\n",
    "Tenemos los siguientes números: 30, 24, 54.2, 15.8, 145, 90, 100.\n",
    " - Crea una lista con ellos. \n",
    " - Ordena la lista de menor a mayor.\n",
    " - Saca el promedio de los números de la lista.  \n",
    "(Realiza cada uno en bloques separados)."
   ]
  },
  {
   "cell_type": "code",
   "execution_count": 57,
   "id": "f0eb206f",
   "metadata": {},
   "outputs": [
    {
     "name": "stdout",
     "output_type": "stream",
     "text": [
      "Lista ordenada: [15.8, 24, 30, 54.2, 90, 100, 145]\n",
      "promedio: 65.57142857142857\n"
     ]
    }
   ],
   "source": [
    "numeros = [30, 24, 54.2, 15.8, 145, 90, 100] # Creamos de la lista\n",
    "\n",
    "numeros.sort() # Ordenamos la lista\n",
    "\n",
    "promedio = sum(numeros)/len(numeros) #Promediamos los valores\n",
    "\n",
    "print(\"Lista ordenada:\", numeros)\n",
    "print(\"promedio:\", promedio)\n"
   ]
  },
  {
   "cell_type": "markdown",
   "id": "09559938",
   "metadata": {},
   "source": [
    "15.Utilizando un “if else” cree una estructura que evalúe “x” tal que:\n",
    "\n",
    "Si x es múltiplo de 2 imprima “Es múltiplo de 2”.\n",
    "\n",
    "Si x es múltiplo de 3 imprima “Es múltiplo de 3”\n",
    "\n",
    "Si x es múltiplo de 2 y 3 imprima “Es múltiplo de 2 y 3”\n",
    "\n",
    "Para otro caso, imprime “Otro caso”\n",
    "Muestra un ejemplo con x = 6.\n",
    "\n"
   ]
  },
  {
   "cell_type": "code",
   "execution_count": 38,
   "id": "97f32ab2",
   "metadata": {},
   "outputs": [
    {
     "name": "stdout",
     "output_type": "stream",
     "text": [
      "Es múltiplo de 2\n",
      "Es múltiplo de 3\n",
      "Es múltiplo de 2 y 3\n"
     ]
    }
   ],
   "source": [
    "#Ejemplo\n",
    "x=6\n",
    "if x%2==0:\n",
    "    print(\"Es múltiplo de 2\")\n",
    "if x%3==0:\n",
    "    print(\"Es múltiplo de 3\")\n",
    "if x%2==0 and x%3==0:\n",
    "    print(\"Es múltiplo de 2 y 3\")\n",
    "else: \n",
    "    print(\"Otro caso\")\n"
   ]
  },
  {
   "cell_type": "markdown",
   "id": "ab0213b2",
   "metadata": {},
   "source": [
    "16.Crea una función llamada clasificar_edad() que reciba como parámetro la edad de una\n",
    "persona. La función debe clasificar a la persona en una de las siguientes categorías:\n",
    "\n",
    "\"Niño\" si la edad es menor de 12 años.\n",
    "\n",
    "\"Adolescente\" si la edad está entre 12 y 17 años.\n",
    "\n",
    "“Joven” si la edad está entre 18 y 24 años.\n",
    "\n",
    "\"Adulto\" si la edad está entre 25 y 64 años.\n",
    "\n",
    "\"Adulto Mayor\" si la edad es mayor o igual a 65 años.\n",
    "\n",
    "La función debe devolver la categoría correspondiente. Prueba la función con las edades de\n",
    "10, 19, 25 y 70."
   ]
  },
  {
   "cell_type": "code",
   "execution_count": 64,
   "id": "7cdc55b3",
   "metadata": {},
   "outputs": [
    {
     "data": {
      "text/plain": [
       "'Niño'"
      ]
     },
     "execution_count": 64,
     "metadata": {},
     "output_type": "execute_result"
    }
   ],
   "source": [
    "def clasificar_edad(edad):\n",
    "    if edad < 12:\n",
    "        return \"Niño\"\n",
    "    elif 12 <= edad <= 17:\n",
    "        return \"Adolescente\"\n",
    "    elif 18 <= edad <= 24:\n",
    "        return \"Joven\"\n",
    "    elif 25 <= edad <= 64:\n",
    "        return \"Adulto\"\n",
    "    else:\n",
    "        return \"Adulto Mayor\"\n",
    "    \n",
    "clasificar_edad(10)\n"
   ]
  },
  {
   "cell_type": "code",
   "execution_count": 65,
   "id": "e70d08fb",
   "metadata": {},
   "outputs": [
    {
     "data": {
      "text/plain": [
       "'Joven'"
      ]
     },
     "execution_count": 65,
     "metadata": {},
     "output_type": "execute_result"
    }
   ],
   "source": [
    "clasificar_edad(19)"
   ]
  },
  {
   "cell_type": "code",
   "execution_count": 66,
   "id": "464dcfcb",
   "metadata": {},
   "outputs": [
    {
     "data": {
      "text/plain": [
       "'Adulto'"
      ]
     },
     "execution_count": 66,
     "metadata": {},
     "output_type": "execute_result"
    }
   ],
   "source": [
    "clasificar_edad(25)"
   ]
  },
  {
   "cell_type": "code",
   "execution_count": 67,
   "id": "9fc3cdc5",
   "metadata": {},
   "outputs": [
    {
     "data": {
      "text/plain": [
       "'Adulto Mayor'"
      ]
     },
     "execution_count": 67,
     "metadata": {},
     "output_type": "execute_result"
    }
   ],
   "source": [
    "clasificar_edad(70)"
   ]
  },
  {
   "cell_type": "code",
   "execution_count": 68,
   "id": "241a07a5",
   "metadata": {},
   "outputs": [
    {
     "data": {
      "text/plain": [
       "'Adolescente'"
      ]
     },
     "execution_count": 68,
     "metadata": {},
     "output_type": "execute_result"
    }
   ],
   "source": [
    "clasificar_edad(12)"
   ]
  },
  {
   "cell_type": "code",
   "execution_count": null,
   "id": "3d14bc56",
   "metadata": {},
   "outputs": [],
   "source": []
  }
 ],
 "metadata": {
  "kernelspec": {
   "display_name": "Python 3 (ipykernel)",
   "language": "python",
   "name": "python3"
  },
  "language_info": {
   "codemirror_mode": {
    "name": "ipython",
    "version": 3
   },
   "file_extension": ".py",
   "mimetype": "text/x-python",
   "name": "python",
   "nbconvert_exporter": "python",
   "pygments_lexer": "ipython3",
   "version": "3.11.5"
  }
 },
 "nbformat": 4,
 "nbformat_minor": 5
}
