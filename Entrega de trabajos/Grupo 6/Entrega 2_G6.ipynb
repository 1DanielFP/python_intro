{
 "cells": [
  {
   "cell_type": "markdown",
   "metadata": {
    "id": "oifLIy0lGFIy"
   },
   "source": [
    "# Tarea 4 (Grupo 6)\n",
    "\n",
    "Hora de entrega: Viernes 14 de marzo, 23:59 pm\n",
    "\n",
    "\n",
    "Entregar la tarea en este notebook, no usar una adicional a esta. \n",
    "\n",
    "Integrantes:\n",
    "\n",
    "\n"
   ]
  },
  {
   "cell_type": "markdown",
   "metadata": {
    "id": "yjEzI3TpGFI2"
   },
   "source": [
    "# Parte 1\n",
    "\n",
    "- Antes que nada, ¡necesitamos nuestros datos! \n",
    "1. Ve a la página de microdatos del [INEI](http://iinei.inei.gob.pe/microdatos/). \n",
    "2. Ve a \"Consulta por encuestas\" y ve a ENAHO metodología ACTUALIZADA. \n",
    "3. Elige aquella que dice \"Condiciones de Vida y Pobreza - ENAHO\" (la que no es panel). \n",
    "4. Elige el año 2022, y en período, elige la anual.   \n",
    "5. Descarga los **archivos CSV** del Código módulo 1 (Características de la vivienda y el hogar) y el módulo 34 (Sumarias - Variables Calculadas). \n",
    "\n",
    "(El nombre del archivo de sumaria es Sumaria-2022).\n",
    "\n",
    "Esta tarea está pensada en ser desarrollada con los CSV (no los .dta o .sav, que son los archivos de stata ó spss respectivamente).\n",
    "\n",
    "\n",
    "La ENAHO es una encuesta muy amplia que está distribuida en varios módulos. En esta tarea veremos cómo podemos utilizar información de varios de estos módulos para sacar datos interesantes. "
   ]
  },
  {
   "cell_type": "markdown",
   "metadata": {
    "id": "ENzVKXEGGFI3"
   },
   "source": [
    "1. Lee ambos archivos csv con pandas y asígnales un nombre para que puedas trabajar con ambos como base de datos. (Si es que sale un error, es debido a que nuestras encuestas están en español y tienen caracteres como ˜ de la ñ o el acento. Por ello, a las opciones de lectura del csv, agrega la siguiente opción ``` encoding = \"latin-1\" ```. \n",
    "\n",
    "(No olvides importar pandas 🐼)\n",
    "\n",
    "\n",
    "En caso tus columnas salgan con el nombre en mayúscula, puedes correr el siguiente comando para cambiarlas a minúsculas:\n",
    "\n",
    "``` python3 \n",
    "df.columns= df.columns.str.lower()\n",
    "``` \n",
    "Donde `df` es el nombre del dataframe.   \n",
    "(En esta clase no ahondamos en el manejo de strings, pero `lower()` es un método de este tipo de variables para convertir el string a minúscula.)"
   ]
  },
  {
   "cell_type": "code",
   "execution_count": 5,
   "metadata": {
    "colab": {
     "base_uri": "https://localhost:8080/",
     "height": 107,
     "resources": {
      "http://localhost:8080/nbextensions/google.colab/files.js": {
       "data": "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",
       "headers": [
        [
         "content-type",
         "application/javascript"
        ]
       ],
       "ok": true,
       "status": 200,
       "status_text": ""
      }
     }
    },
    "id": "NRCgHgylGFI4",
    "outputId": "e01336e4-d6fe-4733-c0ea-e3b038e811d2"
   },
   "outputs": [],
   "source": [
    "import pandas as pd"
   ]
  },
  {
   "cell_type": "code",
   "execution_count": 6,
   "metadata": {
    "colab": {
     "base_uri": "https://localhost:8080/"
    },
    "id": "D3nH98YkN20p",
    "outputId": "50fbe805-bb8e-407c-880c-fdc26e0ec627"
   },
   "outputs": [
    {
     "data": {
      "text/html": [
       "<div>\n",
       "<style scoped>\n",
       "    .dataframe tbody tr th:only-of-type {\n",
       "        vertical-align: middle;\n",
       "    }\n",
       "\n",
       "    .dataframe tbody tr th {\n",
       "        vertical-align: top;\n",
       "    }\n",
       "\n",
       "    .dataframe thead th {\n",
       "        text-align: right;\n",
       "    }\n",
       "</style>\n",
       "<table border=\"1\" class=\"dataframe\">\n",
       "  <thead>\n",
       "    <tr style=\"text-align: right;\">\n",
       "      <th></th>\n",
       "      <th>año</th>\n",
       "      <th>mes</th>\n",
       "      <th>conglome</th>\n",
       "      <th>vivienda</th>\n",
       "      <th>hogar</th>\n",
       "      <th>ubigeo</th>\n",
       "      <th>dominio</th>\n",
       "      <th>estrato</th>\n",
       "      <th>periodo</th>\n",
       "      <th>tipenc</th>\n",
       "      <th>...</th>\n",
       "      <th>nbi4</th>\n",
       "      <th>nbi5</th>\n",
       "      <th>factor07</th>\n",
       "      <th>nconglome</th>\n",
       "      <th>sub_conglome</th>\n",
       "      <th>codccpp</th>\n",
       "      <th>nomccpp</th>\n",
       "      <th>longitud</th>\n",
       "      <th>latitud</th>\n",
       "      <th>altitud</th>\n",
       "    </tr>\n",
       "  </thead>\n",
       "  <tbody>\n",
       "    <tr>\n",
       "      <th>0</th>\n",
       "      <td>2022</td>\n",
       "      <td>2</td>\n",
       "      <td>5007</td>\n",
       "      <td>3</td>\n",
       "      <td>11</td>\n",
       "      <td>10101</td>\n",
       "      <td>4</td>\n",
       "      <td>4</td>\n",
       "      <td>1</td>\n",
       "      <td>3</td>\n",
       "      <td>...</td>\n",
       "      <td>0</td>\n",
       "      <td>0</td>\n",
       "      <td>45.282372</td>\n",
       "      <td>7070</td>\n",
       "      <td>0</td>\n",
       "      <td>1</td>\n",
       "      <td>CIUDAD CHACHAPOYAS</td>\n",
       "      <td>-77.873924</td>\n",
       "      <td>-6.229049</td>\n",
       "      <td>2338.0</td>\n",
       "    </tr>\n",
       "    <tr>\n",
       "      <th>1</th>\n",
       "      <td>2022</td>\n",
       "      <td>2</td>\n",
       "      <td>5007</td>\n",
       "      <td>12</td>\n",
       "      <td>11</td>\n",
       "      <td>10101</td>\n",
       "      <td>4</td>\n",
       "      <td>4</td>\n",
       "      <td>1</td>\n",
       "      <td>3</td>\n",
       "      <td>...</td>\n",
       "      <td>0</td>\n",
       "      <td>0</td>\n",
       "      <td>45.282372</td>\n",
       "      <td>7070</td>\n",
       "      <td>0</td>\n",
       "      <td>1</td>\n",
       "      <td>CIUDAD CHACHAPOYAS</td>\n",
       "      <td>-77.873924</td>\n",
       "      <td>-6.229049</td>\n",
       "      <td>2338.0</td>\n",
       "    </tr>\n",
       "    <tr>\n",
       "      <th>2</th>\n",
       "      <td>2022</td>\n",
       "      <td>2</td>\n",
       "      <td>5007</td>\n",
       "      <td>22</td>\n",
       "      <td>11</td>\n",
       "      <td>10101</td>\n",
       "      <td>4</td>\n",
       "      <td>4</td>\n",
       "      <td>1</td>\n",
       "      <td>3</td>\n",
       "      <td>...</td>\n",
       "      <td>0</td>\n",
       "      <td>0</td>\n",
       "      <td>45.282372</td>\n",
       "      <td>7070</td>\n",
       "      <td>0</td>\n",
       "      <td>1</td>\n",
       "      <td>CIUDAD CHACHAPOYAS</td>\n",
       "      <td>-77.873924</td>\n",
       "      <td>-6.229049</td>\n",
       "      <td>2338.0</td>\n",
       "    </tr>\n",
       "    <tr>\n",
       "      <th>3</th>\n",
       "      <td>2022</td>\n",
       "      <td>2</td>\n",
       "      <td>5007</td>\n",
       "      <td>31</td>\n",
       "      <td>11</td>\n",
       "      <td>10101</td>\n",
       "      <td>4</td>\n",
       "      <td>4</td>\n",
       "      <td>1</td>\n",
       "      <td>3</td>\n",
       "      <td>...</td>\n",
       "      <td></td>\n",
       "      <td></td>\n",
       "      <td>45.282372</td>\n",
       "      <td>7070</td>\n",
       "      <td>0</td>\n",
       "      <td>1</td>\n",
       "      <td>CIUDAD CHACHAPOYAS</td>\n",
       "      <td>-77.873924</td>\n",
       "      <td>-6.229049</td>\n",
       "      <td>2338.0</td>\n",
       "    </tr>\n",
       "    <tr>\n",
       "      <th>4</th>\n",
       "      <td>2022</td>\n",
       "      <td>2</td>\n",
       "      <td>5007</td>\n",
       "      <td>50</td>\n",
       "      <td>11</td>\n",
       "      <td>10101</td>\n",
       "      <td>4</td>\n",
       "      <td>4</td>\n",
       "      <td>1</td>\n",
       "      <td>3</td>\n",
       "      <td>...</td>\n",
       "      <td>0</td>\n",
       "      <td>0</td>\n",
       "      <td>45.282372</td>\n",
       "      <td>7070</td>\n",
       "      <td>0</td>\n",
       "      <td>1</td>\n",
       "      <td>CIUDAD CHACHAPOYAS</td>\n",
       "      <td>-77.873924</td>\n",
       "      <td>-6.229049</td>\n",
       "      <td>2338.0</td>\n",
       "    </tr>\n",
       "    <tr>\n",
       "      <th>5</th>\n",
       "      <td>2022</td>\n",
       "      <td>2</td>\n",
       "      <td>5007</td>\n",
       "      <td>62</td>\n",
       "      <td>11</td>\n",
       "      <td>10101</td>\n",
       "      <td>4</td>\n",
       "      <td>4</td>\n",
       "      <td>1</td>\n",
       "      <td>3</td>\n",
       "      <td>...</td>\n",
       "      <td></td>\n",
       "      <td></td>\n",
       "      <td>45.282372</td>\n",
       "      <td>7070</td>\n",
       "      <td>0</td>\n",
       "      <td>1</td>\n",
       "      <td>CIUDAD CHACHAPOYAS</td>\n",
       "      <td>-77.873924</td>\n",
       "      <td>-6.229049</td>\n",
       "      <td>2338.0</td>\n",
       "    </tr>\n",
       "    <tr>\n",
       "      <th>6</th>\n",
       "      <td>2022</td>\n",
       "      <td>2</td>\n",
       "      <td>5007</td>\n",
       "      <td>69</td>\n",
       "      <td>11</td>\n",
       "      <td>10101</td>\n",
       "      <td>4</td>\n",
       "      <td>4</td>\n",
       "      <td>1</td>\n",
       "      <td>3</td>\n",
       "      <td>...</td>\n",
       "      <td></td>\n",
       "      <td></td>\n",
       "      <td>45.282372</td>\n",
       "      <td>7070</td>\n",
       "      <td>0</td>\n",
       "      <td>1</td>\n",
       "      <td>CIUDAD CHACHAPOYAS</td>\n",
       "      <td>-77.873924</td>\n",
       "      <td>-6.229049</td>\n",
       "      <td>2338.0</td>\n",
       "    </tr>\n",
       "    <tr>\n",
       "      <th>7</th>\n",
       "      <td>2022</td>\n",
       "      <td>2</td>\n",
       "      <td>5007</td>\n",
       "      <td>90</td>\n",
       "      <td>11</td>\n",
       "      <td>10101</td>\n",
       "      <td>4</td>\n",
       "      <td>4</td>\n",
       "      <td>1</td>\n",
       "      <td>3</td>\n",
       "      <td>...</td>\n",
       "      <td></td>\n",
       "      <td></td>\n",
       "      <td>45.282372</td>\n",
       "      <td>7070</td>\n",
       "      <td>0</td>\n",
       "      <td>1</td>\n",
       "      <td>CIUDAD CHACHAPOYAS</td>\n",
       "      <td>-77.873924</td>\n",
       "      <td>-6.229049</td>\n",
       "      <td>2338.0</td>\n",
       "    </tr>\n",
       "    <tr>\n",
       "      <th>8</th>\n",
       "      <td>2022</td>\n",
       "      <td>3</td>\n",
       "      <td>5009</td>\n",
       "      <td>12</td>\n",
       "      <td>11</td>\n",
       "      <td>10101</td>\n",
       "      <td>4</td>\n",
       "      <td>4</td>\n",
       "      <td>1</td>\n",
       "      <td>3</td>\n",
       "      <td>...</td>\n",
       "      <td></td>\n",
       "      <td></td>\n",
       "      <td>167.946182</td>\n",
       "      <td>7076</td>\n",
       "      <td>0</td>\n",
       "      <td>1</td>\n",
       "      <td>CIUDAD CHACHAPOYAS</td>\n",
       "      <td>-77.861290</td>\n",
       "      <td>-6.225835</td>\n",
       "      <td>2287.0</td>\n",
       "    </tr>\n",
       "    <tr>\n",
       "      <th>9</th>\n",
       "      <td>2022</td>\n",
       "      <td>3</td>\n",
       "      <td>5009</td>\n",
       "      <td>41</td>\n",
       "      <td>11</td>\n",
       "      <td>10101</td>\n",
       "      <td>4</td>\n",
       "      <td>4</td>\n",
       "      <td>1</td>\n",
       "      <td>3</td>\n",
       "      <td>...</td>\n",
       "      <td></td>\n",
       "      <td></td>\n",
       "      <td>167.946182</td>\n",
       "      <td>7076</td>\n",
       "      <td>0</td>\n",
       "      <td>1</td>\n",
       "      <td>CIUDAD CHACHAPOYAS</td>\n",
       "      <td>-77.861290</td>\n",
       "      <td>-6.225835</td>\n",
       "      <td>2287.0</td>\n",
       "    </tr>\n",
       "  </tbody>\n",
       "</table>\n",
       "<p>10 rows × 324 columns</p>\n",
       "</div>"
      ],
      "text/plain": [
       "    año  mes  conglome  vivienda  hogar  ubigeo  dominio  estrato  periodo  \\\n",
       "0  2022    2      5007         3     11   10101        4        4        1   \n",
       "1  2022    2      5007        12     11   10101        4        4        1   \n",
       "2  2022    2      5007        22     11   10101        4        4        1   \n",
       "3  2022    2      5007        31     11   10101        4        4        1   \n",
       "4  2022    2      5007        50     11   10101        4        4        1   \n",
       "5  2022    2      5007        62     11   10101        4        4        1   \n",
       "6  2022    2      5007        69     11   10101        4        4        1   \n",
       "7  2022    2      5007        90     11   10101        4        4        1   \n",
       "8  2022    3      5009        12     11   10101        4        4        1   \n",
       "9  2022    3      5009        41     11   10101        4        4        1   \n",
       "\n",
       "   tipenc  ...  nbi4  nbi5    factor07 nconglome sub_conglome codccpp  \\\n",
       "0       3  ...     0     0   45.282372      7070            0       1   \n",
       "1       3  ...     0     0   45.282372      7070            0       1   \n",
       "2       3  ...     0     0   45.282372      7070            0       1   \n",
       "3       3  ...               45.282372      7070            0       1   \n",
       "4       3  ...     0     0   45.282372      7070            0       1   \n",
       "5       3  ...               45.282372      7070            0       1   \n",
       "6       3  ...               45.282372      7070            0       1   \n",
       "7       3  ...               45.282372      7070            0       1   \n",
       "8       3  ...              167.946182      7076            0       1   \n",
       "9       3  ...              167.946182      7076            0       1   \n",
       "\n",
       "              nomccpp   longitud   latitud altitud  \n",
       "0  CIUDAD CHACHAPOYAS -77.873924 -6.229049  2338.0  \n",
       "1  CIUDAD CHACHAPOYAS -77.873924 -6.229049  2338.0  \n",
       "2  CIUDAD CHACHAPOYAS -77.873924 -6.229049  2338.0  \n",
       "3  CIUDAD CHACHAPOYAS -77.873924 -6.229049  2338.0  \n",
       "4  CIUDAD CHACHAPOYAS -77.873924 -6.229049  2338.0  \n",
       "5  CIUDAD CHACHAPOYAS -77.873924 -6.229049  2338.0  \n",
       "6  CIUDAD CHACHAPOYAS -77.873924 -6.229049  2338.0  \n",
       "7  CIUDAD CHACHAPOYAS -77.873924 -6.229049  2338.0  \n",
       "8  CIUDAD CHACHAPOYAS -77.861290 -6.225835  2287.0  \n",
       "9  CIUDAD CHACHAPOYAS -77.861290 -6.225835  2287.0  \n",
       "\n",
       "[10 rows x 324 columns]"
      ]
     },
     "execution_count": 6,
     "metadata": {},
     "output_type": "execute_result"
    }
   ],
   "source": [
    "df_mod1 = pd.read_csv('Enaho01-2022-100.csv',\n",
    "                      encoding = \"latin-1\")\n",
    "df_mod1.columns= df_mod1.columns.str.lower()\n",
    "df_mod1.head(10) # En adelante, nos referiremos al data frame para el modulo 1 de la ENAHO como df_mod1"
   ]
  },
  {
   "cell_type": "code",
   "execution_count": 7,
   "metadata": {},
   "outputs": [
    {
     "data": {
      "text/html": [
       "<div>\n",
       "<style scoped>\n",
       "    .dataframe tbody tr th:only-of-type {\n",
       "        vertical-align: middle;\n",
       "    }\n",
       "\n",
       "    .dataframe tbody tr th {\n",
       "        vertical-align: top;\n",
       "    }\n",
       "\n",
       "    .dataframe thead th {\n",
       "        text-align: right;\n",
       "    }\n",
       "</style>\n",
       "<table border=\"1\" class=\"dataframe\">\n",
       "  <thead>\n",
       "    <tr style=\"text-align: right;\">\n",
       "      <th></th>\n",
       "      <th>año</th>\n",
       "      <th>mes</th>\n",
       "      <th>conglome</th>\n",
       "      <th>vivienda</th>\n",
       "      <th>hogar</th>\n",
       "      <th>ubigeo</th>\n",
       "      <th>dominio</th>\n",
       "      <th>estrato</th>\n",
       "      <th>mieperho</th>\n",
       "      <th>totmieho</th>\n",
       "      <th>...</th>\n",
       "      <th>estrsocial</th>\n",
       "      <th>factor07</th>\n",
       "      <th>ld</th>\n",
       "      <th>linpe</th>\n",
       "      <th>linea</th>\n",
       "      <th>pobreza</th>\n",
       "      <th>lineav</th>\n",
       "      <th>pobrezav</th>\n",
       "      <th>nconglome</th>\n",
       "      <th>sub_conglome</th>\n",
       "    </tr>\n",
       "  </thead>\n",
       "  <tbody>\n",
       "    <tr>\n",
       "      <th>0</th>\n",
       "      <td>2022</td>\n",
       "      <td>1</td>\n",
       "      <td>5030</td>\n",
       "      <td>8</td>\n",
       "      <td>11</td>\n",
       "      <td>10201</td>\n",
       "      <td>7</td>\n",
       "      <td>4</td>\n",
       "      <td>2</td>\n",
       "      <td>2</td>\n",
       "      <td>...</td>\n",
       "      <td>4</td>\n",
       "      <td>106.890244</td>\n",
       "      <td>0.809237</td>\n",
       "      <td>223.765335</td>\n",
       "      <td>378.169434</td>\n",
       "      <td>3</td>\n",
       "      <td>636.334351</td>\n",
       "      <td>4</td>\n",
       "      <td>6618</td>\n",
       "      <td>0</td>\n",
       "    </tr>\n",
       "    <tr>\n",
       "      <th>1</th>\n",
       "      <td>2022</td>\n",
       "      <td>1</td>\n",
       "      <td>5030</td>\n",
       "      <td>17</td>\n",
       "      <td>11</td>\n",
       "      <td>10201</td>\n",
       "      <td>7</td>\n",
       "      <td>4</td>\n",
       "      <td>2</td>\n",
       "      <td>2</td>\n",
       "      <td>...</td>\n",
       "      <td>4</td>\n",
       "      <td>106.890244</td>\n",
       "      <td>0.809237</td>\n",
       "      <td>223.765335</td>\n",
       "      <td>378.169434</td>\n",
       "      <td>3</td>\n",
       "      <td>662.069275</td>\n",
       "      <td>4</td>\n",
       "      <td>6618</td>\n",
       "      <td>0</td>\n",
       "    </tr>\n",
       "    <tr>\n",
       "      <th>2</th>\n",
       "      <td>2022</td>\n",
       "      <td>1</td>\n",
       "      <td>5030</td>\n",
       "      <td>33</td>\n",
       "      <td>11</td>\n",
       "      <td>10201</td>\n",
       "      <td>7</td>\n",
       "      <td>4</td>\n",
       "      <td>4</td>\n",
       "      <td>4</td>\n",
       "      <td>...</td>\n",
       "      <td>4</td>\n",
       "      <td>106.890244</td>\n",
       "      <td>0.809237</td>\n",
       "      <td>223.765335</td>\n",
       "      <td>378.169434</td>\n",
       "      <td>3</td>\n",
       "      <td>662.475037</td>\n",
       "      <td>3</td>\n",
       "      <td>6618</td>\n",
       "      <td>0</td>\n",
       "    </tr>\n",
       "    <tr>\n",
       "      <th>3</th>\n",
       "      <td>2022</td>\n",
       "      <td>1</td>\n",
       "      <td>5030</td>\n",
       "      <td>50</td>\n",
       "      <td>11</td>\n",
       "      <td>10201</td>\n",
       "      <td>7</td>\n",
       "      <td>4</td>\n",
       "      <td>3</td>\n",
       "      <td>3</td>\n",
       "      <td>...</td>\n",
       "      <td>4</td>\n",
       "      <td>106.890244</td>\n",
       "      <td>0.809237</td>\n",
       "      <td>223.765335</td>\n",
       "      <td>378.169434</td>\n",
       "      <td>3</td>\n",
       "      <td>652.384521</td>\n",
       "      <td>3</td>\n",
       "      <td>6618</td>\n",
       "      <td>0</td>\n",
       "    </tr>\n",
       "    <tr>\n",
       "      <th>4</th>\n",
       "      <td>2022</td>\n",
       "      <td>1</td>\n",
       "      <td>5030</td>\n",
       "      <td>59</td>\n",
       "      <td>11</td>\n",
       "      <td>10201</td>\n",
       "      <td>7</td>\n",
       "      <td>4</td>\n",
       "      <td>11</td>\n",
       "      <td>11</td>\n",
       "      <td>...</td>\n",
       "      <td>4</td>\n",
       "      <td>106.890244</td>\n",
       "      <td>0.809237</td>\n",
       "      <td>223.765335</td>\n",
       "      <td>378.169434</td>\n",
       "      <td>2</td>\n",
       "      <td>654.640137</td>\n",
       "      <td>2</td>\n",
       "      <td>6618</td>\n",
       "      <td>0</td>\n",
       "    </tr>\n",
       "    <tr>\n",
       "      <th>5</th>\n",
       "      <td>2022</td>\n",
       "      <td>1</td>\n",
       "      <td>5049</td>\n",
       "      <td>3</td>\n",
       "      <td>11</td>\n",
       "      <td>10701</td>\n",
       "      <td>7</td>\n",
       "      <td>4</td>\n",
       "      <td>4</td>\n",
       "      <td>4</td>\n",
       "      <td>...</td>\n",
       "      <td>5</td>\n",
       "      <td>158.351349</td>\n",
       "      <td>0.809237</td>\n",
       "      <td>223.765335</td>\n",
       "      <td>378.169434</td>\n",
       "      <td>3</td>\n",
       "      <td>674.000793</td>\n",
       "      <td>3</td>\n",
       "      <td>6719</td>\n",
       "      <td>0</td>\n",
       "    </tr>\n",
       "    <tr>\n",
       "      <th>6</th>\n",
       "      <td>2022</td>\n",
       "      <td>1</td>\n",
       "      <td>5049</td>\n",
       "      <td>9</td>\n",
       "      <td>11</td>\n",
       "      <td>10701</td>\n",
       "      <td>7</td>\n",
       "      <td>4</td>\n",
       "      <td>5</td>\n",
       "      <td>5</td>\n",
       "      <td>...</td>\n",
       "      <td>5</td>\n",
       "      <td>158.351349</td>\n",
       "      <td>0.809237</td>\n",
       "      <td>223.765335</td>\n",
       "      <td>378.169434</td>\n",
       "      <td>3</td>\n",
       "      <td>615.735962</td>\n",
       "      <td>3</td>\n",
       "      <td>6719</td>\n",
       "      <td>0</td>\n",
       "    </tr>\n",
       "    <tr>\n",
       "      <th>7</th>\n",
       "      <td>2022</td>\n",
       "      <td>1</td>\n",
       "      <td>5049</td>\n",
       "      <td>19</td>\n",
       "      <td>11</td>\n",
       "      <td>10701</td>\n",
       "      <td>7</td>\n",
       "      <td>4</td>\n",
       "      <td>2</td>\n",
       "      <td>2</td>\n",
       "      <td>...</td>\n",
       "      <td>5</td>\n",
       "      <td>158.351349</td>\n",
       "      <td>0.809237</td>\n",
       "      <td>223.765335</td>\n",
       "      <td>378.169434</td>\n",
       "      <td>2</td>\n",
       "      <td>676.475403</td>\n",
       "      <td>2</td>\n",
       "      <td>6719</td>\n",
       "      <td>0</td>\n",
       "    </tr>\n",
       "    <tr>\n",
       "      <th>8</th>\n",
       "      <td>2022</td>\n",
       "      <td>1</td>\n",
       "      <td>5049</td>\n",
       "      <td>24</td>\n",
       "      <td>11</td>\n",
       "      <td>10701</td>\n",
       "      <td>7</td>\n",
       "      <td>4</td>\n",
       "      <td>4</td>\n",
       "      <td>4</td>\n",
       "      <td>...</td>\n",
       "      <td>5</td>\n",
       "      <td>158.351349</td>\n",
       "      <td>0.809237</td>\n",
       "      <td>223.765335</td>\n",
       "      <td>378.169434</td>\n",
       "      <td>2</td>\n",
       "      <td>650.410583</td>\n",
       "      <td>2</td>\n",
       "      <td>6719</td>\n",
       "      <td>0</td>\n",
       "    </tr>\n",
       "    <tr>\n",
       "      <th>9</th>\n",
       "      <td>2022</td>\n",
       "      <td>1</td>\n",
       "      <td>5049</td>\n",
       "      <td>28</td>\n",
       "      <td>11</td>\n",
       "      <td>10701</td>\n",
       "      <td>7</td>\n",
       "      <td>4</td>\n",
       "      <td>1</td>\n",
       "      <td>1</td>\n",
       "      <td>...</td>\n",
       "      <td>5</td>\n",
       "      <td>158.351349</td>\n",
       "      <td>0.809237</td>\n",
       "      <td>223.765335</td>\n",
       "      <td>378.169434</td>\n",
       "      <td>2</td>\n",
       "      <td>650.817871</td>\n",
       "      <td>2</td>\n",
       "      <td>6719</td>\n",
       "      <td>0</td>\n",
       "    </tr>\n",
       "  </tbody>\n",
       "</table>\n",
       "<p>10 rows × 167 columns</p>\n",
       "</div>"
      ],
      "text/plain": [
       "    año  mes  conglome  vivienda  hogar  ubigeo  dominio  estrato  mieperho  \\\n",
       "0  2022    1      5030         8     11   10201        7        4         2   \n",
       "1  2022    1      5030        17     11   10201        7        4         2   \n",
       "2  2022    1      5030        33     11   10201        7        4         4   \n",
       "3  2022    1      5030        50     11   10201        7        4         3   \n",
       "4  2022    1      5030        59     11   10201        7        4        11   \n",
       "5  2022    1      5049         3     11   10701        7        4         4   \n",
       "6  2022    1      5049         9     11   10701        7        4         5   \n",
       "7  2022    1      5049        19     11   10701        7        4         2   \n",
       "8  2022    1      5049        24     11   10701        7        4         4   \n",
       "9  2022    1      5049        28     11   10701        7        4         1   \n",
       "\n",
       "   totmieho  ...  estrsocial    factor07        ld       linpe       linea  \\\n",
       "0         2  ...           4  106.890244  0.809237  223.765335  378.169434   \n",
       "1         2  ...           4  106.890244  0.809237  223.765335  378.169434   \n",
       "2         4  ...           4  106.890244  0.809237  223.765335  378.169434   \n",
       "3         3  ...           4  106.890244  0.809237  223.765335  378.169434   \n",
       "4        11  ...           4  106.890244  0.809237  223.765335  378.169434   \n",
       "5         4  ...           5  158.351349  0.809237  223.765335  378.169434   \n",
       "6         5  ...           5  158.351349  0.809237  223.765335  378.169434   \n",
       "7         2  ...           5  158.351349  0.809237  223.765335  378.169434   \n",
       "8         4  ...           5  158.351349  0.809237  223.765335  378.169434   \n",
       "9         1  ...           5  158.351349  0.809237  223.765335  378.169434   \n",
       "\n",
       "   pobreza      lineav  pobrezav  nconglome  sub_conglome  \n",
       "0        3  636.334351         4       6618             0  \n",
       "1        3  662.069275         4       6618             0  \n",
       "2        3  662.475037         3       6618             0  \n",
       "3        3  652.384521         3       6618             0  \n",
       "4        2  654.640137         2       6618             0  \n",
       "5        3  674.000793         3       6719             0  \n",
       "6        3  615.735962         3       6719             0  \n",
       "7        2  676.475403         2       6719             0  \n",
       "8        2  650.410583         2       6719             0  \n",
       "9        2  650.817871         2       6719             0  \n",
       "\n",
       "[10 rows x 167 columns]"
      ]
     },
     "execution_count": 7,
     "metadata": {},
     "output_type": "execute_result"
    }
   ],
   "source": [
    "df_sum = pd.read_csv('Sumaria-2022.csv',\n",
    "                      encoding = \"latin-1\")\n",
    "df_sum.columns= df_sum.columns.str.lower()\n",
    "df_sum.head(10) # En adelante, nos referiremos al data frame para el modulo sumaria de la ENAHO como df_sum"
   ]
  },
  {
   "cell_type": "markdown",
   "metadata": {
    "id": "imIgmrpZGFI4"
   },
   "source": [
    "2. - ¿Cuáles son las dimensiones de la sumaria? (o el número de filas y columnas).\n",
    "   - ¿Cuáles son las dimensiones del módulo de vivienda? (o el número de filas y columnas)."
   ]
  },
  {
   "cell_type": "code",
   "execution_count": 9,
   "metadata": {
    "colab": {
     "base_uri": "https://localhost:8080/"
    },
    "id": "9lsnOaPLGFI5",
    "outputId": "230ea716-a2a6-407a-d6eb-88047fa69e8b"
   },
   "outputs": [
    {
     "data": {
      "text/plain": [
       "(34213, 167)"
      ]
     },
     "execution_count": 9,
     "metadata": {},
     "output_type": "execute_result"
    }
   ],
   "source": [
    "df_sum.shape"
   ]
  },
  {
   "cell_type": "code",
   "execution_count": 10,
   "metadata": {
    "colab": {
     "base_uri": "https://localhost:8080/"
    },
    "id": "2jYjHCcrUQQg",
    "outputId": "611a3a79-7139-4aa6-ea58-8e7cdd79372a"
   },
   "outputs": [
    {
     "data": {
      "text/plain": [
       "(44122, 324)"
      ]
     },
     "execution_count": 10,
     "metadata": {},
     "output_type": "execute_result"
    }
   ],
   "source": [
    "df_mod1.shape"
   ]
  },
  {
   "cell_type": "markdown",
   "metadata": {
    "id": "ahCSvQG2GFI5"
   },
   "source": [
    "3. En esta oportunidad no necesitaremos todas las variables de la ENAHO para hacer esta tarea. \n",
    "- Quedémonos con las variables ``` CONGLOME VIVIENDA HOGAR MIEPERHO PERCEPHO POBREZA GASHOG2D INGHOG2D UBIGEO``` de la sumaria. \n",
    "- Quedémonos con las variables ``` CONGLOME VIVIENDA HOGAR RESULT NBI1 NBI2 NBI3 NBI4 NBI5 ``` del módulo de vivienda.\n",
    "\n",
    " \n",
    " Nota: cada una de las variables es:\n",
    "- MIEPERHO: número de miembros del hogar. \n",
    "- PERCEPHO: número de perceptores del hogar (que reciben un ingreso). \n",
    "- POBREZA: Pobreza monetaria según la línea de pobreza. \n",
    "- GASHOG2D: Gasto bruto anual del hogar. \n",
    "- INGHOG2D: Ingreso anual neto total del hogar. \n",
    "- UBIGEO: Código de 6 dígitos que indica el distrito de pertenencia de la persona. \n",
    "\n",
    "Necesidades básicas:\n",
    "- NBI1: vivienda inadecuada.\n",
    "- NBI2: hacinamiento\n",
    "- NBI3: vivienda sin servicios higiénicos\n",
    "- NBI4: hogares con  niños que no asisten a la escuela.\n",
    "- NBI5: hogares con alta dependencia económica \n",
    "\n",
    "CONGLOME, VIVIENDA y HOGAR son los identificadores únicos a nivel de hogar (como un key id)."
   ]
  },
  {
   "cell_type": "code",
   "execution_count": 12,
   "metadata": {
    "colab": {
     "base_uri": "https://localhost:8080/",
     "height": 424
    },
    "id": "D0vuGKPBGFI6",
    "outputId": "a4265063-bd23-467f-fda2-851c9c88cc43"
   },
   "outputs": [
    {
     "data": {
      "text/plain": [
       "(34213, 9)"
      ]
     },
     "execution_count": 12,
     "metadata": {},
     "output_type": "execute_result"
    }
   ],
   "source": [
    "df_sum = df_sum[['conglome', 'vivienda', 'hogar', 'mieperho', 'percepho', 'pobreza', 'gashog2d', 'inghog2d', 'ubigeo']]\n",
    "\n",
    "df_sum.shape"
   ]
  },
  {
   "cell_type": "code",
   "execution_count": 13,
   "metadata": {
    "colab": {
     "base_uri": "https://localhost:8080/",
     "height": 424
    },
    "id": "D0vuGKPBGFI6",
    "outputId": "a4265063-bd23-467f-fda2-851c9c88cc43"
   },
   "outputs": [
    {
     "data": {
      "text/plain": [
       "(44122, 9)"
      ]
     },
     "execution_count": 13,
     "metadata": {},
     "output_type": "execute_result"
    }
   ],
   "source": [
    "df_mod1 = df_mod1[['conglome', 'vivienda', 'hogar', 'result', 'nbi1', 'nbi2', 'nbi3', 'nbi4', 'nbi5']]\n",
    "\n",
    "df_mod1.shape"
   ]
  },
  {
   "cell_type": "markdown",
   "metadata": {
    "id": "vocY0qhOGFI7"
   },
   "source": [
    "4. El módulo vivienda incluye todos los hogares que entraron en el marco muestral, incluso aquellos que no participaron en la ENAHO por diversos motivos. Para eliminar estas viviendas, quedémonos con aquellas cuyo ``` RESULT``` sea igual a 1 ó 2. Almacena este resultado para después."
   ]
  },
  {
   "cell_type": "code",
   "execution_count": 15,
   "metadata": {
    "colab": {
     "base_uri": "https://localhost:8080/",
     "height": 424
    },
    "id": "pJEF71fWVd2y",
    "outputId": "4481fb05-52f6-47c5-ec70-b696fa17e0d8"
   },
   "outputs": [
    {
     "data": {
      "text/plain": [
       "0        1\n",
       "1        1\n",
       "2        1\n",
       "3        4\n",
       "4        1\n",
       "        ..\n",
       "44117    1\n",
       "44118    1\n",
       "44119    1\n",
       "44120    7\n",
       "44121    2\n",
       "Name: result, Length: 44122, dtype: int64"
      ]
     },
     "execution_count": 15,
     "metadata": {},
     "output_type": "execute_result"
    }
   ],
   "source": [
    "df_mod1['result']"
   ]
  },
  {
   "cell_type": "code",
   "execution_count": 16,
   "metadata": {
    "colab": {
     "base_uri": "https://localhost:8080/",
     "height": 424
    },
    "id": "rnjyKBpOzakf",
    "outputId": "bcf7affc-10ff-447e-dccf-6ff1a627505e"
   },
   "outputs": [],
   "source": [
    "df_mod1 = df_mod1 = df_mod1[df_mod1['result'].isin([1,2])]"
   ]
  },
  {
   "cell_type": "code",
   "execution_count": 17,
   "metadata": {},
   "outputs": [
    {
     "data": {
      "text/plain": [
       "(34213, 9)"
      ]
     },
     "execution_count": 17,
     "metadata": {},
     "output_type": "execute_result"
    }
   ],
   "source": [
    "df_mod1.shape # Antes tenía 44122 observaciones, ahora solo tiene 34213\n"
   ]
  },
  {
   "cell_type": "markdown",
   "metadata": {
    "id": "aBSH3uJmGFI8"
   },
   "source": [
    "5. Queremos calcular una serie de variables (ó columnas nuevas):  \n",
    "En sumaria: \n",
    "- Queremos el número de miembros dependientes del hogar . Estos son el número de personas que no perciben un ingreso ó la diferencia entre el total de miembros y el total de perceptores. \n",
    "- Queremos el ingreso mensual promedio por perceptor del hogar.\n",
    "- Queremos la diferencia  entre ingreso y gasto del hogar"
   ]
  },
  {
   "cell_type": "code",
   "execution_count": 19,
   "metadata": {
    "colab": {
     "base_uri": "https://localhost:8080/",
     "height": 424
    },
    "id": "i-3FJ80TGFI8",
    "outputId": "23129df3-fb83-4345-e083-f8afa1ffa42a"
   },
   "outputs": [],
   "source": [
    "# tu respuesta aquí\n",
    "# Pista: evaluar los tipos de las variables, y verificar que aquellas que sean numéricas, efectivamente lo sean."
   ]
  },
  {
   "cell_type": "code",
   "execution_count": 20,
   "metadata": {
    "colab": {
     "base_uri": "https://localhost:8080/",
     "height": 424
    },
    "id": "meC7Yj3S1aS6",
    "outputId": "5ab48861-7024-4451-a62a-8246bb7c2815"
   },
   "outputs": [],
   "source": [
    "# tu respuesta aquí"
   ]
  },
  {
   "cell_type": "code",
   "execution_count": 21,
   "metadata": {
    "colab": {
     "base_uri": "https://localhost:8080/",
     "height": 424
    },
    "id": "Qwy-nwyL30tV",
    "outputId": "6d392be7-452c-4c92-94be-8bbe676b197a"
   },
   "outputs": [],
   "source": [
    "# tu respuesta aquí.\n"
   ]
  },
  {
   "cell_type": "markdown",
   "metadata": {
    "id": "LvQwJHQrGFI8"
   },
   "source": [
    "6. La variable de `pobreza`, en la sumaria, está codificada como integers 1, 2 y 3. Esto corresponde a:  \n",
    "`1`: hogar pobre extremo  \n",
    "`2`: hogar pobre no extremo  \n",
    "`3`: hogar no  pobre  \n",
    "\n",
    "En base a esta variable, crea dos variables más:\n",
    "1. Una variable que tenga `'pobre extremo'`, `'pobre no extremo'` y `'no pobre'` en vez  de 1, 2, 3.\n",
    "2. Una variable que tenga `'pobre'` y `'no pobre'` (ó que englobe a los hogares pobres y pobres no extremos).\n",
    "\n"
   ]
  },
  {
   "cell_type": "code",
   "execution_count": 23,
   "metadata": {
    "colab": {
     "base_uri": "https://localhost:8080/",
     "height": 468
    },
    "id": "GDv1wqGcGFI9",
    "outputId": "a241e092-f7c1-4b5c-f51a-9bb5f9aafb9a"
   },
   "outputs": [],
   "source": [
    "# tu respuesta aquí"
   ]
  },
  {
   "cell_type": "code",
   "execution_count": 24,
   "metadata": {
    "colab": {
     "base_uri": "https://localhost:8080/",
     "height": 468
    },
    "id": "fe0a2u_p61mo",
    "outputId": "392d96e7-a397-43b9-a6ed-1d1823044c19"
   },
   "outputs": [],
   "source": [
    "# tu respuesta aquí"
   ]
  },
  {
   "cell_type": "markdown",
   "metadata": {
    "id": "p3j4pRHnGFI-"
   },
   "source": [
    "7. Queremos saber el promedio de ingresos de los hogares (inghog2d) por nivel de pobreza. Haz un `groupby` para averiguar esto. \n",
    "\n",
    "\n",
    "(Por ejemplo, todos los hogares pobres extremos tendrán un único promedio, y así con las 2 categorías de pobreza adicionales). "
   ]
  },
  {
   "cell_type": "code",
   "execution_count": 39,
   "metadata": {
    "colab": {
     "base_uri": "https://localhost:8080/",
     "height": 175
    },
    "id": "tzRRzKGaGFI-",
    "outputId": "80ac761f-b378-42fa-b97b-6fcf8296c33c"
   },
   "outputs": [
    {
     "data": {
      "text/html": [
       "<div>\n",
       "<style scoped>\n",
       "    .dataframe tbody tr th:only-of-type {\n",
       "        vertical-align: middle;\n",
       "    }\n",
       "\n",
       "    .dataframe tbody tr th {\n",
       "        vertical-align: top;\n",
       "    }\n",
       "\n",
       "    .dataframe thead th {\n",
       "        text-align: right;\n",
       "    }\n",
       "</style>\n",
       "<table border=\"1\" class=\"dataframe\">\n",
       "  <thead>\n",
       "    <tr style=\"text-align: right;\">\n",
       "      <th></th>\n",
       "      <th>inghog2d</th>\n",
       "    </tr>\n",
       "    <tr>\n",
       "      <th>pobreza</th>\n",
       "      <th></th>\n",
       "    </tr>\n",
       "  </thead>\n",
       "  <tbody>\n",
       "    <tr>\n",
       "      <th>1</th>\n",
       "      <td>12945.434301</td>\n",
       "    </tr>\n",
       "    <tr>\n",
       "      <th>2</th>\n",
       "      <td>20042.135942</td>\n",
       "    </tr>\n",
       "    <tr>\n",
       "      <th>3</th>\n",
       "      <td>40513.933057</td>\n",
       "    </tr>\n",
       "  </tbody>\n",
       "</table>\n",
       "</div>"
      ],
      "text/plain": [
       "             inghog2d\n",
       "pobreza              \n",
       "1        12945.434301\n",
       "2        20042.135942\n",
       "3        40513.933057"
      ]
     },
     "execution_count": 39,
     "metadata": {},
     "output_type": "execute_result"
    }
   ],
   "source": [
    "df_sum[['inghog2d', 'pobreza']].groupby('pobreza').mean()"
   ]
  },
  {
   "cell_type": "markdown",
   "metadata": {
    "id": "HPdGVw2WGFI-"
   },
   "source": [
    "8. ¡Ahora uniremos los datos!  \n",
    "Pero antes un check de sanidad: Verifica que el número  de filas de ambas bases de datos son las mismas (acuérdate que filtramos las observaciones por `result`).  La ENAHO recolecta información de estos 34,490 hogares a través de todos sus módulos. Para utilizar estos módulos a la vez, realizaremos una \"unión\" (merge).   \n",
    "\n",
    "Une ambas bases con un _inner merge_. Recuerda que el id que identifica a cada hogar se compone de ` conglome vivienda hogar`.  "
   ]
  },
  {
   "cell_type": "code",
   "execution_count": null,
   "metadata": {
    "colab": {
     "base_uri": "https://localhost:8080/"
    },
    "id": "TqxWCbBr89p1",
    "outputId": "e181f6e9-c2f8-4798-b6bb-493e97eb8e0f"
   },
   "outputs": [],
   "source": [
    "# tu respuesta aquí"
   ]
  },
  {
   "cell_type": "code",
   "execution_count": null,
   "metadata": {
    "colab": {
     "base_uri": "https://localhost:8080/"
    },
    "id": "Iylba8_o9KhK",
    "outputId": "7ee63830-9ecb-4116-b0ca-920a665a6ecc"
   },
   "outputs": [],
   "source": [
    "# tu respuesta aquí"
   ]
  },
  {
   "cell_type": "code",
   "execution_count": null,
   "metadata": {
    "colab": {
     "base_uri": "https://localhost:8080/",
     "height": 488
    },
    "id": "cbYXIqnx9RDz",
    "outputId": "3d05c1dd-1fb5-4b31-d4d4-ba921fc3e1df"
   },
   "outputs": [],
   "source": [
    "# tu respuesta aquí"
   ]
  },
  {
   "cell_type": "markdown",
   "metadata": {
    "id": "U7wgw3R_GFI_"
   },
   "source": [
    "9. Haz un ```groupby``` que agrupe (`agg`) los datos por nivel de pobreza  y la nbi1. Queremos hallar el promedio y la mediana de los ingresos (inghog2d) y los gastos (gashog2d) por el producto cartesiano de las categorías de estas 2 variables - pobreza y nbi 1 -. \n",
    "\n",
    "El producto cartesiano es tan sólo todas las posibles combinaciones entre categorías. \n",
    "En este caso, tendremos:\n",
    "- pobre extremo con nbi1\n",
    "- pobre extremo sin nbi1\n",
    "- pobre no extremo con nbi1\n",
    "- pobre no extremo sin nbi1\n",
    "- no pobre con nbi1\n",
    "- no pobre sin nbi1\n",
    "\n",
    "(Este es un  ejemplo de cómo, al cruzar un indicador de pobreza monetaria -pobreza- y pobreza multidimensional-nbis-, podemos seguir observando brechas)."
   ]
  },
  {
   "cell_type": "code",
   "execution_count": null,
   "metadata": {
    "colab": {
     "base_uri": "https://localhost:8080/"
    },
    "id": "OeyLC00EDrZT",
    "outputId": "1c339323-84e9-4527-858e-55519677840e"
   },
   "outputs": [],
   "source": [
    "# tu respuesta aquí"
   ]
  },
  {
   "cell_type": "markdown",
   "metadata": {
    "id": "ngipWVz3GFI_"
   },
   "source": [
    "10. Crea una variable que nos informe sobre los hogares que tienen al menos dos nbis. Esta tomará el valor de 1 si tiene dos nbis (cualquiera sean estas), 0 en caso contrario (menos de 2). \n",
    "\n",
    "Calcula el promedio de miembros dependientes por cada categoría de esta nueva variable. "
   ]
  },
  {
   "cell_type": "code",
   "execution_count": null,
   "metadata": {
    "colab": {
     "base_uri": "https://localhost:8080/",
     "height": 143
    },
    "id": "8EWBYZFOGFJA",
    "outputId": "4f8617c3-d6fa-46e5-e108-f86556b3c134"
   },
   "outputs": [],
   "source": [
    "# tu respuesta aquí"
   ]
  },
  {
   "cell_type": "markdown",
   "metadata": {
    "id": "FWyfNv0nGFJA"
   },
   "source": [
    "Crédito extra: \n",
    "\n",
    "11. Guarda el dataframe del resultado del ejercicio 9 como un csv. (No es necesario adjuntar este csv, con  que el bloque haya corrido está bien). "
   ]
  },
  {
   "cell_type": "code",
   "execution_count": null,
   "metadata": {
    "id": "0qmac8KrGFJA"
   },
   "outputs": [],
   "source": [
    "# tu respuesta aquí. "
   ]
  },
  {
   "cell_type": "markdown",
   "metadata": {
    "id": "0GToqotdGFJA"
   },
   "source": [
    "12. Haz una tabulación cruzada en donde cuentes el número de personas, por nivel de pobreza, que hay en cada departamento. Este nuevo dataframe tendrá como filas a los departamentos y las nuevas columnas, los 3 niveles de pobreza (pobre extremo, pobre y no pobre). Usa `pivot_table`.\n",
    "\n",
    "*Nota: Los departamentos no necesitan tener nombre, con que estén enumerados del 1 al 25, está bien. \n",
    "Pista: Puedes utilizar una función que guarde el primer dígito de ubigeo cuando el valor es menor a x, y guardar 2 dígitos cuando el valor es mayor.   \n",
    "El método de creación de la variable departamento es libre. \n"
   ]
  },
  {
   "cell_type": "code",
   "execution_count": null,
   "metadata": {
    "id": "AWGNAyjuGFJA"
   },
   "outputs": [],
   "source": [
    "# tu respuesta aquí. "
   ]
  },
  {
   "cell_type": "markdown",
   "metadata": {
    "id": "2gdRa7LcGFJA"
   },
   "source": [
    "# Parte 2"
   ]
  },
  {
   "cell_type": "markdown",
   "metadata": {
    "id": "YHHwSvoMGFJB"
   },
   "source": []
  },
  {
   "cell_type": "markdown",
   "metadata": {},
   "source": [
    "1. Escribe una función que toma dos parámetros numéricos, `a` y `b`, y resta ambos números, de tal forma que `c = a - b`. Expresa `c` como el valor a retornar.  \n"
   ]
  },
  {
   "cell_type": "code",
   "execution_count": null,
   "metadata": {},
   "outputs": [],
   "source": []
  },
  {
   "cell_type": "markdown",
   "metadata": {},
   "source": [
    "2. Escribe una función que transforme la temperatura de grados celsius a grados fahrenheit. La fórmula es:    \n",
    "$F = 1.8*C + 32$"
   ]
  },
  {
   "cell_type": "code",
   "execution_count": null,
   "metadata": {},
   "outputs": [],
   "source": [
    "def celsius_a_fahrenheit(temp_c):\n",
    "    '''\n",
    "    transforma temperatura de celsius a fahrenheit\n",
    "    Input: \n",
    "        temp_c:número float\n",
    "    Ouput: \n",
    "        retorna: número float\n",
    "    '''\n",
    "    \n",
    "    #Escribe aquí tu función \n",
    "    \n",
    "    return temp_f "
   ]
  },
  {
   "cell_type": "code",
   "execution_count": null,
   "metadata": {},
   "outputs": [],
   "source": []
  },
  {
   "cell_type": "markdown",
   "metadata": {},
   "source": [
    "3. \n",
    "\n",
    "3.1. Escribe una función que tome como input una lista de números y calcule su promedio. \n",
    "\n",
    "3.2. Escribe una función que tome como input un diccionario, y que almacene en una lista a todos sus valores.  \n",
    "Es decir. Si el diccionario es el de la clase: \n",
    "`ejem_dict =  {\"Juana\": \"gallina\", \"Martin\": \"gato\", \"Carla\": \"conejo\", \"Cristina\": \"gato\", \"Diego\": \"perro\" } `\n",
    "Queremos un diccionario = `[\"gallina\", \"gato\", \"conejo\",\"gato\", \"perro\"]`"
   ]
  },
  {
   "cell_type": "code",
   "execution_count": null,
   "metadata": {},
   "outputs": [],
   "source": []
  },
  {
   "cell_type": "markdown",
   "metadata": {},
   "source": [
    "4. Tenemos la siguientes función: "
   ]
  },
  {
   "cell_type": "code",
   "execution_count": null,
   "metadata": {},
   "outputs": [],
   "source": [
    "def grado_escolar(edad):\n",
    "    \n",
    "    ''' calcula el grado escolar al que pertences segun tu edad\n",
    "    Input: \n",
    "    edad : int\n",
    "    output: tupla, compuestad de \n",
    "    grado: string\n",
    "    esp: especifico que grado\n",
    "    \n",
    "    '''\n",
    "    \n",
    "    if ((edad < 6) | (edad > 17)):\n",
    "        return \"No está en edad escolar\"\n",
    "    #assert edad > 5 & edad < 17\n",
    "    elif ((edad >=6) & (edad < 12)):\n",
    "        grado = \"Primaria\"\n",
    "        if edad == 6:\n",
    "            esp = \"1er grado\"\n",
    "        elif edad == 7:\n",
    "            esp = \"2do grado\"\n",
    "        elif edad == 8:\n",
    "            esp = \"3er grado\"\n",
    "        elif edad == 9:\n",
    "            esp = \"4to grado\"\n",
    "        elif edad == 10:\n",
    "            esp = \"5to grado\"\n",
    "        else:\n",
    "            esp = \"6to grado\"\n",
    "        \n",
    "    else:\n",
    "        grado = \"Secundaria\"\n",
    "        if edad == 12:\n",
    "            esp = \"1er año\"\n",
    "        elif edad == 13:\n",
    "            esp = \"2do año\"\n",
    "        elif edad == 14:\n",
    "            esp = \"3er año\"\n",
    "        elif edad == 15:\n",
    "            esp = \"4to año\"\n",
    "        else:\n",
    "            esp = \"5to año\"\n",
    "            \n",
    "    return grado, esp"
   ]
  },
  {
   "cell_type": "markdown",
   "metadata": {},
   "source": [
    "\n",
    "Asimismo, tenemos a 7 niños, que tienen las siguientes edades:   \n",
    "    `edades = [2, 4, 6, 7, 10, 15, 16]`  \n",
    "Queremos saber a qué grados/años van estos niños. Para ello, crea una lista vacía. En dicha lista almacenarás el resultado de dicha función para cada una de las edades de esta lista. Utiliza un for loop . \n",
    "\n",
    "Pista: Para familiarizarte con la función, puedes utilizarla con edades dentro del rango de edad escolar. "
   ]
  },
  {
   "cell_type": "code",
   "execution_count": null,
   "metadata": {},
   "outputs": [],
   "source": []
  }
 ],
 "metadata": {
  "colab": {
   "collapsed_sections": [],
   "name": "T3_2022_AV.ipynb",
   "provenance": []
  },
  "kernelspec": {
   "display_name": "Python [conda env:base] *",
   "language": "python",
   "name": "conda-base-py"
  },
  "language_info": {
   "codemirror_mode": {
    "name": "ipython",
    "version": 3
   },
   "file_extension": ".py",
   "mimetype": "text/x-python",
   "name": "python",
   "nbconvert_exporter": "python",
   "pygments_lexer": "ipython3",
   "version": "3.12.2"
  }
 },
 "nbformat": 4,
 "nbformat_minor": 4
}
