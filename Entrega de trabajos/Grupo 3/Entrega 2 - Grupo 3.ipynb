{
 "cells": [
  {
   "cell_type": "markdown",
   "metadata": {
    "id": "oifLIy0lGFIy"
   },
   "source": [
    "# Tarea 4 \n",
    "\n",
    "Hora de entrega: Viernes 14 de marzo, 23:59 pm\n",
    "\n",
    "\n",
    "Entregar la tarea en este notebook, no usar una adicional a esta. \n",
    "\n",
    "\n"
   ]
  },
  {
   "cell_type": "markdown",
   "metadata": {
    "id": "yjEzI3TpGFI2"
   },
   "source": [
    "# Parte 1\n",
    "\n",
    "- Antes que nada, ¡necesitamos nuestros datos! \n",
    "1. Ve a la página de microdatos del [INEI](http://iinei.inei.gob.pe/microdatos/). \n",
    "2. Ve a \"Consulta por encuestas\" y ve a ENAHO metodología ACTUALIZADA. \n",
    "3. Elige aquella que dice \"Condiciones de Vida y Pobreza - ENAHO\" (la que no es panel). \n",
    "4. Elige el año 2022, y en período, elige la anual.   \n",
    "5. Descarga los **archivos CSV** del Código módulo 1 (Características de la vivienda y el hogar) y el módulo 34 (Sumarias - Variables Calculadas). \n",
    "\n",
    "(El nombre del archivo de sumaria es Sumaria-2022).\n",
    "\n",
    "Esta tarea está pensada en ser desarrollada con los CSV (no los .dta o .sav, que son los archivos de stata ó spss respectivamente).\n",
    "\n",
    "\n",
    "La ENAHO es una encuesta muy amplia que está distribuida en varios módulos. En esta tarea veremos cómo podemos utilizar información de varios de estos módulos para sacar datos interesantes. "
   ]
  },
  {
   "cell_type": "markdown",
   "metadata": {
    "id": "ENzVKXEGGFI3"
   },
   "source": [
    "1. Lee ambos archivos csv con pandas y asígnales un nombre para que puedas trabajar con ambos como base de datos. (Si es que sale un error, es debido a que nuestras encuestas están en español y tienen caracteres como ˜ de la ñ o el acento. Por ello, a las opciones de lectura del csv, agrega la siguiente opción ``` encoding = \"latin-1\" ```. \n",
    "\n",
    "(No olvides importar pandas 🐼)\n",
    "\n",
    "\n",
    "En caso tus columnas salgan con el nombre en mayúscula, puedes correr el siguiente comando para cambiarlas a minúsculas:\n",
    "\n",
    "``` python3 \n",
    "df.columns= df.columns.str.lower()\n",
    "``` \n",
    "Donde `df` es el nombre del dataframe.   \n",
    "(En esta clase no ahondamos en el manejo de strings, pero `lower()` es un método de este tipo de variables para convertir el string a minúscula.)"
   ]
  },
  {
   "cell_type": "code",
   "execution_count": 6,
   "metadata": {
    "colab": {
     "base_uri": "https://localhost:8080/",
     "height": 107,
     "resources": {
      "http://localhost:8080/nbextensions/google.colab/files.js": {
       "data": "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",
       "headers": [
        [
         "content-type",
         "application/javascript"
        ]
       ],
       "ok": true,
       "status": 200,
       "status_text": ""
      }
     }
    },
    "id": "NRCgHgylGFI4",
    "outputId": "e01336e4-d6fe-4733-c0ea-e3b038e811d2"
   },
   "outputs": [],
   "source": [
    "# !pip install pandas\n",
    "import pandas as pd"
   ]
  },
  {
   "cell_type": "code",
   "execution_count": 19,
   "metadata": {
    "colab": {
     "base_uri": "https://localhost:8080/"
    },
    "id": "D3nH98YkN20p",
    "outputId": "50fbe805-bb8e-407c-880c-fdc26e0ec627"
   },
   "outputs": [
    {
     "data": {
      "text/plain": [
       "(    año  mes  conglome  vivienda  hogar  ubigeo  dominio  estrato  periodo  \\\n",
       " 0  2022    2      5007         3     11   10101        4        4        1   \n",
       " 1  2022    2      5007        12     11   10101        4        4        1   \n",
       " 2  2022    2      5007        22     11   10101        4        4        1   \n",
       " 3  2022    2      5007        31     11   10101        4        4        1   \n",
       " 4  2022    2      5007        50     11   10101        4        4        1   \n",
       " \n",
       "    tipenc  ...  nbi4  nbi5   factor07 nconglome sub_conglome codccpp  \\\n",
       " 0       3  ...     0     0  45.282372      7070            0       1   \n",
       " 1       3  ...     0     0  45.282372      7070            0       1   \n",
       " 2       3  ...     0     0  45.282372      7070            0       1   \n",
       " 3       3  ...              45.282372      7070            0       1   \n",
       " 4       3  ...     0     0  45.282372      7070            0       1   \n",
       " \n",
       "               nomccpp   longitud   latitud altitud  \n",
       " 0  CIUDAD CHACHAPOYAS -77.873924 -6.229049  2338.0  \n",
       " 1  CIUDAD CHACHAPOYAS -77.873924 -6.229049  2338.0  \n",
       " 2  CIUDAD CHACHAPOYAS -77.873924 -6.229049  2338.0  \n",
       " 3  CIUDAD CHACHAPOYAS -77.873924 -6.229049  2338.0  \n",
       " 4  CIUDAD CHACHAPOYAS -77.873924 -6.229049  2338.0  \n",
       " \n",
       " [5 rows x 324 columns],\n",
       "     año  mes  conglome  vivienda  hogar  ubigeo  dominio  estrato  mieperho  \\\n",
       " 0  2022    1      5030         8     11   10201        7        4         2   \n",
       " 1  2022    1      5030        17     11   10201        7        4         2   \n",
       " 2  2022    1      5030        33     11   10201        7        4         4   \n",
       " 3  2022    1      5030        50     11   10201        7        4         3   \n",
       " 4  2022    1      5030        59     11   10201        7        4        11   \n",
       " \n",
       "    totmieho  ...  estrsocial    factor07        ld       linpe       linea  \\\n",
       " 0         2  ...           4  106.890244  0.809237  223.765335  378.169434   \n",
       " 1         2  ...           4  106.890244  0.809237  223.765335  378.169434   \n",
       " 2         4  ...           4  106.890244  0.809237  223.765335  378.169434   \n",
       " 3         3  ...           4  106.890244  0.809237  223.765335  378.169434   \n",
       " 4        11  ...           4  106.890244  0.809237  223.765335  378.169434   \n",
       " \n",
       "    pobreza      lineav  pobrezav  nconglome  sub_conglome  \n",
       " 0        3  636.334351         4       6618             0  \n",
       " 1        3  662.069275         4       6618             0  \n",
       " 2        3  662.475037         3       6618             0  \n",
       " 3        3  652.384521         3       6618             0  \n",
       " 4        2  654.640137         2       6618             0  \n",
       " \n",
       " [5 rows x 167 columns])"
      ]
     },
     "execution_count": 19,
     "metadata": {},
     "output_type": "execute_result"
    }
   ],
   "source": [
    "modulo1_df = pd.read_csv(\"C:\\\\Users\\\\Almudena Andrade\\\\Downloads\\\\784-Modulo01\\\\Enaho01-2022-100.csv\", encoding=\"latin-1\")\n",
    "modulo34_df = pd.read_csv(\"C:\\\\Users\\\\Almudena Andrade\\\\Downloads\\\\784-Modulo34\\\\Sumaria-2022.csv\", encoding=\"latin-1\")\n",
    "\n",
    "modulo1_df.columns = modulo1_df.columns.str.lower()\n",
    "modulo34_df.columns = modulo34_df.columns.str.lower()\n",
    "\n",
    "modulo1_df.head(), modulo34_df.head()\n"
   ]
  },
  {
   "cell_type": "markdown",
   "metadata": {
    "id": "imIgmrpZGFI4"
   },
   "source": [
    "2. - ¿Cuáles son las dimensiones de la sumaria? (o el número de filas y columnas).\n",
    "   - ¿Cuáles son las dimensiones del módulo de vivienda? (o el número de filas y columnas)."
   ]
  },
  {
   "cell_type": "code",
   "execution_count": 21,
   "metadata": {
    "colab": {
     "base_uri": "https://localhost:8080/"
    },
    "id": "9lsnOaPLGFI5",
    "outputId": "230ea716-a2a6-407a-d6eb-88047fa69e8b"
   },
   "outputs": [
    {
     "name": "stdout",
     "output_type": "stream",
     "text": [
      "Dimensiones del modulo 1:(44122, 324)\n"
     ]
    }
   ],
   "source": [
    "dim_modulo1 = modulo1_df.shape\n",
    "dim_modulo1\n",
    "\n",
    "print(f\"Dimensiones del modulo 1:{dim_modulo1}\")"
   ]
  },
  {
   "cell_type": "code",
   "execution_count": 22,
   "metadata": {
    "colab": {
     "base_uri": "https://localhost:8080/"
    },
    "id": "2jYjHCcrUQQg",
    "outputId": "611a3a79-7139-4aa6-ea58-8e7cdd79372a"
   },
   "outputs": [
    {
     "name": "stdout",
     "output_type": "stream",
     "text": [
      "Dimensiones del modulo 34:(34213, 167)\n"
     ]
    }
   ],
   "source": [
    "dim_modulo34 = modulo34_df.shape\n",
    "dim_modulo34\n",
    "\n",
    "print(f\"Dimensiones del modulo 34:{dim_modulo34}\")"
   ]
  },
  {
   "cell_type": "markdown",
   "metadata": {
    "id": "ahCSvQG2GFI5"
   },
   "source": [
    "3. En esta oportunidad no necesitaremos todas las variables de la ENAHO para hacer esta tarea. \n",
    "- Quedémonos con las variables ``` CONGLOME VIVIENDA HOGAR MIEPERHO PERCEPHO POBREZA GASHOG2D INGHOG2D UBIGEO``` de la sumaria. \n",
    "- Quedémonos con las variables ``` CONGLOME VIVIENDA HOGAR RESULT NBI1 NBI2 NBI3 NBI4 NBI5 ``` del módulo de vivienda.\n",
    "\n",
    " \n",
    " Nota: cada una de las variables es:\n",
    "- MIEPERHO: número de miembros del hogar. \n",
    "- PERCEPHO: número de perceptores del hogar (que reciben un ingreso). \n",
    "- POBREZA: Pobreza monetaria según la línea de pobreza. \n",
    "- GASHOG2D: Gasto bruto anual del hogar. \n",
    "- INGHOG2D: Ingreso anual neto total del hogar. \n",
    "- UBIGEO: Código de 6 dígitos que indica el distrito de pertenencia de la persona. \n",
    "\n",
    "Necesidades básicas:\n",
    "- NBI1: vivienda inadecuada.\n",
    "- NBI2: hacinamiento\n",
    "- NBI3: vivienda sin servicios higiénicos\n",
    "- NBI4: hogares con  niños que no asisten a la escuela.\n",
    "- NBI5: hogares con alta dependencia económica \n",
    "\n",
    "CONGLOME, VIVIENDA y HOGAR son los identificadores únicos a nivel de hogar (como un key id)."
   ]
  },
  {
   "cell_type": "code",
   "execution_count": 37,
   "metadata": {
    "colab": {
     "base_uri": "https://localhost:8080/",
     "height": 424
    },
    "id": "D0vuGKPBGFI6",
    "outputId": "a4265063-bd23-467f-fda2-851c9c88cc43"
   },
   "outputs": [
    {
     "data": {
      "text/plain": [
       "(   conglome  vivienda  hogar  mieperho  percepho  pobreza      gashog2d  \\\n",
       " 0      5030         8     11         2         2        3  36949.523438   \n",
       " 1      5030        17     11         2         2        3  48161.250000   \n",
       " 2      5030        33     11         4         4        3  27575.876953   \n",
       " 3      5030        50     11         3         1        3  16161.042969   \n",
       " 4      5030        59     11        11         7        2  30606.212891   \n",
       " \n",
       "        inghog2d  ubigeo  \n",
       " 0  34606.441406   10201  \n",
       " 1  82028.218750   10201  \n",
       " 2  31791.029297   10201  \n",
       " 3  24028.867188   10201  \n",
       " 4  46056.109375   10201  ,\n",
       "    conglome  vivienda  hogar  result nbi1 nbi2 nbi3 nbi4 nbi5\n",
       " 0      5007         3     11       1    0    0    0    0    0\n",
       " 1      5007        12     11       1    0    0    0    0    0\n",
       " 2      5007        22     11       1    0    0    0    0    0\n",
       " 3      5007        31     11       4                         \n",
       " 4      5007        50     11       1    0    0    0    0    0)"
      ]
     },
     "execution_count": 37,
     "metadata": {},
     "output_type": "execute_result"
    }
   ],
   "source": [
    "sumaria_variables = [\"conglome\", \"vivienda\", \"hogar\", \"mieperho\", \"percepho\", \"pobreza\", \"gashog2d\", \"inghog2d\", \"ubigeo\"]\n",
    "sumaria_df = modulo34_df[sumaria_variables]\n",
    "\n",
    "vivienda_variables = [\"conglome\", \"vivienda\", \"hogar\", \"result\", \"nbi1\", \"nbi2\", \"nbi3\", \"nbi4\", \"nbi5\"]\n",
    "vivienda_df = modulo1_df[vivienda_variables]\n",
    "\n",
    "sumaria_df.head(), vivienda_df.head()"
   ]
  },
  {
   "cell_type": "markdown",
   "metadata": {
    "id": "vocY0qhOGFI7"
   },
   "source": [
    "4. El módulo vivienda incluye todos los hogares que entraron en el marco muestral, incluso aquellos que no participaron en la ENAHO por diversos motivos. Para eliminar estas viviendas, quedémonos con aquellas cuyo ``` RESULT``` sea igual a 1 ó 2. Almacena este resultado para después."
   ]
  },
  {
   "cell_type": "code",
   "execution_count": 38,
   "metadata": {
    "colab": {
     "base_uri": "https://localhost:8080/",
     "height": 424
    },
    "id": "pJEF71fWVd2y",
    "outputId": "4481fb05-52f6-47c5-ec70-b696fa17e0d8"
   },
   "outputs": [
    {
     "data": {
      "text/html": [
       "<div>\n",
       "<style scoped>\n",
       "    .dataframe tbody tr th:only-of-type {\n",
       "        vertical-align: middle;\n",
       "    }\n",
       "\n",
       "    .dataframe tbody tr th {\n",
       "        vertical-align: top;\n",
       "    }\n",
       "\n",
       "    .dataframe thead th {\n",
       "        text-align: right;\n",
       "    }\n",
       "</style>\n",
       "<table border=\"1\" class=\"dataframe\">\n",
       "  <thead>\n",
       "    <tr style=\"text-align: right;\">\n",
       "      <th></th>\n",
       "      <th>conglome</th>\n",
       "      <th>vivienda</th>\n",
       "      <th>hogar</th>\n",
       "      <th>result</th>\n",
       "      <th>nbi1</th>\n",
       "      <th>nbi2</th>\n",
       "      <th>nbi3</th>\n",
       "      <th>nbi4</th>\n",
       "      <th>nbi5</th>\n",
       "    </tr>\n",
       "  </thead>\n",
       "  <tbody>\n",
       "    <tr>\n",
       "      <th>0</th>\n",
       "      <td>5007</td>\n",
       "      <td>3</td>\n",
       "      <td>11</td>\n",
       "      <td>1</td>\n",
       "      <td>0</td>\n",
       "      <td>0</td>\n",
       "      <td>0</td>\n",
       "      <td>0</td>\n",
       "      <td>0</td>\n",
       "    </tr>\n",
       "    <tr>\n",
       "      <th>1</th>\n",
       "      <td>5007</td>\n",
       "      <td>12</td>\n",
       "      <td>11</td>\n",
       "      <td>1</td>\n",
       "      <td>0</td>\n",
       "      <td>0</td>\n",
       "      <td>0</td>\n",
       "      <td>0</td>\n",
       "      <td>0</td>\n",
       "    </tr>\n",
       "    <tr>\n",
       "      <th>2</th>\n",
       "      <td>5007</td>\n",
       "      <td>22</td>\n",
       "      <td>11</td>\n",
       "      <td>1</td>\n",
       "      <td>0</td>\n",
       "      <td>0</td>\n",
       "      <td>0</td>\n",
       "      <td>0</td>\n",
       "      <td>0</td>\n",
       "    </tr>\n",
       "    <tr>\n",
       "      <th>4</th>\n",
       "      <td>5007</td>\n",
       "      <td>50</td>\n",
       "      <td>11</td>\n",
       "      <td>1</td>\n",
       "      <td>0</td>\n",
       "      <td>0</td>\n",
       "      <td>0</td>\n",
       "      <td>0</td>\n",
       "      <td>0</td>\n",
       "    </tr>\n",
       "    <tr>\n",
       "      <th>10</th>\n",
       "      <td>5009</td>\n",
       "      <td>56</td>\n",
       "      <td>11</td>\n",
       "      <td>1</td>\n",
       "      <td>0</td>\n",
       "      <td>1</td>\n",
       "      <td>0</td>\n",
       "      <td>0</td>\n",
       "      <td>0</td>\n",
       "    </tr>\n",
       "  </tbody>\n",
       "</table>\n",
       "</div>"
      ],
      "text/plain": [
       "    conglome  vivienda  hogar  result nbi1 nbi2 nbi3 nbi4 nbi5\n",
       "0       5007         3     11       1    0    0    0    0    0\n",
       "1       5007        12     11       1    0    0    0    0    0\n",
       "2       5007        22     11       1    0    0    0    0    0\n",
       "4       5007        50     11       1    0    0    0    0    0\n",
       "10      5009        56     11       1    0    1    0    0    0"
      ]
     },
     "execution_count": 38,
     "metadata": {},
     "output_type": "execute_result"
    }
   ],
   "source": [
    "vivienda_df = vivienda_df.loc[vivienda_df[\"result\"].isin([1, 2])]\n",
    "vivienda_df.head()"
   ]
  },
  {
   "cell_type": "code",
   "execution_count": null,
   "metadata": {
    "colab": {
     "base_uri": "https://localhost:8080/",
     "height": 424
    },
    "id": "rnjyKBpOzakf",
    "outputId": "bcf7affc-10ff-447e-dccf-6ff1a627505e"
   },
   "outputs": [],
   "source": []
  },
  {
   "cell_type": "markdown",
   "metadata": {
    "id": "uM7RZvS-GFI7"
   },
   "source": []
  },
  {
   "cell_type": "markdown",
   "metadata": {
    "id": "aBSH3uJmGFI8"
   },
   "source": [
    "5. Queremos calcular una serie de variables (ó columnas nuevas):  \n",
    "En sumaria: \n",
    "- Queremos el número de miembros dependientes del hogar . Estos son el número de personas que no perciben un ingreso ó la diferencia entre el total de miembros y el total de perceptores. \n",
    "- Queremos el ingreso mensual promedio por perceptor del hogar.\n",
    "- Queremos la diferencia  entre ingreso y gasto del hogar"
   ]
  },
  {
   "cell_type": "code",
   "execution_count": 83,
   "metadata": {
    "colab": {
     "base_uri": "https://localhost:8080/",
     "height": 424
    },
    "id": "i-3FJ80TGFI8",
    "outputId": "23129df3-fb83-4345-e083-f8afa1ffa42a"
   },
   "outputs": [
    {
     "name": "stdout",
     "output_type": "stream",
     "text": [
      "mieperho      int64\n",
      "percepho      int64\n",
      "inghog2d    float64\n",
      "gashog2d    float64\n",
      "dtype: object\n"
     ]
    },
    {
     "name": "stderr",
     "output_type": "stream",
     "text": [
      "C:\\Users\\Almudena Andrade\\AppData\\Local\\Temp\\ipykernel_21216\\3844093747.py:8: SettingWithCopyWarning: \n",
      "A value is trying to be set on a copy of a slice from a DataFrame.\n",
      "Try using .loc[row_indexer,col_indexer] = value instead\n",
      "\n",
      "See the caveats in the documentation: https://pandas.pydata.org/pandas-docs/stable/user_guide/indexing.html#returning-a-view-versus-a-copy\n",
      "  sumaria_df[\"dependientes\"] = sumaria_df[\"mieperho\"] - sumaria_df[\"percepho\"]\n"
     ]
    },
    {
     "data": {
      "text/html": [
       "<div>\n",
       "<style scoped>\n",
       "    .dataframe tbody tr th:only-of-type {\n",
       "        vertical-align: middle;\n",
       "    }\n",
       "\n",
       "    .dataframe tbody tr th {\n",
       "        vertical-align: top;\n",
       "    }\n",
       "\n",
       "    .dataframe thead th {\n",
       "        text-align: right;\n",
       "    }\n",
       "</style>\n",
       "<table border=\"1\" class=\"dataframe\">\n",
       "  <thead>\n",
       "    <tr style=\"text-align: right;\">\n",
       "      <th></th>\n",
       "      <th>conglome</th>\n",
       "      <th>vivienda</th>\n",
       "      <th>hogar</th>\n",
       "      <th>mieperho</th>\n",
       "      <th>percepho</th>\n",
       "      <th>pobreza</th>\n",
       "      <th>gashog2d</th>\n",
       "      <th>inghog2d</th>\n",
       "      <th>ubigeo</th>\n",
       "      <th>dependientes</th>\n",
       "      <th>ingreso_mensual_perceptor</th>\n",
       "      <th>diferencia_ing_gasto</th>\n",
       "    </tr>\n",
       "  </thead>\n",
       "  <tbody>\n",
       "    <tr>\n",
       "      <th>0</th>\n",
       "      <td>5030</td>\n",
       "      <td>8</td>\n",
       "      <td>11</td>\n",
       "      <td>2</td>\n",
       "      <td>2</td>\n",
       "      <td>3</td>\n",
       "      <td>36949.523438</td>\n",
       "      <td>34606.441406</td>\n",
       "      <td>10201</td>\n",
       "      <td>0</td>\n",
       "      <td>1441.935059</td>\n",
       "      <td>-2343.082031</td>\n",
       "    </tr>\n",
       "    <tr>\n",
       "      <th>1</th>\n",
       "      <td>5030</td>\n",
       "      <td>17</td>\n",
       "      <td>11</td>\n",
       "      <td>2</td>\n",
       "      <td>2</td>\n",
       "      <td>3</td>\n",
       "      <td>48161.250000</td>\n",
       "      <td>82028.218750</td>\n",
       "      <td>10201</td>\n",
       "      <td>0</td>\n",
       "      <td>3417.842448</td>\n",
       "      <td>33866.968750</td>\n",
       "    </tr>\n",
       "    <tr>\n",
       "      <th>2</th>\n",
       "      <td>5030</td>\n",
       "      <td>33</td>\n",
       "      <td>11</td>\n",
       "      <td>4</td>\n",
       "      <td>4</td>\n",
       "      <td>3</td>\n",
       "      <td>27575.876953</td>\n",
       "      <td>31791.029297</td>\n",
       "      <td>10201</td>\n",
       "      <td>0</td>\n",
       "      <td>662.313110</td>\n",
       "      <td>4215.152344</td>\n",
       "    </tr>\n",
       "    <tr>\n",
       "      <th>3</th>\n",
       "      <td>5030</td>\n",
       "      <td>50</td>\n",
       "      <td>11</td>\n",
       "      <td>3</td>\n",
       "      <td>1</td>\n",
       "      <td>3</td>\n",
       "      <td>16161.042969</td>\n",
       "      <td>24028.867188</td>\n",
       "      <td>10201</td>\n",
       "      <td>2</td>\n",
       "      <td>2002.405599</td>\n",
       "      <td>7867.824219</td>\n",
       "    </tr>\n",
       "    <tr>\n",
       "      <th>4</th>\n",
       "      <td>5030</td>\n",
       "      <td>59</td>\n",
       "      <td>11</td>\n",
       "      <td>11</td>\n",
       "      <td>7</td>\n",
       "      <td>2</td>\n",
       "      <td>30606.212891</td>\n",
       "      <td>46056.109375</td>\n",
       "      <td>10201</td>\n",
       "      <td>4</td>\n",
       "      <td>548.287016</td>\n",
       "      <td>15449.896484</td>\n",
       "    </tr>\n",
       "  </tbody>\n",
       "</table>\n",
       "</div>"
      ],
      "text/plain": [
       "   conglome  vivienda  hogar  mieperho  percepho  pobreza      gashog2d  \\\n",
       "0      5030         8     11         2         2        3  36949.523438   \n",
       "1      5030        17     11         2         2        3  48161.250000   \n",
       "2      5030        33     11         4         4        3  27575.876953   \n",
       "3      5030        50     11         3         1        3  16161.042969   \n",
       "4      5030        59     11        11         7        2  30606.212891   \n",
       "\n",
       "       inghog2d  ubigeo  dependientes  ingreso_mensual_perceptor  \\\n",
       "0  34606.441406   10201             0                1441.935059   \n",
       "1  82028.218750   10201             0                3417.842448   \n",
       "2  31791.029297   10201             0                 662.313110   \n",
       "3  24028.867188   10201             2                2002.405599   \n",
       "4  46056.109375   10201             4                 548.287016   \n",
       "\n",
       "   diferencia_ing_gasto  \n",
       "0          -2343.082031  \n",
       "1          33866.968750  \n",
       "2           4215.152344  \n",
       "3           7867.824219  \n",
       "4          15449.896484  "
      ]
     },
     "execution_count": 83,
     "metadata": {},
     "output_type": "execute_result"
    }
   ],
   "source": [
    "# tu respuesta aquí\n",
    "# Pista: evaluar los tipos de las variables, y verificar que aquellas que sean numéricas, efectivamente lo sean.\n",
    "\n",
    "# verificamos que todos sean numéricos\n",
    "print(sumaria_df[[\"mieperho\", \"percepho\", \"inghog2d\", \"gashog2d\"]].dtypes)\n",
    "\n",
    "# Número de miembros dependientes del hogar\n",
    "sumaria_df[\"dependientes\"] = sumaria_df[\"mieperho\"] - sumaria_df[\"percepho\"]\n",
    "sumaria_df.head() \n"
   ]
  },
  {
   "cell_type": "code",
   "execution_count": 81,
   "metadata": {
    "colab": {
     "base_uri": "https://localhost:8080/",
     "height": 424
    },
    "id": "meC7Yj3S1aS6",
    "outputId": "5ab48861-7024-4451-a62a-8246bb7c2815"
   },
   "outputs": [
    {
     "name": "stderr",
     "output_type": "stream",
     "text": [
      "C:\\Users\\Almudena Andrade\\AppData\\Local\\Temp\\ipykernel_21216\\1722611144.py:4: SettingWithCopyWarning: \n",
      "A value is trying to be set on a copy of a slice from a DataFrame.\n",
      "Try using .loc[row_indexer,col_indexer] = value instead\n",
      "\n",
      "See the caveats in the documentation: https://pandas.pydata.org/pandas-docs/stable/user_guide/indexing.html#returning-a-view-versus-a-copy\n",
      "  sumaria_df[\"ingreso_mensual_perceptor\"] = sumaria_df[\"inghog2d\"] / (sumaria_df[\"percepho\"] * 12)\n"
     ]
    },
    {
     "data": {
      "text/html": [
       "<div>\n",
       "<style scoped>\n",
       "    .dataframe tbody tr th:only-of-type {\n",
       "        vertical-align: middle;\n",
       "    }\n",
       "\n",
       "    .dataframe tbody tr th {\n",
       "        vertical-align: top;\n",
       "    }\n",
       "\n",
       "    .dataframe thead th {\n",
       "        text-align: right;\n",
       "    }\n",
       "</style>\n",
       "<table border=\"1\" class=\"dataframe\">\n",
       "  <thead>\n",
       "    <tr style=\"text-align: right;\">\n",
       "      <th></th>\n",
       "      <th>conglome</th>\n",
       "      <th>vivienda</th>\n",
       "      <th>hogar</th>\n",
       "      <th>mieperho</th>\n",
       "      <th>percepho</th>\n",
       "      <th>pobreza</th>\n",
       "      <th>gashog2d</th>\n",
       "      <th>inghog2d</th>\n",
       "      <th>ubigeo</th>\n",
       "      <th>dependientes</th>\n",
       "      <th>ingreso_mensual_perceptor</th>\n",
       "    </tr>\n",
       "  </thead>\n",
       "  <tbody>\n",
       "    <tr>\n",
       "      <th>0</th>\n",
       "      <td>5030</td>\n",
       "      <td>8</td>\n",
       "      <td>11</td>\n",
       "      <td>2</td>\n",
       "      <td>2</td>\n",
       "      <td>3</td>\n",
       "      <td>36949.523438</td>\n",
       "      <td>34606.441406</td>\n",
       "      <td>10201</td>\n",
       "      <td>0</td>\n",
       "      <td>1441.935059</td>\n",
       "    </tr>\n",
       "    <tr>\n",
       "      <th>1</th>\n",
       "      <td>5030</td>\n",
       "      <td>17</td>\n",
       "      <td>11</td>\n",
       "      <td>2</td>\n",
       "      <td>2</td>\n",
       "      <td>3</td>\n",
       "      <td>48161.250000</td>\n",
       "      <td>82028.218750</td>\n",
       "      <td>10201</td>\n",
       "      <td>0</td>\n",
       "      <td>3417.842448</td>\n",
       "    </tr>\n",
       "    <tr>\n",
       "      <th>2</th>\n",
       "      <td>5030</td>\n",
       "      <td>33</td>\n",
       "      <td>11</td>\n",
       "      <td>4</td>\n",
       "      <td>4</td>\n",
       "      <td>3</td>\n",
       "      <td>27575.876953</td>\n",
       "      <td>31791.029297</td>\n",
       "      <td>10201</td>\n",
       "      <td>0</td>\n",
       "      <td>662.313110</td>\n",
       "    </tr>\n",
       "    <tr>\n",
       "      <th>3</th>\n",
       "      <td>5030</td>\n",
       "      <td>50</td>\n",
       "      <td>11</td>\n",
       "      <td>3</td>\n",
       "      <td>1</td>\n",
       "      <td>3</td>\n",
       "      <td>16161.042969</td>\n",
       "      <td>24028.867188</td>\n",
       "      <td>10201</td>\n",
       "      <td>2</td>\n",
       "      <td>2002.405599</td>\n",
       "    </tr>\n",
       "    <tr>\n",
       "      <th>4</th>\n",
       "      <td>5030</td>\n",
       "      <td>59</td>\n",
       "      <td>11</td>\n",
       "      <td>11</td>\n",
       "      <td>7</td>\n",
       "      <td>2</td>\n",
       "      <td>30606.212891</td>\n",
       "      <td>46056.109375</td>\n",
       "      <td>10201</td>\n",
       "      <td>4</td>\n",
       "      <td>548.287016</td>\n",
       "    </tr>\n",
       "  </tbody>\n",
       "</table>\n",
       "</div>"
      ],
      "text/plain": [
       "   conglome  vivienda  hogar  mieperho  percepho  pobreza      gashog2d  \\\n",
       "0      5030         8     11         2         2        3  36949.523438   \n",
       "1      5030        17     11         2         2        3  48161.250000   \n",
       "2      5030        33     11         4         4        3  27575.876953   \n",
       "3      5030        50     11         3         1        3  16161.042969   \n",
       "4      5030        59     11        11         7        2  30606.212891   \n",
       "\n",
       "       inghog2d  ubigeo  dependientes  ingreso_mensual_perceptor  \n",
       "0  34606.441406   10201             0                1441.935059  \n",
       "1  82028.218750   10201             0                3417.842448  \n",
       "2  31791.029297   10201             0                 662.313110  \n",
       "3  24028.867188   10201             2                2002.405599  \n",
       "4  46056.109375   10201             4                 548.287016  "
      ]
     },
     "execution_count": 81,
     "metadata": {},
     "output_type": "execute_result"
    }
   ],
   "source": [
    "# tu respuesta aquí\n",
    "\n",
    "# ingreso mensual promedio por perceptor\n",
    "sumaria_df[\"ingreso_mensual_perceptor\"] = sumaria_df[\"inghog2d\"] / (sumaria_df[\"percepho\"] * 12)\n",
    "sumaria_df.head()"
   ]
  },
  {
   "cell_type": "code",
   "execution_count": 82,
   "metadata": {
    "colab": {
     "base_uri": "https://localhost:8080/",
     "height": 424
    },
    "id": "Qwy-nwyL30tV",
    "outputId": "6d392be7-452c-4c92-94be-8bbe676b197a"
   },
   "outputs": [
    {
     "name": "stderr",
     "output_type": "stream",
     "text": [
      "C:\\Users\\Almudena Andrade\\AppData\\Local\\Temp\\ipykernel_21216\\3666286849.py:4: SettingWithCopyWarning: \n",
      "A value is trying to be set on a copy of a slice from a DataFrame.\n",
      "Try using .loc[row_indexer,col_indexer] = value instead\n",
      "\n",
      "See the caveats in the documentation: https://pandas.pydata.org/pandas-docs/stable/user_guide/indexing.html#returning-a-view-versus-a-copy\n",
      "  sumaria_df[\"diferencia_ing_gasto\"] = sumaria_df[\"inghog2d\"] - sumaria_df[\"gashog2d\"]\n"
     ]
    },
    {
     "data": {
      "text/html": [
       "<div>\n",
       "<style scoped>\n",
       "    .dataframe tbody tr th:only-of-type {\n",
       "        vertical-align: middle;\n",
       "    }\n",
       "\n",
       "    .dataframe tbody tr th {\n",
       "        vertical-align: top;\n",
       "    }\n",
       "\n",
       "    .dataframe thead th {\n",
       "        text-align: right;\n",
       "    }\n",
       "</style>\n",
       "<table border=\"1\" class=\"dataframe\">\n",
       "  <thead>\n",
       "    <tr style=\"text-align: right;\">\n",
       "      <th></th>\n",
       "      <th>conglome</th>\n",
       "      <th>vivienda</th>\n",
       "      <th>hogar</th>\n",
       "      <th>mieperho</th>\n",
       "      <th>percepho</th>\n",
       "      <th>pobreza</th>\n",
       "      <th>gashog2d</th>\n",
       "      <th>inghog2d</th>\n",
       "      <th>ubigeo</th>\n",
       "      <th>dependientes</th>\n",
       "      <th>ingreso_mensual_perceptor</th>\n",
       "      <th>diferencia_ing_gasto</th>\n",
       "    </tr>\n",
       "  </thead>\n",
       "  <tbody>\n",
       "    <tr>\n",
       "      <th>0</th>\n",
       "      <td>5030</td>\n",
       "      <td>8</td>\n",
       "      <td>11</td>\n",
       "      <td>2</td>\n",
       "      <td>2</td>\n",
       "      <td>3</td>\n",
       "      <td>36949.523438</td>\n",
       "      <td>34606.441406</td>\n",
       "      <td>10201</td>\n",
       "      <td>0</td>\n",
       "      <td>1441.935059</td>\n",
       "      <td>-2343.082031</td>\n",
       "    </tr>\n",
       "    <tr>\n",
       "      <th>1</th>\n",
       "      <td>5030</td>\n",
       "      <td>17</td>\n",
       "      <td>11</td>\n",
       "      <td>2</td>\n",
       "      <td>2</td>\n",
       "      <td>3</td>\n",
       "      <td>48161.250000</td>\n",
       "      <td>82028.218750</td>\n",
       "      <td>10201</td>\n",
       "      <td>0</td>\n",
       "      <td>3417.842448</td>\n",
       "      <td>33866.968750</td>\n",
       "    </tr>\n",
       "    <tr>\n",
       "      <th>2</th>\n",
       "      <td>5030</td>\n",
       "      <td>33</td>\n",
       "      <td>11</td>\n",
       "      <td>4</td>\n",
       "      <td>4</td>\n",
       "      <td>3</td>\n",
       "      <td>27575.876953</td>\n",
       "      <td>31791.029297</td>\n",
       "      <td>10201</td>\n",
       "      <td>0</td>\n",
       "      <td>662.313110</td>\n",
       "      <td>4215.152344</td>\n",
       "    </tr>\n",
       "    <tr>\n",
       "      <th>3</th>\n",
       "      <td>5030</td>\n",
       "      <td>50</td>\n",
       "      <td>11</td>\n",
       "      <td>3</td>\n",
       "      <td>1</td>\n",
       "      <td>3</td>\n",
       "      <td>16161.042969</td>\n",
       "      <td>24028.867188</td>\n",
       "      <td>10201</td>\n",
       "      <td>2</td>\n",
       "      <td>2002.405599</td>\n",
       "      <td>7867.824219</td>\n",
       "    </tr>\n",
       "    <tr>\n",
       "      <th>4</th>\n",
       "      <td>5030</td>\n",
       "      <td>59</td>\n",
       "      <td>11</td>\n",
       "      <td>11</td>\n",
       "      <td>7</td>\n",
       "      <td>2</td>\n",
       "      <td>30606.212891</td>\n",
       "      <td>46056.109375</td>\n",
       "      <td>10201</td>\n",
       "      <td>4</td>\n",
       "      <td>548.287016</td>\n",
       "      <td>15449.896484</td>\n",
       "    </tr>\n",
       "  </tbody>\n",
       "</table>\n",
       "</div>"
      ],
      "text/plain": [
       "   conglome  vivienda  hogar  mieperho  percepho  pobreza      gashog2d  \\\n",
       "0      5030         8     11         2         2        3  36949.523438   \n",
       "1      5030        17     11         2         2        3  48161.250000   \n",
       "2      5030        33     11         4         4        3  27575.876953   \n",
       "3      5030        50     11         3         1        3  16161.042969   \n",
       "4      5030        59     11        11         7        2  30606.212891   \n",
       "\n",
       "       inghog2d  ubigeo  dependientes  ingreso_mensual_perceptor  \\\n",
       "0  34606.441406   10201             0                1441.935059   \n",
       "1  82028.218750   10201             0                3417.842448   \n",
       "2  31791.029297   10201             0                 662.313110   \n",
       "3  24028.867188   10201             2                2002.405599   \n",
       "4  46056.109375   10201             4                 548.287016   \n",
       "\n",
       "   diferencia_ing_gasto  \n",
       "0          -2343.082031  \n",
       "1          33866.968750  \n",
       "2           4215.152344  \n",
       "3           7867.824219  \n",
       "4          15449.896484  "
      ]
     },
     "execution_count": 82,
     "metadata": {},
     "output_type": "execute_result"
    }
   ],
   "source": [
    "# tu respuesta aquí.\n",
    "\n",
    "# Diferencia entre ingreso y gasto del hogar\n",
    "sumaria_df[\"diferencia_ing_gasto\"] = sumaria_df[\"inghog2d\"] - sumaria_df[\"gashog2d\"]\n",
    "sumaria_df.head()\n"
   ]
  },
  {
   "cell_type": "markdown",
   "metadata": {
    "id": "LvQwJHQrGFI8"
   },
   "source": [
    "6. La variable de `pobreza`, en la sumaria, está codificada como integers 1, 2 y 3. Esto corresponde a:  \n",
    "`1`: hogar pobre extremo  \n",
    "`2`: hogar pobre no extremo  \n",
    "`3`: hogar no  pobre  \n",
    "\n",
    "En base a esta variable, crea dos variables más:\n",
    "1. Una variable que tenga `'pobre extremo'`, `'pobre no extremo'` y `'no pobre'` en vez  de 1, 2, 3.\n",
    "2. Una variable que tenga `'pobre'` y `'no pobre'` (ó que englobe a los hogares pobres y pobres no extremos).\n",
    "\n"
   ]
  },
  {
   "cell_type": "code",
   "execution_count": 28,
   "metadata": {
    "colab": {
     "base_uri": "https://localhost:8080/",
     "height": 468
    },
    "id": "GDv1wqGcGFI9",
    "outputId": "a241e092-f7c1-4b5c-f51a-9bb5f9aafb9a"
   },
   "outputs": [
    {
     "name": "stdout",
     "output_type": "stream",
     "text": [
      "   pobreza     nivel_pobreza\n",
      "0        3          no pobre\n",
      "1        3          no pobre\n",
      "2        3          no pobre\n",
      "3        3          no pobre\n",
      "4        2  pobre no extremo\n"
     ]
    }
   ],
   "source": [
    "# Primera respuesta\n",
    "modulo34_df.loc[modulo34_df[\"pobreza\"] == 1, \"nivel_pobreza\"] = \"pobre extremo\"\n",
    "modulo34_df.loc[modulo34_df[\"pobreza\"] == 2, \"nivel_pobreza\"] = \"pobre no extremo\"\n",
    "modulo34_df.loc[modulo34_df[\"pobreza\"] == 3, \"nivel_pobreza\"] = \"no pobre\"\n",
    "\n",
    "print(modulo34_df[[\"pobreza\", \"nivel_pobreza\"]].head())"
   ]
  },
  {
   "cell_type": "code",
   "execution_count": 32,
   "metadata": {
    "colab": {
     "base_uri": "https://localhost:8080/",
     "height": 468
    },
    "id": "fe0a2u_p61mo",
    "outputId": "392d96e7-a397-43b9-a6ed-1d1823044c19"
   },
   "outputs": [
    {
     "name": "stdout",
     "output_type": "stream",
     "text": [
      "   pobreza     nivel_pobreza pobreza_simplificada\n",
      "0        3          no pobre             no pobre\n",
      "1        3          no pobre             no pobre\n",
      "2        3          no pobre             no pobre\n",
      "3        3          no pobre             no pobre\n",
      "4        2  pobre no extremo                pobre\n"
     ]
    }
   ],
   "source": [
    "# Segunda respuesta\n",
    "modulo34_df.loc[modulo34_df[\"pobreza\"].isin([1, 2]), \"pobreza_simplificada\"] = \"pobre\"\n",
    "modulo34_df.loc[modulo34_df[\"pobreza\"] == 3, \"pobreza_simplificada\"] = \"no pobre\"\n",
    "\n",
    "print(modulo34_df[[\"pobreza\", \"nivel_pobreza\", \"pobreza_simplificada\"]].head())"
   ]
  },
  {
   "cell_type": "markdown",
   "metadata": {
    "id": "p3j4pRHnGFI-"
   },
   "source": [
    "7. Queremos saber el promedio de ingresos de los hogares (inghog2d) por nivel de pobreza. Haz un `groupby` para averiguar esto. \n",
    "\n",
    "\n",
    "(Por ejemplo, todos los hogares pobres extremos tendrán un único promedio, y así con las 2 categorías de pobreza adicionales). "
   ]
  },
  {
   "cell_type": "code",
   "execution_count": 246,
   "metadata": {
    "colab": {
     "base_uri": "https://localhost:8080/",
     "height": 175
    },
    "id": "tzRRzKGaGFI-",
    "outputId": "80ac761f-b378-42fa-b97b-6fcf8296c33c"
   },
   "outputs": [
    {
     "data": {
      "text/html": [
       "\n",
       "  <div id=\"df-7a922372-ead7-4b44-ad16-8c7ac4f5b09b\">\n",
       "    <div class=\"colab-df-container\">\n",
       "      <div>\n",
       "<style scoped>\n",
       "    .dataframe tbody tr th:only-of-type {\n",
       "        vertical-align: middle;\n",
       "    }\n",
       "\n",
       "    .dataframe tbody tr th {\n",
       "        vertical-align: top;\n",
       "    }\n",
       "\n",
       "    .dataframe thead th {\n",
       "        text-align: right;\n",
       "    }\n",
       "</style>\n",
       "<table border=\"1\" class=\"dataframe\">\n",
       "  <thead>\n",
       "    <tr style=\"text-align: right;\">\n",
       "      <th></th>\n",
       "      <th>inghog2d</th>\n",
       "    </tr>\n",
       "    <tr>\n",
       "      <th>pobreza</th>\n",
       "      <th></th>\n",
       "    </tr>\n",
       "  </thead>\n",
       "  <tbody>\n",
       "    <tr>\n",
       "      <th>1</th>\n",
       "      <td>9980.110857</td>\n",
       "    </tr>\n",
       "    <tr>\n",
       "      <th>2</th>\n",
       "      <td>15565.160905</td>\n",
       "    </tr>\n",
       "    <tr>\n",
       "      <th>3</th>\n",
       "      <td>32014.094308</td>\n",
       "    </tr>\n",
       "  </tbody>\n",
       "</table>\n",
       "</div>\n",
       "      <button class=\"colab-df-convert\" onclick=\"convertToInteractive('df-7a922372-ead7-4b44-ad16-8c7ac4f5b09b')\"\n",
       "              title=\"Convert this dataframe to an interactive table.\"\n",
       "              style=\"display:none;\">\n",
       "        \n",
       "  <svg xmlns=\"http://www.w3.org/2000/svg\" height=\"24px\"viewBox=\"0 0 24 24\"\n",
       "       width=\"24px\">\n",
       "    <path d=\"M0 0h24v24H0V0z\" fill=\"none\"/>\n",
       "    <path d=\"M18.56 5.44l.94 2.06.94-2.06 2.06-.94-2.06-.94-.94-2.06-.94 2.06-2.06.94zm-11 1L8.5 8.5l.94-2.06 2.06-.94-2.06-.94L8.5 2.5l-.94 2.06-2.06.94zm10 10l.94 2.06.94-2.06 2.06-.94-2.06-.94-.94-2.06-.94 2.06-2.06.94z\"/><path d=\"M17.41 7.96l-1.37-1.37c-.4-.4-.92-.59-1.43-.59-.52 0-1.04.2-1.43.59L10.3 9.45l-7.72 7.72c-.78.78-.78 2.05 0 2.83L4 21.41c.39.39.9.59 1.41.59.51 0 1.02-.2 1.41-.59l7.78-7.78 2.81-2.81c.8-.78.8-2.07 0-2.86zM5.41 20L4 18.59l7.72-7.72 1.47 1.35L5.41 20z\"/>\n",
       "  </svg>\n",
       "      </button>\n",
       "      \n",
       "  <style>\n",
       "    .colab-df-container {\n",
       "      display:flex;\n",
       "      flex-wrap:wrap;\n",
       "      gap: 12px;\n",
       "    }\n",
       "\n",
       "    .colab-df-convert {\n",
       "      background-color: #E8F0FE;\n",
       "      border: none;\n",
       "      border-radius: 50%;\n",
       "      cursor: pointer;\n",
       "      display: none;\n",
       "      fill: #1967D2;\n",
       "      height: 32px;\n",
       "      padding: 0 0 0 0;\n",
       "      width: 32px;\n",
       "    }\n",
       "\n",
       "    .colab-df-convert:hover {\n",
       "      background-color: #E2EBFA;\n",
       "      box-shadow: 0px 1px 2px rgba(60, 64, 67, 0.3), 0px 1px 3px 1px rgba(60, 64, 67, 0.15);\n",
       "      fill: #174EA6;\n",
       "    }\n",
       "\n",
       "    [theme=dark] .colab-df-convert {\n",
       "      background-color: #3B4455;\n",
       "      fill: #D2E3FC;\n",
       "    }\n",
       "\n",
       "    [theme=dark] .colab-df-convert:hover {\n",
       "      background-color: #434B5C;\n",
       "      box-shadow: 0px 1px 3px 1px rgba(0, 0, 0, 0.15);\n",
       "      filter: drop-shadow(0px 1px 2px rgba(0, 0, 0, 0.3));\n",
       "      fill: #FFFFFF;\n",
       "    }\n",
       "  </style>\n",
       "\n",
       "      <script>\n",
       "        const buttonEl =\n",
       "          document.querySelector('#df-7a922372-ead7-4b44-ad16-8c7ac4f5b09b button.colab-df-convert');\n",
       "        buttonEl.style.display =\n",
       "          google.colab.kernel.accessAllowed ? 'block' : 'none';\n",
       "\n",
       "        async function convertToInteractive(key) {\n",
       "          const element = document.querySelector('#df-7a922372-ead7-4b44-ad16-8c7ac4f5b09b');\n",
       "          const dataTable =\n",
       "            await google.colab.kernel.invokeFunction('convertToInteractive',\n",
       "                                                     [key], {});\n",
       "          if (!dataTable) return;\n",
       "\n",
       "          const docLinkHtml = 'Like what you see? Visit the ' +\n",
       "            '<a target=\"_blank\" href=https://colab.research.google.com/notebooks/data_table.ipynb>data table notebook</a>'\n",
       "            + ' to learn more about interactive tables.';\n",
       "          element.innerHTML = '';\n",
       "          dataTable['output_type'] = 'display_data';\n",
       "          await google.colab.output.renderOutput(dataTable, element);\n",
       "          const docLink = document.createElement('div');\n",
       "          docLink.innerHTML = docLinkHtml;\n",
       "          element.appendChild(docLink);\n",
       "        }\n",
       "      </script>\n",
       "    </div>\n",
       "  </div>\n",
       "  "
      ],
      "text/plain": [
       "             inghog2d\n",
       "pobreza              \n",
       "1         9980.110857\n",
       "2        15565.160905\n",
       "3        32014.094308"
      ]
     },
     "execution_count": 246,
     "metadata": {},
     "output_type": "execute_result"
    }
   ],
   "source": [
    "sumaria_small[['inghog2d', 'pobreza']].groupby('pobreza').mean()"
   ]
  },
  {
   "cell_type": "markdown",
   "metadata": {
    "id": "HPdGVw2WGFI-"
   },
   "source": [
    "8. ¡Ahora uniremos los datos!  \n",
    "Pero antes un check de sanidad: Verifica que el número  de filas de ambas bases de datos son las mismas (acuérdate que filtramos las observaciones por `result`).  La ENAHO recolecta información de estos 34,490 hogares a través de todos sus módulos. Para utilizar estos módulos a la vez, realizaremos una \"unión\" (merge).   \n",
    "\n",
    "Une ambas bases con un _inner merge_. Recuerda que el id que identifica a cada hogar se compone de ` conglome vivienda hogar`.  "
   ]
  },
  {
   "cell_type": "code",
   "execution_count": 65,
   "metadata": {
    "colab": {
     "base_uri": "https://localhost:8080/"
    },
    "id": "TqxWCbBr89p1",
    "outputId": "e181f6e9-c2f8-4798-b6bb-493e97eb8e0f"
   },
   "outputs": [
    {
     "name": "stdout",
     "output_type": "stream",
     "text": [
      "22310 34213\n"
     ]
    }
   ],
   "source": [
    "# tu respuesta aquí\n",
    "print(len(modulo1_df), len(modulo34_df))\n"
   ]
  },
  {
   "cell_type": "code",
   "execution_count": 42,
   "metadata": {
    "colab": {
     "base_uri": "https://localhost:8080/"
    },
    "id": "Iylba8_o9KhK",
    "outputId": "7ee63830-9ecb-4116-b0ca-920a665a6ecc"
   },
   "outputs": [
    {
     "name": "stdout",
     "output_type": "stream",
     "text": [
      "Index(['año', 'mes', 'conglome', 'vivienda', 'hogar', 'ubigeo', 'dominio',\n",
      "       'estrato', 'periodo', 'tipenc',\n",
      "       ...\n",
      "       'nbi4', 'nbi5', 'factor07', 'nconglome', 'sub_conglome', 'codccpp',\n",
      "       'nomccpp', 'longitud', 'latitud', 'altitud'],\n",
      "      dtype='object', length=324)\n",
      "Index(['año', 'mes', 'conglome', 'vivienda', 'hogar', 'ubigeo', 'dominio',\n",
      "       'estrato', 'mieperho', 'totmieho',\n",
      "       ...\n",
      "       'linpe', 'linea', 'pobreza', 'lineav', 'pobrezav', 'nconglome',\n",
      "       'sub_conglome', 'pobreza_categoria', 'nivel_pobreza',\n",
      "       'pobreza_simplificada'],\n",
      "      dtype='object', length=170)\n"
     ]
    }
   ],
   "source": [
    "# tu respuesta aquí\n",
    "print(modulo1_df.columns)\n",
    "print(modulo34_df.columns)"
   ]
  },
  {
   "cell_type": "code",
   "execution_count": 71,
   "metadata": {
    "colab": {
     "base_uri": "https://localhost:8080/",
     "height": 488
    },
    "id": "cbYXIqnx9RDz",
    "outputId": "3d05c1dd-1fb5-4b31-d4d4-ba921fc3e1df"
   },
   "outputs": [
    {
     "name": "stdout",
     "output_type": "stream",
     "text": [
      "22310\n"
     ]
    },
    {
     "data": {
      "text/html": [
       "<div>\n",
       "<style scoped>\n",
       "    .dataframe tbody tr th:only-of-type {\n",
       "        vertical-align: middle;\n",
       "    }\n",
       "\n",
       "    .dataframe tbody tr th {\n",
       "        vertical-align: top;\n",
       "    }\n",
       "\n",
       "    .dataframe thead th {\n",
       "        text-align: right;\n",
       "    }\n",
       "</style>\n",
       "<table border=\"1\" class=\"dataframe\">\n",
       "  <thead>\n",
       "    <tr style=\"text-align: right;\">\n",
       "      <th></th>\n",
       "      <th>año_x</th>\n",
       "      <th>mes_x</th>\n",
       "      <th>conglome</th>\n",
       "      <th>vivienda</th>\n",
       "      <th>hogar</th>\n",
       "      <th>ubigeo_x</th>\n",
       "      <th>dominio_x</th>\n",
       "      <th>estrato_x</th>\n",
       "      <th>mieperho_x</th>\n",
       "      <th>totmieho_x</th>\n",
       "      <th>...</th>\n",
       "      <th>linpe_y</th>\n",
       "      <th>linea_y</th>\n",
       "      <th>pobreza_y</th>\n",
       "      <th>lineav_y</th>\n",
       "      <th>pobrezav_y</th>\n",
       "      <th>nconglome_y</th>\n",
       "      <th>sub_conglome_y</th>\n",
       "      <th>pobreza_categoria_y</th>\n",
       "      <th>nivel_pobreza_y</th>\n",
       "      <th>pobreza_simplificada_y</th>\n",
       "    </tr>\n",
       "  </thead>\n",
       "  <tbody>\n",
       "    <tr>\n",
       "      <th>0</th>\n",
       "      <td>2022</td>\n",
       "      <td>1</td>\n",
       "      <td>5030</td>\n",
       "      <td>8</td>\n",
       "      <td>11</td>\n",
       "      <td>10201</td>\n",
       "      <td>7</td>\n",
       "      <td>4</td>\n",
       "      <td>2</td>\n",
       "      <td>2</td>\n",
       "      <td>...</td>\n",
       "      <td>223.765335</td>\n",
       "      <td>378.169434</td>\n",
       "      <td>3</td>\n",
       "      <td>636.334351</td>\n",
       "      <td>4</td>\n",
       "      <td>6618</td>\n",
       "      <td>0</td>\n",
       "      <td>no pobre</td>\n",
       "      <td>no pobre</td>\n",
       "      <td>no pobre</td>\n",
       "    </tr>\n",
       "    <tr>\n",
       "      <th>1</th>\n",
       "      <td>2022</td>\n",
       "      <td>1</td>\n",
       "      <td>5030</td>\n",
       "      <td>17</td>\n",
       "      <td>11</td>\n",
       "      <td>10201</td>\n",
       "      <td>7</td>\n",
       "      <td>4</td>\n",
       "      <td>2</td>\n",
       "      <td>2</td>\n",
       "      <td>...</td>\n",
       "      <td>223.765335</td>\n",
       "      <td>378.169434</td>\n",
       "      <td>3</td>\n",
       "      <td>662.069275</td>\n",
       "      <td>4</td>\n",
       "      <td>6618</td>\n",
       "      <td>0</td>\n",
       "      <td>no pobre</td>\n",
       "      <td>no pobre</td>\n",
       "      <td>no pobre</td>\n",
       "    </tr>\n",
       "    <tr>\n",
       "      <th>2</th>\n",
       "      <td>2022</td>\n",
       "      <td>1</td>\n",
       "      <td>5030</td>\n",
       "      <td>33</td>\n",
       "      <td>11</td>\n",
       "      <td>10201</td>\n",
       "      <td>7</td>\n",
       "      <td>4</td>\n",
       "      <td>4</td>\n",
       "      <td>4</td>\n",
       "      <td>...</td>\n",
       "      <td>223.765335</td>\n",
       "      <td>378.169434</td>\n",
       "      <td>3</td>\n",
       "      <td>662.475037</td>\n",
       "      <td>3</td>\n",
       "      <td>6618</td>\n",
       "      <td>0</td>\n",
       "      <td>no pobre</td>\n",
       "      <td>no pobre</td>\n",
       "      <td>no pobre</td>\n",
       "    </tr>\n",
       "    <tr>\n",
       "      <th>3</th>\n",
       "      <td>2022</td>\n",
       "      <td>1</td>\n",
       "      <td>5030</td>\n",
       "      <td>59</td>\n",
       "      <td>11</td>\n",
       "      <td>10201</td>\n",
       "      <td>7</td>\n",
       "      <td>4</td>\n",
       "      <td>11</td>\n",
       "      <td>11</td>\n",
       "      <td>...</td>\n",
       "      <td>223.765335</td>\n",
       "      <td>378.169434</td>\n",
       "      <td>2</td>\n",
       "      <td>654.640137</td>\n",
       "      <td>2</td>\n",
       "      <td>6618</td>\n",
       "      <td>0</td>\n",
       "      <td>pobre no extremo</td>\n",
       "      <td>pobre no extremo</td>\n",
       "      <td>pobre</td>\n",
       "    </tr>\n",
       "    <tr>\n",
       "      <th>4</th>\n",
       "      <td>2022</td>\n",
       "      <td>1</td>\n",
       "      <td>5049</td>\n",
       "      <td>35</td>\n",
       "      <td>11</td>\n",
       "      <td>10701</td>\n",
       "      <td>7</td>\n",
       "      <td>4</td>\n",
       "      <td>4</td>\n",
       "      <td>4</td>\n",
       "      <td>...</td>\n",
       "      <td>223.765335</td>\n",
       "      <td>378.169434</td>\n",
       "      <td>1</td>\n",
       "      <td>668.556091</td>\n",
       "      <td>1</td>\n",
       "      <td>6719</td>\n",
       "      <td>0</td>\n",
       "      <td>pobre extremo</td>\n",
       "      <td>pobre extremo</td>\n",
       "      <td>pobre</td>\n",
       "    </tr>\n",
       "  </tbody>\n",
       "</table>\n",
       "<p>5 rows × 337 columns</p>\n",
       "</div>"
      ],
      "text/plain": [
       "   año_x  mes_x  conglome  vivienda  hogar  ubigeo_x  dominio_x  estrato_x  \\\n",
       "0   2022      1      5030         8     11     10201          7          4   \n",
       "1   2022      1      5030        17     11     10201          7          4   \n",
       "2   2022      1      5030        33     11     10201          7          4   \n",
       "3   2022      1      5030        59     11     10201          7          4   \n",
       "4   2022      1      5049        35     11     10701          7          4   \n",
       "\n",
       "   mieperho_x  totmieho_x  ...     linpe_y     linea_y  pobreza_y    lineav_y  \\\n",
       "0           2           2  ...  223.765335  378.169434          3  636.334351   \n",
       "1           2           2  ...  223.765335  378.169434          3  662.069275   \n",
       "2           4           4  ...  223.765335  378.169434          3  662.475037   \n",
       "3          11          11  ...  223.765335  378.169434          2  654.640137   \n",
       "4           4           4  ...  223.765335  378.169434          1  668.556091   \n",
       "\n",
       "   pobrezav_y  nconglome_y  sub_conglome_y  pobreza_categoria_y  \\\n",
       "0           4         6618               0             no pobre   \n",
       "1           4         6618               0             no pobre   \n",
       "2           3         6618               0             no pobre   \n",
       "3           2         6618               0     pobre no extremo   \n",
       "4           1         6719               0        pobre extremo   \n",
       "\n",
       "    nivel_pobreza_y  pobreza_simplificada_y  \n",
       "0          no pobre                no pobre  \n",
       "1          no pobre                no pobre  \n",
       "2          no pobre                no pobre  \n",
       "3  pobre no extremo                   pobre  \n",
       "4     pobre extremo                   pobre  \n",
       "\n",
       "[5 rows x 337 columns]"
      ]
     },
     "execution_count": 71,
     "metadata": {},
     "output_type": "execute_result"
    }
   ],
   "source": [
    "# tu respuesta aquí\n",
    "\n",
    "merged_df = modulo1_df.merge(modulo34_df, on=['conglome', 'vivienda', 'hogar'], how='inner')\n",
    "\n",
    "print(len(merged_df))\n",
    "merged_df.head() \n"
   ]
  },
  {
   "cell_type": "markdown",
   "metadata": {
    "id": "U7wgw3R_GFI_"
   },
   "source": [
    "9. Haz un ```groupby``` que agrupe (`agg`) los datos por nivel de pobreza  y la nbi1. Queremos hallar el promedio y la mediana de los ingresos (inghog2d) y los gastos (gashog2d) por el producto cartesiano de las categorías de estas 2 variables - pobreza y nbi 1 -. \n",
    "\n",
    "El producto cartesiano es tan sólo todas las posibles combinaciones entre categorías. \n",
    "En este caso, tendremos:\n",
    "- pobre extremo con nbi1\n",
    "- pobre extremo sin nbi1\n",
    "- pobre no extremo con nbi1\n",
    "- pobre no extremo sin nbi1\n",
    "- no pobre con nbi1\n",
    "- no pobre sin nbi1\n",
    "\n",
    "(Este es un  ejemplo de cómo, al cruzar un indicador de pobreza monetaria -pobreza- y pobreza multidimensional-nbis-, podemos seguir observando brechas)."
   ]
  },
  {
   "cell_type": "code",
   "execution_count": 93,
   "metadata": {
    "colab": {
     "base_uri": "https://localhost:8080/"
    },
    "id": "OeyLC00EDrZT",
    "outputId": "1c339323-84e9-4527-858e-55519677840e"
   },
   "outputs": [
    {
     "name": "stdout",
     "output_type": "stream",
     "text": [
      "(22310, 176)\n",
      "True\n",
      "True\n",
      "                           inghog2d                    gashog2d              \n",
      "                               mean        median          mean        median\n",
      "nivel_pobreza    nbi1                                                        \n",
      "no pobre         0     41656.954372  30943.687500  32418.725993  27214.943359\n",
      "                 1     26553.242038  22067.464844  22125.476841  20123.843750\n",
      "pobre extremo    0     12581.633521   9942.978027   8352.285894   7863.053955\n",
      "                 1     13853.902180  11588.000000   9157.339940   8510.512695\n",
      "pobre no extremo 0     20573.667057  16493.626953  14938.310163  14043.469238\n",
      "                 1     18521.646726  15186.986328  14905.636859  13621.658203\n"
     ]
    }
   ],
   "source": [
    "# tu respuesta aquí\n",
    "\n",
    "merged_df = modulo1_df.merge(vivienda_df, on=[\"conglome\", \"vivienda\", \"hogar\"], how=\"inner\")\n",
    "\n",
    "print(merged_df.shape)\n",
    "\n",
    "print(\"nbi1\" in merged_df.columns)  \n",
    "print(\"nivel_pobreza\" in merged_df.columns)  \n",
    "\n",
    "resultado = merged_df.groupby([\"nivel_pobreza\", \"nbi1\"])[[\"inghog2d\", \"gashog2d\"]].agg([\"mean\", \"median\"])\n",
    "print(resultado)\n"
   ]
  },
  {
   "cell_type": "markdown",
   "metadata": {
    "id": "ngipWVz3GFI_"
   },
   "source": [
    "10. Crea una variable que nos informe sobre los hogares que tienen al menos dos nbis. Esta tomará el valor de 1 si tiene dos nbis (cualquiera sean estas), 0 en caso contrario (menos de 2). \n",
    "\n",
    "Calcula el promedio de miembros dependientes por cada categoría de esta nueva variable. "
   ]
  },
  {
   "cell_type": "code",
   "execution_count": 117,
   "metadata": {
    "colab": {
     "base_uri": "https://localhost:8080/",
     "height": 143
    },
    "id": "8EWBYZFOGFJA",
    "outputId": "4f8617c3-d6fa-46e5-e108-f86556b3c134"
   },
   "outputs": [
    {
     "ename": "TypeError",
     "evalue": "'>=' not supported between instances of 'str' and 'int'",
     "output_type": "error",
     "traceback": [
      "\u001b[1;31m---------------------------------------------------------------------------\u001b[0m",
      "\u001b[1;31mTypeError\u001b[0m                                 Traceback (most recent call last)",
      "Cell \u001b[1;32mIn[117], line 3\u001b[0m\n\u001b[0;32m      1\u001b[0m \u001b[38;5;66;03m# tu respuesta aquí\u001b[39;00m\n\u001b[1;32m----> 3\u001b[0m vivienda_df[\u001b[38;5;124m\"\u001b[39m\u001b[38;5;124mhogar_con_2_nbis\u001b[39m\u001b[38;5;124m\"\u001b[39m] \u001b[38;5;241m=\u001b[39m (vivienda_df[[\u001b[38;5;124m\"\u001b[39m\u001b[38;5;124mnbi1\u001b[39m\u001b[38;5;124m\"\u001b[39m, \u001b[38;5;124m\"\u001b[39m\u001b[38;5;124mnbi2\u001b[39m\u001b[38;5;124m\"\u001b[39m, \u001b[38;5;124m\"\u001b[39m\u001b[38;5;124mnbi3\u001b[39m\u001b[38;5;124m\"\u001b[39m, \u001b[38;5;124m\"\u001b[39m\u001b[38;5;124mnbi4\u001b[39m\u001b[38;5;124m\"\u001b[39m, \u001b[38;5;124m\"\u001b[39m\u001b[38;5;124mnbi5\u001b[39m\u001b[38;5;124m\"\u001b[39m]]\u001b[38;5;241m.\u001b[39msum(axis\u001b[38;5;241m=\u001b[39m\u001b[38;5;241m1\u001b[39m) \u001b[38;5;241m>\u001b[39m\u001b[38;5;241m=\u001b[39m \u001b[38;5;241m2\u001b[39m)\u001b[38;5;241m.\u001b[39mastype(\u001b[38;5;28mint\u001b[39m)\n\u001b[0;32m      5\u001b[0m sumaria_df\u001b[38;5;241m.\u001b[39mgroupby(\u001b[38;5;124m\"\u001b[39m\u001b[38;5;124mhogar_con_2_nbis\u001b[39m\u001b[38;5;124m\"\u001b[39m)[\u001b[38;5;124m\"\u001b[39m\u001b[38;5;124mmiembros_dependientes\u001b[39m\u001b[38;5;124m\"\u001b[39m]\u001b[38;5;241m.\u001b[39mmean()\n",
      "File \u001b[1;32m~\\anaconda3\\Lib\\site-packages\\pandas\\core\\ops\\common.py:81\u001b[0m, in \u001b[0;36m_unpack_zerodim_and_defer.<locals>.new_method\u001b[1;34m(self, other)\u001b[0m\n\u001b[0;32m     77\u001b[0m             \u001b[38;5;28;01mreturn\u001b[39;00m \u001b[38;5;28mNotImplemented\u001b[39m\n\u001b[0;32m     79\u001b[0m other \u001b[38;5;241m=\u001b[39m item_from_zerodim(other)\n\u001b[1;32m---> 81\u001b[0m \u001b[38;5;28;01mreturn\u001b[39;00m method(\u001b[38;5;28mself\u001b[39m, other)\n",
      "File \u001b[1;32m~\\anaconda3\\Lib\\site-packages\\pandas\\core\\arraylike.py:60\u001b[0m, in \u001b[0;36mOpsMixin.__ge__\u001b[1;34m(self, other)\u001b[0m\n\u001b[0;32m     58\u001b[0m \u001b[38;5;129m@unpack_zerodim_and_defer\u001b[39m(\u001b[38;5;124m\"\u001b[39m\u001b[38;5;124m__ge__\u001b[39m\u001b[38;5;124m\"\u001b[39m)\n\u001b[0;32m     59\u001b[0m \u001b[38;5;28;01mdef\u001b[39;00m \u001b[38;5;21m__ge__\u001b[39m(\u001b[38;5;28mself\u001b[39m, other):\n\u001b[1;32m---> 60\u001b[0m     \u001b[38;5;28;01mreturn\u001b[39;00m \u001b[38;5;28mself\u001b[39m\u001b[38;5;241m.\u001b[39m_cmp_method(other, operator\u001b[38;5;241m.\u001b[39mge)\n",
      "File \u001b[1;32m~\\anaconda3\\Lib\\site-packages\\pandas\\core\\series.py:6096\u001b[0m, in \u001b[0;36mSeries._cmp_method\u001b[1;34m(self, other, op)\u001b[0m\n\u001b[0;32m   6093\u001b[0m rvalues \u001b[38;5;241m=\u001b[39m extract_array(other, extract_numpy\u001b[38;5;241m=\u001b[39m\u001b[38;5;28;01mTrue\u001b[39;00m, extract_range\u001b[38;5;241m=\u001b[39m\u001b[38;5;28;01mTrue\u001b[39;00m)\n\u001b[0;32m   6095\u001b[0m \u001b[38;5;28;01mwith\u001b[39;00m np\u001b[38;5;241m.\u001b[39merrstate(\u001b[38;5;28mall\u001b[39m\u001b[38;5;241m=\u001b[39m\u001b[38;5;124m\"\u001b[39m\u001b[38;5;124mignore\u001b[39m\u001b[38;5;124m\"\u001b[39m):\n\u001b[1;32m-> 6096\u001b[0m     res_values \u001b[38;5;241m=\u001b[39m ops\u001b[38;5;241m.\u001b[39mcomparison_op(lvalues, rvalues, op)\n\u001b[0;32m   6098\u001b[0m \u001b[38;5;28;01mreturn\u001b[39;00m \u001b[38;5;28mself\u001b[39m\u001b[38;5;241m.\u001b[39m_construct_result(res_values, name\u001b[38;5;241m=\u001b[39mres_name)\n",
      "File \u001b[1;32m~\\anaconda3\\Lib\\site-packages\\pandas\\core\\ops\\array_ops.py:293\u001b[0m, in \u001b[0;36mcomparison_op\u001b[1;34m(left, right, op)\u001b[0m\n\u001b[0;32m    290\u001b[0m     \u001b[38;5;28;01mreturn\u001b[39;00m invalid_comparison(lvalues, rvalues, op)\n\u001b[0;32m    292\u001b[0m \u001b[38;5;28;01melif\u001b[39;00m is_object_dtype(lvalues\u001b[38;5;241m.\u001b[39mdtype) \u001b[38;5;129;01mor\u001b[39;00m \u001b[38;5;28misinstance\u001b[39m(rvalues, \u001b[38;5;28mstr\u001b[39m):\n\u001b[1;32m--> 293\u001b[0m     res_values \u001b[38;5;241m=\u001b[39m comp_method_OBJECT_ARRAY(op, lvalues, rvalues)\n\u001b[0;32m    295\u001b[0m \u001b[38;5;28;01melse\u001b[39;00m:\n\u001b[0;32m    296\u001b[0m     res_values \u001b[38;5;241m=\u001b[39m _na_arithmetic_op(lvalues, rvalues, op, is_cmp\u001b[38;5;241m=\u001b[39m\u001b[38;5;28;01mTrue\u001b[39;00m)\n",
      "File \u001b[1;32m~\\anaconda3\\Lib\\site-packages\\pandas\\core\\ops\\array_ops.py:82\u001b[0m, in \u001b[0;36mcomp_method_OBJECT_ARRAY\u001b[1;34m(op, x, y)\u001b[0m\n\u001b[0;32m     80\u001b[0m     result \u001b[38;5;241m=\u001b[39m libops\u001b[38;5;241m.\u001b[39mvec_compare(x\u001b[38;5;241m.\u001b[39mravel(), y\u001b[38;5;241m.\u001b[39mravel(), op)\n\u001b[0;32m     81\u001b[0m \u001b[38;5;28;01melse\u001b[39;00m:\n\u001b[1;32m---> 82\u001b[0m     result \u001b[38;5;241m=\u001b[39m libops\u001b[38;5;241m.\u001b[39mscalar_compare(x\u001b[38;5;241m.\u001b[39mravel(), y, op)\n\u001b[0;32m     83\u001b[0m \u001b[38;5;28;01mreturn\u001b[39;00m result\u001b[38;5;241m.\u001b[39mreshape(x\u001b[38;5;241m.\u001b[39mshape)\n",
      "File \u001b[1;32m~\\anaconda3\\Lib\\site-packages\\pandas\\_libs\\ops.pyx:107\u001b[0m, in \u001b[0;36mpandas._libs.ops.scalar_compare\u001b[1;34m()\u001b[0m\n",
      "\u001b[1;31mTypeError\u001b[0m: '>=' not supported between instances of 'str' and 'int'"
     ]
    }
   ],
   "source": [
    "# tu respuesta aquí\n",
    "\n",
    "vivienda_df[\"hogar_con_2_nbis\"] = (vivienda_df[[\"nbi1\", \"nbi2\", \"nbi3\", \"nbi4\", \"nbi5\"]].sum(axis=1) >= 2).astype(int)\n",
    "\n",
    "sumaria_df.groupby(\"hogar_con_2_nbis\")[\"miembros_dependientes\"].mean()"
   ]
  },
  {
   "cell_type": "markdown",
   "metadata": {
    "id": "FWyfNv0nGFJA"
   },
   "source": [
    "Crédito extra: \n",
    "\n",
    "11. Guarda el dataframe del resultado del ejercicio 9 como un csv. (No es necesario adjuntar este csv, con  que el bloque haya corrido está bien). "
   ]
  },
  {
   "cell_type": "code",
   "execution_count": 294,
   "metadata": {
    "id": "0qmac8KrGFJA"
   },
   "outputs": [],
   "source": [
    "# tu respuesta aquí. "
   ]
  },
  {
   "cell_type": "markdown",
   "metadata": {
    "id": "0GToqotdGFJA"
   },
   "source": [
    "12. Haz una tabulación cruzada en donde cuentes el número de personas, por nivel de pobreza, que hay en cada departamento. Este nuevo dataframe tendrá como filas a los departamentos y las nuevas columnas, los 3 niveles de pobreza (pobre extremo, pobre y no pobre). Usa `pivot_table`.\n",
    "\n",
    "*Nota: Los departamentos no necesitan tener nombre, con que estén enumerados del 1 al 25, está bien. \n",
    "Pista: Puedes utilizar una función que guarde el primer dígito de ubigeo cuando el valor es menor a x, y guardar 2 dígitos cuando el valor es mayor.   \n",
    "El método de creación de la variable departamento es libre. \n"
   ]
  },
  {
   "cell_type": "code",
   "execution_count": 1,
   "metadata": {
    "id": "AWGNAyjuGFJA"
   },
   "outputs": [],
   "source": [
    "# tu respuesta aquí. "
   ]
  },
  {
   "cell_type": "markdown",
   "metadata": {
    "id": "2gdRa7LcGFJA"
   },
   "source": [
    "# Parte 2"
   ]
  },
  {
   "cell_type": "markdown",
   "metadata": {
    "id": "YHHwSvoMGFJB"
   },
   "source": []
  },
  {
   "cell_type": "markdown",
   "metadata": {},
   "source": [
    "1. Escribe una función que toma dos parámetros numéricos, `a` y `b`, y resta ambos números, de tal forma que `c = a - b`. Expresa `c` como el valor a retornar.  \n"
   ]
  },
  {
   "cell_type": "code",
   "execution_count": 119,
   "metadata": {},
   "outputs": [],
   "source": [
    "def restar(a, b):\n",
    "    c = a - b\n",
    "    return c\n"
   ]
  },
  {
   "cell_type": "markdown",
   "metadata": {},
   "source": [
    "2. Escribe una función que transforme la temperatura de grados celsius a grados fahrenheit. La fórmula es:    \n",
    "$F = 1.8*C + 32$"
   ]
  },
  {
   "cell_type": "code",
   "execution_count": 99,
   "metadata": {},
   "outputs": [],
   "source": [
    "def celsius_a_fahrenheit(temp_c):\n",
    "    '''\n",
    "    transforma temperatura de celsius a fahrenheit\n",
    "    Input: \n",
    "        temp_c:número float\n",
    "    Ouput: \n",
    "        retorna: número float\n",
    "    '''\n",
    "    \n",
    "    #Escribe aquí tu función \n",
    "    temp_f = 1.8 * temp_c + 32\n",
    "    return temp_f "
   ]
  },
  {
   "cell_type": "code",
   "execution_count": 103,
   "metadata": {},
   "outputs": [
    {
     "name": "stdout",
     "output_type": "stream",
     "text": [
      "32.0\n",
      "212.0\n"
     ]
    }
   ],
   "source": [
    "def celsius_a_fahrenheit(temp_c):\n",
    "    '''\n",
    "    Transforma temperatura de celsius a fahrenheit\n",
    "    Input: \n",
    "        temp_c: número float\n",
    "    Ouput: \n",
    "        retorna: número float\n",
    "    '''\n",
    "    \n",
    "    temp_f = 1.8 * temp_c + 32 # Aplicamos la fórumla de conversión\n",
    "    return temp_f\n",
    "\n",
    "print(celsius_a_fahrenheit(0))\n",
    "print(celsius_a_fahrenheit(100))"
   ]
  },
  {
   "cell_type": "markdown",
   "metadata": {},
   "source": [
    "3. \n",
    "\n",
    "3.1. Escribe una función que tome como input una lista de números y calcule su promedio. \n",
    "\n",
    "3.2. Escribe una función que tome como input un diccionario, y que almacene en una lista a todos sus valores.  \n",
    "Es decir. Si el diccionario es el de la clase: \n",
    "`ejem_dict =  {\"Juana\": \"gallina\", \"Martin\": \"gato\", \"Carla\": \"conejo\", \"Cristina\": \"gato\", \"Diego\": \"perro\" } `\n",
    "Queremos un diccionario = `[\"gallina\", \"gato\", \"conejo\",\"gato\", \"perro\"]`"
   ]
  },
  {
   "cell_type": "code",
   "execution_count": 113,
   "metadata": {},
   "outputs": [
    {
     "data": {
      "text/plain": [
       "4.0"
      ]
     },
     "execution_count": 113,
     "metadata": {},
     "output_type": "execute_result"
    }
   ],
   "source": [
    ">>> import math\n",
    ">>> import statistics\n",
    ">>> import numpy as np\n",
    ">>> from scipy import stats\n",
    ">>> import scipy\n",
    ">>> import pandas as pd\n",
    ">>> import matplotlib.pyplot as plt\n",
    "\n",
    "def promedio(lista):\n",
    "    mean = sum(lista)/len(lista)\n",
    "    return mean\n",
    "\n",
    "lista=[2,6,2,6]\n",
    "promedio(lista)"
   ]
  },
  {
   "cell_type": "markdown",
   "metadata": {},
   "source": [
    "4. Tenemos la siguientes función: "
   ]
  },
  {
   "cell_type": "code",
   "execution_count": 3,
   "metadata": {},
   "outputs": [],
   "source": [
    "def grado_escolar(edad):\n",
    "    \n",
    "    ''' calcula el grado escolar al que pertences segun tu edad\n",
    "    Input: \n",
    "    edad : int\n",
    "    output: tupla, compuestad de \n",
    "    grado: string\n",
    "    esp: especifico que grado\n",
    "    \n",
    "    '''\n",
    "    \n",
    "    if ((edad < 6) | (edad > 17)):\n",
    "        return \"No está en edad escolar\"\n",
    "    #assert edad > 5 & edad < 17\n",
    "    elif ((edad >=6) & (edad < 12)):\n",
    "        grado = \"Primaria\"\n",
    "        if edad == 6:\n",
    "            esp = \"1er grado\"\n",
    "        elif edad == 7:\n",
    "            esp = \"2do grado\"\n",
    "        elif edad == 8:\n",
    "            esp = \"3er grado\"\n",
    "        elif edad == 9:\n",
    "            esp = \"4to grado\"\n",
    "        elif edad == 10:\n",
    "            esp = \"5to grado\"\n",
    "        else:\n",
    "            esp = \"6to grado\"\n",
    "        \n",
    "    else:\n",
    "        grado = \"Secundaria\"\n",
    "        if edad == 12:\n",
    "            esp = \"1er año\"\n",
    "        elif edad == 13:\n",
    "            esp = \"2do año\"\n",
    "        elif edad == 14:\n",
    "            esp = \"3er año\"\n",
    "        elif edad == 15:\n",
    "            esp = \"4to año\"\n",
    "        else:\n",
    "            esp = \"5to año\"\n",
    "            \n",
    "    return grado, esp"
   ]
  },
  {
   "cell_type": "markdown",
   "metadata": {},
   "source": [
    "\n",
    "Asimismo, tenemos a 7 niños, que tienen las siguientes edades:   \n",
    "    `edades = [2, 4, 6, 7, 10, 15, 16]`  \n",
    "Queremos saber a qué grados/años van estos niños. Para ello, crea una lista vacía. En dicha lista almacenarás el resultado de dicha función para cada una de las edades de esta lista. Utiliza un for loop . \n",
    "\n",
    "Pista: Para familiarizarte con la función, puedes utilizarla con edades dentro del rango de edad escolar. "
   ]
  },
  {
   "cell_type": "code",
   "execution_count": 106,
   "metadata": {},
   "outputs": [
    {
     "name": "stdout",
     "output_type": "stream",
     "text": [
      "Edad: 2 -> No está en edad escolar\n",
      "Edad: 4 -> No está en edad escolar\n",
      "Edad: 6 -> ('Primaria', '1er grado')\n",
      "Edad: 7 -> ('Primaria', '2do grado')\n",
      "Edad: 10 -> ('Primaria', '5to grado')\n",
      "Edad: 15 -> ('Secundaria', '4to año')\n",
      "Edad: 16 -> ('Secundaria', '5to año')\n"
     ]
    }
   ],
   "source": [
    "def grado_escolar(edad):\n",
    "    \n",
    "    ''' calcula el grado escolar al que pertences segun tu edad\n",
    "    Input: \n",
    "    edad : int\n",
    "    output: tupla, compuestad de \n",
    "    grado: string\n",
    "    esp: especifico que grado\n",
    "    \n",
    "    '''\n",
    "    \n",
    "    if ((edad < 6) | (edad > 17)):\n",
    "        return \"No está en edad escolar\"\n",
    "    #assert edad > 5 & edad < 17\n",
    "    elif ((edad >=6) & (edad < 12)):\n",
    "        grado = \"Primaria\"\n",
    "        if edad == 6:\n",
    "            esp = \"1er grado\"\n",
    "        elif edad == 7:\n",
    "            esp = \"2do grado\"\n",
    "        elif edad == 8:\n",
    "            esp = \"3er grado\"\n",
    "        elif edad == 9:\n",
    "            esp = \"4to grado\"\n",
    "        elif edad == 10:\n",
    "            esp = \"5to grado\"\n",
    "        else:\n",
    "            esp = \"6to grado\"\n",
    "        \n",
    "    else:\n",
    "        grado = \"Secundaria\"\n",
    "        if edad == 12:\n",
    "            esp = \"1er año\"\n",
    "        elif edad == 13:\n",
    "            esp = \"2do año\"\n",
    "        elif edad == 14:\n",
    "            esp = \"3er año\"\n",
    "        elif edad == 15:\n",
    "            esp = \"4to año\"\n",
    "        else:\n",
    "            esp = \"5to año\"\n",
    "            \n",
    "    return grado, esp\n",
    "\n",
    "edades = [2, 4, 6, 7, 10, 15, 16]\n",
    "\n",
    "resultados = []\n",
    "\n",
    "for edad in edades: \n",
    "    resultados.append((edad, grado_escolar(edad)))\n",
    "    \n",
    "for edad, resultado in resultados: \n",
    "    print(f\"Edad: {edad} -> {resultado}\")"
   ]
  }
 ],
 "metadata": {
  "colab": {
   "collapsed_sections": [],
   "name": "T3_2022_AV.ipynb",
   "provenance": []
  },
  "kernelspec": {
   "display_name": "Python 3 (ipykernel)",
   "language": "python",
   "name": "python3"
  },
  "language_info": {
   "codemirror_mode": {
    "name": "ipython",
    "version": 3
   },
   "file_extension": ".py",
   "mimetype": "text/x-python",
   "name": "python",
   "nbconvert_exporter": "python",
   "pygments_lexer": "ipython3",
   "version": "3.11.5"
  }
 },
 "nbformat": 4,
 "nbformat_minor": 1
}
