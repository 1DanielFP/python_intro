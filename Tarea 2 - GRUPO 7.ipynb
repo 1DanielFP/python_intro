{
 "cells": [
  {
   "cell_type": "markdown",
   "metadata": {
    "id": "oifLIy0lGFIy"
   },
   "source": [
    "# Tarea 4 \n",
    "\n",
    "Hora de entrega: Viernes 14 de marzo, 23:59 pm\n",
    "\n",
    "\n",
    "Entregar la tarea en este notebook, no usar una adicional a esta. \n",
    "\n",
    "\n"
   ]
  },
  {
   "cell_type": "markdown",
   "metadata": {
    "id": "yjEzI3TpGFI2"
   },
   "source": [
    "# Parte 1\n",
    "\n",
    "- Antes que nada, ¡necesitamos nuestros datos! \n",
    "1. Ve a la página de microdatos del [INEI](http://iinei.inei.gob.pe/microdatos/). \n",
    "2. Ve a \"Consulta por encuestas\" y ve a ENAHO metodología ACTUALIZADA. \n",
    "3. Elige aquella que dice \"Condiciones de Vida y Pobreza - ENAHO\" (la que no es panel). \n",
    "4. Elige el año 2022, y en período, elige la anual.   \n",
    "5. Descarga los **archivos CSV** del Código módulo 1 (Características de la vivienda y el hogar) y el módulo 34 (Sumarias - Variables Calculadas). \n",
    "\n",
    "(El nombre del archivo de sumaria es Sumaria-2022).\n",
    "\n",
    "Esta tarea está pensada en ser desarrollada con los CSV (no los .dta o .sav, que son los archivos de stata ó spss respectivamente).\n",
    "\n",
    "\n",
    "La ENAHO es una encuesta muy amplia que está distribuida en varios módulos. En esta tarea veremos cómo podemos utilizar información de varios de estos módulos para sacar datos interesantes. "
   ]
  },
  {
   "cell_type": "markdown",
   "metadata": {
    "id": "ENzVKXEGGFI3"
   },
   "source": [
    "1. Lee ambos archivos csv con pandas y asígnales un nombre para que puedas trabajar con ambos como base de datos. (Si es que sale un error, es debido a que nuestras encuestas están en español y tienen caracteres como ˜ de la ñ o el acento. Por ello, a las opciones de lectura del csv, agrega la siguiente opción ``` encoding = \"latin-1\" ```. \n",
    "\n",
    "(No olvides importar pandas 🐼)\n",
    "\n",
    "\n",
    "En caso tus columnas salgan con el nombre en mayúscula, puedes correr el siguiente comando para cambiarlas a minúsculas:\n",
    "\n",
    "``` python3 \n",
    "df.columns= df.columns.str.lower()\n",
    "``` \n",
    "Donde `df` es el nombre del dataframe.   \n",
    "(En esta clase no ahondamos en el manejo de strings, pero `lower()` es un método de este tipo de variables para convertir el string a minúscula.)"
   ]
  },
  {
   "cell_type": "code",
   "execution_count": 62,
   "metadata": {
    "colab": {
     "base_uri": "https://localhost:8080/",
     "height": 107,
     "resources": {
      "http://localhost:8080/nbextensions/google.colab/files.js": {
       "data": "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",
       "headers": [
        [
         "content-type",
         "application/javascript"
        ]
       ],
       "ok": true,
       "status": 200,
       "status_text": ""
      }
     }
    },
    "id": "NRCgHgylGFI4",
    "outputId": "e01336e4-d6fe-4733-c0ea-e3b038e811d2"
   },
   "outputs": [],
   "source": [
    "import pandas as pd"
   ]
  },
  {
   "cell_type": "code",
   "execution_count": 64,
   "metadata": {
    "colab": {
     "base_uri": "https://localhost:8080/"
    },
    "id": "D3nH98YkN20p",
    "outputId": "50fbe805-bb8e-407c-880c-fdc26e0ec627"
   },
   "outputs": [
    {
     "name": "stdout",
     "output_type": "stream",
     "text": [
      "Index(['año', 'mes', 'conglome', 'vivienda', 'hogar', 'ubigeo', 'dominio',\n",
      "       'estrato', 'periodo', 'tipenc',\n",
      "       ...\n",
      "       'nbi4', 'nbi5', 'factor07', 'nconglome', 'sub_conglome', 'codccpp',\n",
      "       'nomccpp', 'longitud', 'latitud', 'altitud'],\n",
      "      dtype='object', length=324)\n",
      "Index(['año', 'mes', 'conglome', 'vivienda', 'hogar', 'ubigeo', 'dominio',\n",
      "       'estrato', 'mieperho', 'totmieho',\n",
      "       ...\n",
      "       'estrsocial', 'factor07', 'ld', 'linpe', 'linea', 'pobreza', 'lineav',\n",
      "       'pobrezav', 'nconglome', 'sub_conglome'],\n",
      "      dtype='object', length=167)\n"
     ]
    }
   ],
   "source": [
    "#Leemos ambos archivos csv y definimos los data frames\n",
    "df_Enaho = pd.read_csv(\"Enaho01-2022-100.csv\", encoding=\"latin-1\")\n",
    "df_sumaria = pd.read_csv(\"Sumaria-2022.csv\", encoding=\"latin-1\")\n",
    "#Colocamos todas las variables en minúsculas para evitar confusiones en el typeo y lenguaje\n",
    "df_Enaho.columns = df_Enaho.columns.str.lower()\n",
    "df_sumaria.columns = df_sumaria.columns.str.lower()\n",
    "print(df_Enaho.columns)\n",
    "print(df_sumaria.columns)"
   ]
  },
  {
   "cell_type": "markdown",
   "metadata": {
    "id": "imIgmrpZGFI4"
   },
   "source": [
    "2. - ¿Cuáles son las dimensiones de la sumaria? (o el número de filas y columnas).\n",
    "   - ¿Cuáles son las dimensiones del módulo de vivienda? (o el número de filas y columnas)."
   ]
  },
  {
   "cell_type": "code",
   "execution_count": 66,
   "metadata": {
    "colab": {
     "base_uri": "https://localhost:8080/"
    },
    "id": "9lsnOaPLGFI5",
    "outputId": "230ea716-a2a6-407a-d6eb-88047fa69e8b"
   },
   "outputs": [
    {
     "name": "stdout",
     "output_type": "stream",
     "text": [
      "Dimensiones del módulo 1 (características de la vivienda y el hogar): (44122, 324)\n"
     ]
    }
   ],
   "source": [
    "#Se emplea el comando .shape para poder apreciar las filas y columnas\n",
    "print(\"Dimensiones del módulo 1 (características de la vivienda y el hogar):\", df_Enaho.shape)"
   ]
  },
  {
   "cell_type": "code",
   "execution_count": 68,
   "metadata": {
    "colab": {
     "base_uri": "https://localhost:8080/"
    },
    "id": "2jYjHCcrUQQg",
    "outputId": "611a3a79-7139-4aa6-ea58-8e7cdd79372a"
   },
   "outputs": [
    {
     "name": "stdout",
     "output_type": "stream",
     "text": [
      "Dimensiones del módulo 34 (sumarias): (34213, 167)\n"
     ]
    }
   ],
   "source": [
    "print(\"Dimensiones del módulo 34 (sumarias):\", df_sumaria.shape)"
   ]
  },
  {
   "cell_type": "markdown",
   "metadata": {
    "id": "ahCSvQG2GFI5"
   },
   "source": [
    "3. En esta oportunidad no necesitaremos todas las variables de la ENAHO para hacer esta tarea. \n",
    "- Quedémonos con las variables ``` CONGLOME VIVIENDA HOGAR MIEPERHO PERCEPHO POBREZA GASHOG2D INGHOG2D UBIGEO``` de la sumaria. \n",
    "- Quedémonos con las variables ``` CONGLOME VIVIENDA HOGAR RESULT NBI1 NBI2 NBI3 NBI4 NBI5 ``` del módulo de vivienda.\n",
    "\n",
    " \n",
    " Nota: cada una de las variables es:\n",
    "- MIEPERHO: número de miembros del hogar. \n",
    "- PERCEPHO: número de perceptores del hogar (que reciben un ingreso). \n",
    "- POBREZA: Pobreza monetaria según la línea de pobreza. \n",
    "- GASHOG2D: Gasto bruto anual del hogar. \n",
    "- INGHOG2D: Ingreso anual neto total del hogar. \n",
    "- UBIGEO: Código de 6 dígitos que indica el distrito de pertenencia de la persona. \n",
    "\n",
    "Necesidades básicas:\n",
    "- NBI1: vivienda inadecuada.\n",
    "- NBI2: hacinamiento\n",
    "- NBI3: vivienda sin servicios higiénicos\n",
    "- NBI4: hogares con  niños que no asisten a la escuela.\n",
    "- NBI5: hogares con alta dependencia económica \n",
    "\n",
    "CONGLOME, VIVIENDA y HOGAR son los identificadores únicos a nivel de hogar (como un key id)."
   ]
  },
  {
   "cell_type": "code",
   "execution_count": 145,
   "metadata": {
    "colab": {
     "base_uri": "https://localhost:8080/",
     "height": 424
    },
    "id": "D0vuGKPBGFI6",
    "outputId": "a4265063-bd23-467f-fda2-851c9c88cc43"
   },
   "outputs": [
    {
     "data": {
      "text/html": [
       "<div>\n",
       "<style scoped>\n",
       "    .dataframe tbody tr th:only-of-type {\n",
       "        vertical-align: middle;\n",
       "    }\n",
       "\n",
       "    .dataframe tbody tr th {\n",
       "        vertical-align: top;\n",
       "    }\n",
       "\n",
       "    .dataframe thead th {\n",
       "        text-align: right;\n",
       "    }\n",
       "</style>\n",
       "<table border=\"1\" class=\"dataframe\">\n",
       "  <thead>\n",
       "    <tr style=\"text-align: right;\">\n",
       "      <th></th>\n",
       "      <th>conglome</th>\n",
       "      <th>vivienda</th>\n",
       "      <th>hogar</th>\n",
       "      <th>mieperho</th>\n",
       "      <th>percepho</th>\n",
       "      <th>pobreza</th>\n",
       "      <th>gashog2d</th>\n",
       "      <th>inghog2d</th>\n",
       "      <th>ubigeo</th>\n",
       "    </tr>\n",
       "  </thead>\n",
       "  <tbody>\n",
       "    <tr>\n",
       "      <th>0</th>\n",
       "      <td>5030</td>\n",
       "      <td>8</td>\n",
       "      <td>11</td>\n",
       "      <td>2</td>\n",
       "      <td>2</td>\n",
       "      <td>3</td>\n",
       "      <td>36949.523438</td>\n",
       "      <td>34606.441406</td>\n",
       "      <td>10201</td>\n",
       "    </tr>\n",
       "    <tr>\n",
       "      <th>1</th>\n",
       "      <td>5030</td>\n",
       "      <td>17</td>\n",
       "      <td>11</td>\n",
       "      <td>2</td>\n",
       "      <td>2</td>\n",
       "      <td>3</td>\n",
       "      <td>48161.250000</td>\n",
       "      <td>82028.218750</td>\n",
       "      <td>10201</td>\n",
       "    </tr>\n",
       "    <tr>\n",
       "      <th>2</th>\n",
       "      <td>5030</td>\n",
       "      <td>33</td>\n",
       "      <td>11</td>\n",
       "      <td>4</td>\n",
       "      <td>4</td>\n",
       "      <td>3</td>\n",
       "      <td>27575.876953</td>\n",
       "      <td>31791.029297</td>\n",
       "      <td>10201</td>\n",
       "    </tr>\n",
       "    <tr>\n",
       "      <th>3</th>\n",
       "      <td>5030</td>\n",
       "      <td>50</td>\n",
       "      <td>11</td>\n",
       "      <td>3</td>\n",
       "      <td>1</td>\n",
       "      <td>3</td>\n",
       "      <td>16161.042969</td>\n",
       "      <td>24028.867188</td>\n",
       "      <td>10201</td>\n",
       "    </tr>\n",
       "    <tr>\n",
       "      <th>4</th>\n",
       "      <td>5030</td>\n",
       "      <td>59</td>\n",
       "      <td>11</td>\n",
       "      <td>11</td>\n",
       "      <td>7</td>\n",
       "      <td>2</td>\n",
       "      <td>30606.212891</td>\n",
       "      <td>46056.109375</td>\n",
       "      <td>10201</td>\n",
       "    </tr>\n",
       "  </tbody>\n",
       "</table>\n",
       "</div>"
      ],
      "text/plain": [
       "   conglome  vivienda  hogar  mieperho  percepho  pobreza      gashog2d  \\\n",
       "0      5030         8     11         2         2        3  36949.523438   \n",
       "1      5030        17     11         2         2        3  48161.250000   \n",
       "2      5030        33     11         4         4        3  27575.876953   \n",
       "3      5030        50     11         3         1        3  16161.042969   \n",
       "4      5030        59     11        11         7        2  30606.212891   \n",
       "\n",
       "       inghog2d  ubigeo  \n",
       "0  34606.441406   10201  \n",
       "1  82028.218750   10201  \n",
       "2  31791.029297   10201  \n",
       "3  24028.867188   10201  \n",
       "4  46056.109375   10201  "
      ]
     },
     "execution_count": 145,
     "metadata": {},
     "output_type": "execute_result"
    }
   ],
   "source": [
    "col_sumaria = [\"conglome\", \"vivienda\", \"hogar\", \"mieperho\", \"percepho\", \"pobreza\", \"gashog2d\", \"inghog2d\", \"ubigeo\"]\n",
    "df_sumaria = df_sumaria.drop(columns=[col for col in df_sumaria.columns if col not in col_sumaria])\n",
    "df_sumaria.head()"
   ]
  },
  {
   "cell_type": "code",
   "execution_count": 147,
   "metadata": {},
   "outputs": [
    {
     "data": {
      "text/html": [
       "<div>\n",
       "<style scoped>\n",
       "    .dataframe tbody tr th:only-of-type {\n",
       "        vertical-align: middle;\n",
       "    }\n",
       "\n",
       "    .dataframe tbody tr th {\n",
       "        vertical-align: top;\n",
       "    }\n",
       "\n",
       "    .dataframe thead th {\n",
       "        text-align: right;\n",
       "    }\n",
       "</style>\n",
       "<table border=\"1\" class=\"dataframe\">\n",
       "  <thead>\n",
       "    <tr style=\"text-align: right;\">\n",
       "      <th></th>\n",
       "      <th>conglome</th>\n",
       "      <th>vivienda</th>\n",
       "      <th>hogar</th>\n",
       "      <th>result</th>\n",
       "      <th>nbi1</th>\n",
       "      <th>nbi2</th>\n",
       "      <th>nbi3</th>\n",
       "      <th>nbi4</th>\n",
       "      <th>nbi5</th>\n",
       "    </tr>\n",
       "  </thead>\n",
       "  <tbody>\n",
       "    <tr>\n",
       "      <th>0</th>\n",
       "      <td>5007</td>\n",
       "      <td>3</td>\n",
       "      <td>11</td>\n",
       "      <td>1</td>\n",
       "      <td>0</td>\n",
       "      <td>0</td>\n",
       "      <td>0</td>\n",
       "      <td>0</td>\n",
       "      <td>0</td>\n",
       "    </tr>\n",
       "    <tr>\n",
       "      <th>1</th>\n",
       "      <td>5007</td>\n",
       "      <td>12</td>\n",
       "      <td>11</td>\n",
       "      <td>1</td>\n",
       "      <td>0</td>\n",
       "      <td>0</td>\n",
       "      <td>0</td>\n",
       "      <td>0</td>\n",
       "      <td>0</td>\n",
       "    </tr>\n",
       "    <tr>\n",
       "      <th>2</th>\n",
       "      <td>5007</td>\n",
       "      <td>22</td>\n",
       "      <td>11</td>\n",
       "      <td>1</td>\n",
       "      <td>0</td>\n",
       "      <td>0</td>\n",
       "      <td>0</td>\n",
       "      <td>0</td>\n",
       "      <td>0</td>\n",
       "    </tr>\n",
       "    <tr>\n",
       "      <th>4</th>\n",
       "      <td>5007</td>\n",
       "      <td>50</td>\n",
       "      <td>11</td>\n",
       "      <td>1</td>\n",
       "      <td>0</td>\n",
       "      <td>0</td>\n",
       "      <td>0</td>\n",
       "      <td>0</td>\n",
       "      <td>0</td>\n",
       "    </tr>\n",
       "    <tr>\n",
       "      <th>10</th>\n",
       "      <td>5009</td>\n",
       "      <td>56</td>\n",
       "      <td>11</td>\n",
       "      <td>1</td>\n",
       "      <td>0</td>\n",
       "      <td>1</td>\n",
       "      <td>0</td>\n",
       "      <td>0</td>\n",
       "      <td>0</td>\n",
       "    </tr>\n",
       "  </tbody>\n",
       "</table>\n",
       "</div>"
      ],
      "text/plain": [
       "    conglome  vivienda  hogar  result nbi1 nbi2 nbi3 nbi4 nbi5\n",
       "0       5007         3     11       1    0    0    0    0    0\n",
       "1       5007        12     11       1    0    0    0    0    0\n",
       "2       5007        22     11       1    0    0    0    0    0\n",
       "4       5007        50     11       1    0    0    0    0    0\n",
       "10      5009        56     11       1    0    1    0    0    0"
      ]
     },
     "execution_count": 147,
     "metadata": {},
     "output_type": "execute_result"
    }
   ],
   "source": [
    "col_vivienda = [\"conglome\", \"vivienda\", \"hogar\", \"result\", \"nbi1\", \"nbi2\", \"nbi3\", \"nbi4\", \"nbi5\"]\n",
    "df_Enaho = df_Enaho.drop(columns=[col for col in df_Enaho.columns if col not in col_vivienda])\n",
    "df_Enaho.head()"
   ]
  },
  {
   "cell_type": "markdown",
   "metadata": {
    "id": "vocY0qhOGFI7"
   },
   "source": [
    "4. El módulo vivienda incluye todos los hogares que entraron en el marco muestral, incluso aquellos que no participaron en la ENAHO por diversos motivos. Para eliminar estas viviendas, quedémonos con aquellas cuyo ``` RESULT``` sea igual a 1 ó 2. Almacena este resultado para después."
   ]
  },
  {
   "cell_type": "code",
   "execution_count": 149,
   "metadata": {
    "colab": {
     "base_uri": "https://localhost:8080/",
     "height": 424
    },
    "id": "pJEF71fWVd2y",
    "outputId": "4481fb05-52f6-47c5-ec70-b696fa17e0d8"
   },
   "outputs": [],
   "source": [
    "df_Enaho = df_Enaho[df_Enaho[\"result\"].isin([1, 2])]"
   ]
  },
  {
   "cell_type": "markdown",
   "metadata": {
    "id": "aBSH3uJmGFI8"
   },
   "source": [
    "5. Queremos calcular una serie de variables (ó columnas nuevas):  \n",
    "En sumaria: \n",
    "- Queremos el número de miembros dependientes del hogar . Estos son el número de personas que no perciben un ingreso ó la diferencia entre el total de miembros y el total de perceptores. \n",
    "- Queremos el ingreso mensual promedio por perceptor del hogar.\n",
    "- Queremos la diferencia  entre ingreso y gasto del hogar"
   ]
  },
  {
   "cell_type": "code",
   "execution_count": 159,
   "metadata": {},
   "outputs": [
    {
     "data": {
      "text/plain": [
       "mieperho      int64\n",
       "percepho      int64\n",
       "inghog2d    float64\n",
       "gashog2d    float64\n",
       "dtype: object"
      ]
     },
     "execution_count": 159,
     "metadata": {},
     "output_type": "execute_result"
    }
   ],
   "source": [
    "# Pista: evaluar los tipos de las variables, y verificar que aquellas que sean numéricas, efectivamente lo sean.\n",
    "df_sumaria[[\"mieperho\", \"percepho\", \"inghog2d\", \"gashog2d\"]].dtypes"
   ]
  },
  {
   "cell_type": "code",
   "execution_count": 174,
   "metadata": {
    "colab": {
     "base_uri": "https://localhost:8080/",
     "height": 424
    },
    "id": "i-3FJ80TGFI8",
    "outputId": "23129df3-fb83-4345-e083-f8afa1ffa42a"
   },
   "outputs": [
    {
     "data": {
      "text/html": [
       "<div>\n",
       "<style scoped>\n",
       "    .dataframe tbody tr th:only-of-type {\n",
       "        vertical-align: middle;\n",
       "    }\n",
       "\n",
       "    .dataframe tbody tr th {\n",
       "        vertical-align: top;\n",
       "    }\n",
       "\n",
       "    .dataframe thead th {\n",
       "        text-align: right;\n",
       "    }\n",
       "</style>\n",
       "<table border=\"1\" class=\"dataframe\">\n",
       "  <thead>\n",
       "    <tr style=\"text-align: right;\">\n",
       "      <th></th>\n",
       "      <th>conglome</th>\n",
       "      <th>vivienda</th>\n",
       "      <th>hogar</th>\n",
       "      <th>mieperho</th>\n",
       "      <th>percepho</th>\n",
       "      <th>pobreza</th>\n",
       "      <th>gashog2d</th>\n",
       "      <th>inghog2d</th>\n",
       "      <th>ubigeo</th>\n",
       "      <th>df_miembros_dependientes</th>\n",
       "      <th>df_ingper</th>\n",
       "      <th>df_ing_gas</th>\n",
       "    </tr>\n",
       "  </thead>\n",
       "  <tbody>\n",
       "    <tr>\n",
       "      <th>0</th>\n",
       "      <td>5030</td>\n",
       "      <td>8</td>\n",
       "      <td>11</td>\n",
       "      <td>2</td>\n",
       "      <td>2</td>\n",
       "      <td>3</td>\n",
       "      <td>36949.523438</td>\n",
       "      <td>34606.441406</td>\n",
       "      <td>10201</td>\n",
       "      <td>0</td>\n",
       "      <td>17303.220703</td>\n",
       "      <td>-2343.082031</td>\n",
       "    </tr>\n",
       "    <tr>\n",
       "      <th>1</th>\n",
       "      <td>5030</td>\n",
       "      <td>17</td>\n",
       "      <td>11</td>\n",
       "      <td>2</td>\n",
       "      <td>2</td>\n",
       "      <td>3</td>\n",
       "      <td>48161.250000</td>\n",
       "      <td>82028.218750</td>\n",
       "      <td>10201</td>\n",
       "      <td>0</td>\n",
       "      <td>41014.109375</td>\n",
       "      <td>33866.968750</td>\n",
       "    </tr>\n",
       "    <tr>\n",
       "      <th>2</th>\n",
       "      <td>5030</td>\n",
       "      <td>33</td>\n",
       "      <td>11</td>\n",
       "      <td>4</td>\n",
       "      <td>4</td>\n",
       "      <td>3</td>\n",
       "      <td>27575.876953</td>\n",
       "      <td>31791.029297</td>\n",
       "      <td>10201</td>\n",
       "      <td>0</td>\n",
       "      <td>7947.757324</td>\n",
       "      <td>4215.152344</td>\n",
       "    </tr>\n",
       "    <tr>\n",
       "      <th>3</th>\n",
       "      <td>5030</td>\n",
       "      <td>50</td>\n",
       "      <td>11</td>\n",
       "      <td>3</td>\n",
       "      <td>1</td>\n",
       "      <td>3</td>\n",
       "      <td>16161.042969</td>\n",
       "      <td>24028.867188</td>\n",
       "      <td>10201</td>\n",
       "      <td>2</td>\n",
       "      <td>24028.867188</td>\n",
       "      <td>7867.824219</td>\n",
       "    </tr>\n",
       "    <tr>\n",
       "      <th>4</th>\n",
       "      <td>5030</td>\n",
       "      <td>59</td>\n",
       "      <td>11</td>\n",
       "      <td>11</td>\n",
       "      <td>7</td>\n",
       "      <td>2</td>\n",
       "      <td>30606.212891</td>\n",
       "      <td>46056.109375</td>\n",
       "      <td>10201</td>\n",
       "      <td>4</td>\n",
       "      <td>6579.444196</td>\n",
       "      <td>15449.896484</td>\n",
       "    </tr>\n",
       "  </tbody>\n",
       "</table>\n",
       "</div>"
      ],
      "text/plain": [
       "   conglome  vivienda  hogar  mieperho  percepho  pobreza      gashog2d  \\\n",
       "0      5030         8     11         2         2        3  36949.523438   \n",
       "1      5030        17     11         2         2        3  48161.250000   \n",
       "2      5030        33     11         4         4        3  27575.876953   \n",
       "3      5030        50     11         3         1        3  16161.042969   \n",
       "4      5030        59     11        11         7        2  30606.212891   \n",
       "\n",
       "       inghog2d  ubigeo  df_miembros_dependientes     df_ingper    df_ing_gas  \n",
       "0  34606.441406   10201                         0  17303.220703  -2343.082031  \n",
       "1  82028.218750   10201                         0  41014.109375  33866.968750  \n",
       "2  31791.029297   10201                         0   7947.757324   4215.152344  \n",
       "3  24028.867188   10201                         2  24028.867188   7867.824219  \n",
       "4  46056.109375   10201                         4   6579.444196  15449.896484  "
      ]
     },
     "execution_count": 174,
     "metadata": {},
     "output_type": "execute_result"
    }
   ],
   "source": [
    "# tu respuesta aquí\n",
    "df_sumaria[\"df_miembros_dependientes\"] = df_sumaria[\"mieperho\"] - df_sumaria[\"percepho\"]\n",
    "df_sumaria.head()"
   ]
  },
  {
   "cell_type": "code",
   "execution_count": 176,
   "metadata": {
    "colab": {
     "base_uri": "https://localhost:8080/",
     "height": 424
    },
    "id": "meC7Yj3S1aS6",
    "outputId": "5ab48861-7024-4451-a62a-8246bb7c2815"
   },
   "outputs": [
    {
     "data": {
      "text/html": [
       "<div>\n",
       "<style scoped>\n",
       "    .dataframe tbody tr th:only-of-type {\n",
       "        vertical-align: middle;\n",
       "    }\n",
       "\n",
       "    .dataframe tbody tr th {\n",
       "        vertical-align: top;\n",
       "    }\n",
       "\n",
       "    .dataframe thead th {\n",
       "        text-align: right;\n",
       "    }\n",
       "</style>\n",
       "<table border=\"1\" class=\"dataframe\">\n",
       "  <thead>\n",
       "    <tr style=\"text-align: right;\">\n",
       "      <th></th>\n",
       "      <th>conglome</th>\n",
       "      <th>vivienda</th>\n",
       "      <th>hogar</th>\n",
       "      <th>mieperho</th>\n",
       "      <th>percepho</th>\n",
       "      <th>pobreza</th>\n",
       "      <th>gashog2d</th>\n",
       "      <th>inghog2d</th>\n",
       "      <th>ubigeo</th>\n",
       "      <th>df_miembros_dependientes</th>\n",
       "      <th>df_ingper</th>\n",
       "      <th>df_ing_gas</th>\n",
       "    </tr>\n",
       "  </thead>\n",
       "  <tbody>\n",
       "    <tr>\n",
       "      <th>0</th>\n",
       "      <td>5030</td>\n",
       "      <td>8</td>\n",
       "      <td>11</td>\n",
       "      <td>2</td>\n",
       "      <td>2</td>\n",
       "      <td>3</td>\n",
       "      <td>36949.523438</td>\n",
       "      <td>34606.441406</td>\n",
       "      <td>10201</td>\n",
       "      <td>0</td>\n",
       "      <td>17303.220703</td>\n",
       "      <td>-2343.082031</td>\n",
       "    </tr>\n",
       "    <tr>\n",
       "      <th>1</th>\n",
       "      <td>5030</td>\n",
       "      <td>17</td>\n",
       "      <td>11</td>\n",
       "      <td>2</td>\n",
       "      <td>2</td>\n",
       "      <td>3</td>\n",
       "      <td>48161.250000</td>\n",
       "      <td>82028.218750</td>\n",
       "      <td>10201</td>\n",
       "      <td>0</td>\n",
       "      <td>41014.109375</td>\n",
       "      <td>33866.968750</td>\n",
       "    </tr>\n",
       "    <tr>\n",
       "      <th>2</th>\n",
       "      <td>5030</td>\n",
       "      <td>33</td>\n",
       "      <td>11</td>\n",
       "      <td>4</td>\n",
       "      <td>4</td>\n",
       "      <td>3</td>\n",
       "      <td>27575.876953</td>\n",
       "      <td>31791.029297</td>\n",
       "      <td>10201</td>\n",
       "      <td>0</td>\n",
       "      <td>7947.757324</td>\n",
       "      <td>4215.152344</td>\n",
       "    </tr>\n",
       "    <tr>\n",
       "      <th>3</th>\n",
       "      <td>5030</td>\n",
       "      <td>50</td>\n",
       "      <td>11</td>\n",
       "      <td>3</td>\n",
       "      <td>1</td>\n",
       "      <td>3</td>\n",
       "      <td>16161.042969</td>\n",
       "      <td>24028.867188</td>\n",
       "      <td>10201</td>\n",
       "      <td>2</td>\n",
       "      <td>24028.867188</td>\n",
       "      <td>7867.824219</td>\n",
       "    </tr>\n",
       "    <tr>\n",
       "      <th>4</th>\n",
       "      <td>5030</td>\n",
       "      <td>59</td>\n",
       "      <td>11</td>\n",
       "      <td>11</td>\n",
       "      <td>7</td>\n",
       "      <td>2</td>\n",
       "      <td>30606.212891</td>\n",
       "      <td>46056.109375</td>\n",
       "      <td>10201</td>\n",
       "      <td>4</td>\n",
       "      <td>6579.444196</td>\n",
       "      <td>15449.896484</td>\n",
       "    </tr>\n",
       "  </tbody>\n",
       "</table>\n",
       "</div>"
      ],
      "text/plain": [
       "   conglome  vivienda  hogar  mieperho  percepho  pobreza      gashog2d  \\\n",
       "0      5030         8     11         2         2        3  36949.523438   \n",
       "1      5030        17     11         2         2        3  48161.250000   \n",
       "2      5030        33     11         4         4        3  27575.876953   \n",
       "3      5030        50     11         3         1        3  16161.042969   \n",
       "4      5030        59     11        11         7        2  30606.212891   \n",
       "\n",
       "       inghog2d  ubigeo  df_miembros_dependientes     df_ingper    df_ing_gas  \n",
       "0  34606.441406   10201                         0  17303.220703  -2343.082031  \n",
       "1  82028.218750   10201                         0  41014.109375  33866.968750  \n",
       "2  31791.029297   10201                         0   7947.757324   4215.152344  \n",
       "3  24028.867188   10201                         2  24028.867188   7867.824219  \n",
       "4  46056.109375   10201                         4   6579.444196  15449.896484  "
      ]
     },
     "execution_count": 176,
     "metadata": {},
     "output_type": "execute_result"
    }
   ],
   "source": [
    "# tu respuesta aquí\n",
    "df_sumaria[\"df_ingper\"] = df_sumaria[\"inghog2d\"]/df_sumaria[\"percepho\"]\n",
    "df_sumaria.head()"
   ]
  },
  {
   "cell_type": "code",
   "execution_count": 180,
   "metadata": {
    "colab": {
     "base_uri": "https://localhost:8080/",
     "height": 424
    },
    "id": "Qwy-nwyL30tV",
    "outputId": "6d392be7-452c-4c92-94be-8bbe676b197a"
   },
   "outputs": [
    {
     "data": {
      "text/html": [
       "<div>\n",
       "<style scoped>\n",
       "    .dataframe tbody tr th:only-of-type {\n",
       "        vertical-align: middle;\n",
       "    }\n",
       "\n",
       "    .dataframe tbody tr th {\n",
       "        vertical-align: top;\n",
       "    }\n",
       "\n",
       "    .dataframe thead th {\n",
       "        text-align: right;\n",
       "    }\n",
       "</style>\n",
       "<table border=\"1\" class=\"dataframe\">\n",
       "  <thead>\n",
       "    <tr style=\"text-align: right;\">\n",
       "      <th></th>\n",
       "      <th>conglome</th>\n",
       "      <th>vivienda</th>\n",
       "      <th>hogar</th>\n",
       "      <th>mieperho</th>\n",
       "      <th>percepho</th>\n",
       "      <th>pobreza</th>\n",
       "      <th>gashog2d</th>\n",
       "      <th>inghog2d</th>\n",
       "      <th>ubigeo</th>\n",
       "      <th>df_miembros_dependientes</th>\n",
       "      <th>df_ingper</th>\n",
       "      <th>df_ing_gas</th>\n",
       "    </tr>\n",
       "  </thead>\n",
       "  <tbody>\n",
       "    <tr>\n",
       "      <th>0</th>\n",
       "      <td>5030</td>\n",
       "      <td>8</td>\n",
       "      <td>11</td>\n",
       "      <td>2</td>\n",
       "      <td>2</td>\n",
       "      <td>3</td>\n",
       "      <td>36949.523438</td>\n",
       "      <td>34606.441406</td>\n",
       "      <td>10201</td>\n",
       "      <td>0</td>\n",
       "      <td>17303.220703</td>\n",
       "      <td>-2343.082031</td>\n",
       "    </tr>\n",
       "    <tr>\n",
       "      <th>1</th>\n",
       "      <td>5030</td>\n",
       "      <td>17</td>\n",
       "      <td>11</td>\n",
       "      <td>2</td>\n",
       "      <td>2</td>\n",
       "      <td>3</td>\n",
       "      <td>48161.250000</td>\n",
       "      <td>82028.218750</td>\n",
       "      <td>10201</td>\n",
       "      <td>0</td>\n",
       "      <td>41014.109375</td>\n",
       "      <td>33866.968750</td>\n",
       "    </tr>\n",
       "    <tr>\n",
       "      <th>2</th>\n",
       "      <td>5030</td>\n",
       "      <td>33</td>\n",
       "      <td>11</td>\n",
       "      <td>4</td>\n",
       "      <td>4</td>\n",
       "      <td>3</td>\n",
       "      <td>27575.876953</td>\n",
       "      <td>31791.029297</td>\n",
       "      <td>10201</td>\n",
       "      <td>0</td>\n",
       "      <td>7947.757324</td>\n",
       "      <td>4215.152344</td>\n",
       "    </tr>\n",
       "    <tr>\n",
       "      <th>3</th>\n",
       "      <td>5030</td>\n",
       "      <td>50</td>\n",
       "      <td>11</td>\n",
       "      <td>3</td>\n",
       "      <td>1</td>\n",
       "      <td>3</td>\n",
       "      <td>16161.042969</td>\n",
       "      <td>24028.867188</td>\n",
       "      <td>10201</td>\n",
       "      <td>2</td>\n",
       "      <td>24028.867188</td>\n",
       "      <td>7867.824219</td>\n",
       "    </tr>\n",
       "    <tr>\n",
       "      <th>4</th>\n",
       "      <td>5030</td>\n",
       "      <td>59</td>\n",
       "      <td>11</td>\n",
       "      <td>11</td>\n",
       "      <td>7</td>\n",
       "      <td>2</td>\n",
       "      <td>30606.212891</td>\n",
       "      <td>46056.109375</td>\n",
       "      <td>10201</td>\n",
       "      <td>4</td>\n",
       "      <td>6579.444196</td>\n",
       "      <td>15449.896484</td>\n",
       "    </tr>\n",
       "  </tbody>\n",
       "</table>\n",
       "</div>"
      ],
      "text/plain": [
       "   conglome  vivienda  hogar  mieperho  percepho  pobreza      gashog2d  \\\n",
       "0      5030         8     11         2         2        3  36949.523438   \n",
       "1      5030        17     11         2         2        3  48161.250000   \n",
       "2      5030        33     11         4         4        3  27575.876953   \n",
       "3      5030        50     11         3         1        3  16161.042969   \n",
       "4      5030        59     11        11         7        2  30606.212891   \n",
       "\n",
       "       inghog2d  ubigeo  df_miembros_dependientes     df_ingper    df_ing_gas  \n",
       "0  34606.441406   10201                         0  17303.220703  -2343.082031  \n",
       "1  82028.218750   10201                         0  41014.109375  33866.968750  \n",
       "2  31791.029297   10201                         0   7947.757324   4215.152344  \n",
       "3  24028.867188   10201                         2  24028.867188   7867.824219  \n",
       "4  46056.109375   10201                         4   6579.444196  15449.896484  "
      ]
     },
     "execution_count": 180,
     "metadata": {},
     "output_type": "execute_result"
    }
   ],
   "source": [
    "# tu respuesta aquí.\n",
    "df_sumaria[\"df_ing_gas\"] = df_sumaria[\"inghog2d\"] - df_sumaria[\"gashog2d\"]\n",
    "df_sumaria.head()"
   ]
  },
  {
   "cell_type": "markdown",
   "metadata": {
    "id": "LvQwJHQrGFI8"
   },
   "source": [
    "6. La variable de `pobreza`, en la sumaria, está codificada como integers 1, 2 y 3. Esto corresponde a:  \n",
    "`1`: hogar pobre extremo  \n",
    "`2`: hogar pobre no extremo  \n",
    "`3`: hogar no  pobre  \n",
    "\n",
    "En base a esta variable, crea dos variables más:\n",
    "1. Una variable que tenga `'pobre extremo'`, `'pobre no extremo'` y `'no pobre'` en vez  de 1, 2, 3.\n",
    "2. Una variable que tenga `'pobre'` y `'no pobre'` (ó que englobe a los hogares pobres y pobres no extremos).\n",
    "\n"
   ]
  },
  {
   "cell_type": "code",
   "execution_count": 186,
   "metadata": {
    "colab": {
     "base_uri": "https://localhost:8080/",
     "height": 468
    },
    "id": "GDv1wqGcGFI9",
    "outputId": "a241e092-f7c1-4b5c-f51a-9bb5f9aafb9a"
   },
   "outputs": [
    {
     "data": {
      "text/html": [
       "<div>\n",
       "<style scoped>\n",
       "    .dataframe tbody tr th:only-of-type {\n",
       "        vertical-align: middle;\n",
       "    }\n",
       "\n",
       "    .dataframe tbody tr th {\n",
       "        vertical-align: top;\n",
       "    }\n",
       "\n",
       "    .dataframe thead th {\n",
       "        text-align: right;\n",
       "    }\n",
       "</style>\n",
       "<table border=\"1\" class=\"dataframe\">\n",
       "  <thead>\n",
       "    <tr style=\"text-align: right;\">\n",
       "      <th></th>\n",
       "      <th>conglome</th>\n",
       "      <th>vivienda</th>\n",
       "      <th>hogar</th>\n",
       "      <th>mieperho</th>\n",
       "      <th>percepho</th>\n",
       "      <th>pobreza</th>\n",
       "      <th>gashog2d</th>\n",
       "      <th>inghog2d</th>\n",
       "      <th>ubigeo</th>\n",
       "      <th>df_miembros_dependientes</th>\n",
       "      <th>df_ingper</th>\n",
       "      <th>df_ing_gas</th>\n",
       "      <th>pobreza1</th>\n",
       "    </tr>\n",
       "  </thead>\n",
       "  <tbody>\n",
       "    <tr>\n",
       "      <th>0</th>\n",
       "      <td>5030</td>\n",
       "      <td>8</td>\n",
       "      <td>11</td>\n",
       "      <td>2</td>\n",
       "      <td>2</td>\n",
       "      <td>3</td>\n",
       "      <td>36949.523438</td>\n",
       "      <td>34606.441406</td>\n",
       "      <td>10201</td>\n",
       "      <td>0</td>\n",
       "      <td>17303.220703</td>\n",
       "      <td>-2343.082031</td>\n",
       "      <td>no pobre</td>\n",
       "    </tr>\n",
       "    <tr>\n",
       "      <th>1</th>\n",
       "      <td>5030</td>\n",
       "      <td>17</td>\n",
       "      <td>11</td>\n",
       "      <td>2</td>\n",
       "      <td>2</td>\n",
       "      <td>3</td>\n",
       "      <td>48161.250000</td>\n",
       "      <td>82028.218750</td>\n",
       "      <td>10201</td>\n",
       "      <td>0</td>\n",
       "      <td>41014.109375</td>\n",
       "      <td>33866.968750</td>\n",
       "      <td>no pobre</td>\n",
       "    </tr>\n",
       "    <tr>\n",
       "      <th>2</th>\n",
       "      <td>5030</td>\n",
       "      <td>33</td>\n",
       "      <td>11</td>\n",
       "      <td>4</td>\n",
       "      <td>4</td>\n",
       "      <td>3</td>\n",
       "      <td>27575.876953</td>\n",
       "      <td>31791.029297</td>\n",
       "      <td>10201</td>\n",
       "      <td>0</td>\n",
       "      <td>7947.757324</td>\n",
       "      <td>4215.152344</td>\n",
       "      <td>no pobre</td>\n",
       "    </tr>\n",
       "    <tr>\n",
       "      <th>3</th>\n",
       "      <td>5030</td>\n",
       "      <td>50</td>\n",
       "      <td>11</td>\n",
       "      <td>3</td>\n",
       "      <td>1</td>\n",
       "      <td>3</td>\n",
       "      <td>16161.042969</td>\n",
       "      <td>24028.867188</td>\n",
       "      <td>10201</td>\n",
       "      <td>2</td>\n",
       "      <td>24028.867188</td>\n",
       "      <td>7867.824219</td>\n",
       "      <td>no pobre</td>\n",
       "    </tr>\n",
       "    <tr>\n",
       "      <th>4</th>\n",
       "      <td>5030</td>\n",
       "      <td>59</td>\n",
       "      <td>11</td>\n",
       "      <td>11</td>\n",
       "      <td>7</td>\n",
       "      <td>2</td>\n",
       "      <td>30606.212891</td>\n",
       "      <td>46056.109375</td>\n",
       "      <td>10201</td>\n",
       "      <td>4</td>\n",
       "      <td>6579.444196</td>\n",
       "      <td>15449.896484</td>\n",
       "      <td>pobre no extremo</td>\n",
       "    </tr>\n",
       "  </tbody>\n",
       "</table>\n",
       "</div>"
      ],
      "text/plain": [
       "   conglome  vivienda  hogar  mieperho  percepho  pobreza      gashog2d  \\\n",
       "0      5030         8     11         2         2        3  36949.523438   \n",
       "1      5030        17     11         2         2        3  48161.250000   \n",
       "2      5030        33     11         4         4        3  27575.876953   \n",
       "3      5030        50     11         3         1        3  16161.042969   \n",
       "4      5030        59     11        11         7        2  30606.212891   \n",
       "\n",
       "       inghog2d  ubigeo  df_miembros_dependientes     df_ingper    df_ing_gas  \\\n",
       "0  34606.441406   10201                         0  17303.220703  -2343.082031   \n",
       "1  82028.218750   10201                         0  41014.109375  33866.968750   \n",
       "2  31791.029297   10201                         0   7947.757324   4215.152344   \n",
       "3  24028.867188   10201                         2  24028.867188   7867.824219   \n",
       "4  46056.109375   10201                         4   6579.444196  15449.896484   \n",
       "\n",
       "           pobreza1  \n",
       "0          no pobre  \n",
       "1          no pobre  \n",
       "2          no pobre  \n",
       "3          no pobre  \n",
       "4  pobre no extremo  "
      ]
     },
     "execution_count": 186,
     "metadata": {},
     "output_type": "execute_result"
    }
   ],
   "source": [
    "# tu respuesta aquí \n",
    "#la formulación del código es dataframe[\"variable nueva\"] = dataframe[variable existente].replace({variables a remplazar...)}\n",
    "df_sumaria[\"pobreza1\"] = df_sumaria[\"pobreza\"].replace({1: \"pobre extremo\", 2: \"pobre no extremo\", 3: \"no pobre\"})\n",
    "df_sumaria.head()"
   ]
  },
  {
   "cell_type": "code",
   "execution_count": 190,
   "metadata": {
    "colab": {
     "base_uri": "https://localhost:8080/",
     "height": 468
    },
    "id": "fe0a2u_p61mo",
    "outputId": "392d96e7-a397-43b9-a6ed-1d1823044c19"
   },
   "outputs": [
    {
     "data": {
      "text/html": [
       "<div>\n",
       "<style scoped>\n",
       "    .dataframe tbody tr th:only-of-type {\n",
       "        vertical-align: middle;\n",
       "    }\n",
       "\n",
       "    .dataframe tbody tr th {\n",
       "        vertical-align: top;\n",
       "    }\n",
       "\n",
       "    .dataframe thead th {\n",
       "        text-align: right;\n",
       "    }\n",
       "</style>\n",
       "<table border=\"1\" class=\"dataframe\">\n",
       "  <thead>\n",
       "    <tr style=\"text-align: right;\">\n",
       "      <th></th>\n",
       "      <th>conglome</th>\n",
       "      <th>vivienda</th>\n",
       "      <th>hogar</th>\n",
       "      <th>mieperho</th>\n",
       "      <th>percepho</th>\n",
       "      <th>pobreza</th>\n",
       "      <th>gashog2d</th>\n",
       "      <th>inghog2d</th>\n",
       "      <th>ubigeo</th>\n",
       "      <th>df_miembros_dependientes</th>\n",
       "      <th>df_ingper</th>\n",
       "      <th>df_ing_gas</th>\n",
       "      <th>pobreza1</th>\n",
       "      <th>pobreza2</th>\n",
       "    </tr>\n",
       "  </thead>\n",
       "  <tbody>\n",
       "    <tr>\n",
       "      <th>0</th>\n",
       "      <td>5030</td>\n",
       "      <td>8</td>\n",
       "      <td>11</td>\n",
       "      <td>2</td>\n",
       "      <td>2</td>\n",
       "      <td>3</td>\n",
       "      <td>36949.523438</td>\n",
       "      <td>34606.441406</td>\n",
       "      <td>10201</td>\n",
       "      <td>0</td>\n",
       "      <td>17303.220703</td>\n",
       "      <td>-2343.082031</td>\n",
       "      <td>no pobre</td>\n",
       "      <td>no pobre</td>\n",
       "    </tr>\n",
       "    <tr>\n",
       "      <th>1</th>\n",
       "      <td>5030</td>\n",
       "      <td>17</td>\n",
       "      <td>11</td>\n",
       "      <td>2</td>\n",
       "      <td>2</td>\n",
       "      <td>3</td>\n",
       "      <td>48161.250000</td>\n",
       "      <td>82028.218750</td>\n",
       "      <td>10201</td>\n",
       "      <td>0</td>\n",
       "      <td>41014.109375</td>\n",
       "      <td>33866.968750</td>\n",
       "      <td>no pobre</td>\n",
       "      <td>no pobre</td>\n",
       "    </tr>\n",
       "    <tr>\n",
       "      <th>2</th>\n",
       "      <td>5030</td>\n",
       "      <td>33</td>\n",
       "      <td>11</td>\n",
       "      <td>4</td>\n",
       "      <td>4</td>\n",
       "      <td>3</td>\n",
       "      <td>27575.876953</td>\n",
       "      <td>31791.029297</td>\n",
       "      <td>10201</td>\n",
       "      <td>0</td>\n",
       "      <td>7947.757324</td>\n",
       "      <td>4215.152344</td>\n",
       "      <td>no pobre</td>\n",
       "      <td>no pobre</td>\n",
       "    </tr>\n",
       "    <tr>\n",
       "      <th>3</th>\n",
       "      <td>5030</td>\n",
       "      <td>50</td>\n",
       "      <td>11</td>\n",
       "      <td>3</td>\n",
       "      <td>1</td>\n",
       "      <td>3</td>\n",
       "      <td>16161.042969</td>\n",
       "      <td>24028.867188</td>\n",
       "      <td>10201</td>\n",
       "      <td>2</td>\n",
       "      <td>24028.867188</td>\n",
       "      <td>7867.824219</td>\n",
       "      <td>no pobre</td>\n",
       "      <td>no pobre</td>\n",
       "    </tr>\n",
       "    <tr>\n",
       "      <th>4</th>\n",
       "      <td>5030</td>\n",
       "      <td>59</td>\n",
       "      <td>11</td>\n",
       "      <td>11</td>\n",
       "      <td>7</td>\n",
       "      <td>2</td>\n",
       "      <td>30606.212891</td>\n",
       "      <td>46056.109375</td>\n",
       "      <td>10201</td>\n",
       "      <td>4</td>\n",
       "      <td>6579.444196</td>\n",
       "      <td>15449.896484</td>\n",
       "      <td>pobre no extremo</td>\n",
       "      <td>pobre</td>\n",
       "    </tr>\n",
       "  </tbody>\n",
       "</table>\n",
       "</div>"
      ],
      "text/plain": [
       "   conglome  vivienda  hogar  mieperho  percepho  pobreza      gashog2d  \\\n",
       "0      5030         8     11         2         2        3  36949.523438   \n",
       "1      5030        17     11         2         2        3  48161.250000   \n",
       "2      5030        33     11         4         4        3  27575.876953   \n",
       "3      5030        50     11         3         1        3  16161.042969   \n",
       "4      5030        59     11        11         7        2  30606.212891   \n",
       "\n",
       "       inghog2d  ubigeo  df_miembros_dependientes     df_ingper    df_ing_gas  \\\n",
       "0  34606.441406   10201                         0  17303.220703  -2343.082031   \n",
       "1  82028.218750   10201                         0  41014.109375  33866.968750   \n",
       "2  31791.029297   10201                         0   7947.757324   4215.152344   \n",
       "3  24028.867188   10201                         2  24028.867188   7867.824219   \n",
       "4  46056.109375   10201                         4   6579.444196  15449.896484   \n",
       "\n",
       "           pobreza1  pobreza2  \n",
       "0          no pobre  no pobre  \n",
       "1          no pobre  no pobre  \n",
       "2          no pobre  no pobre  \n",
       "3          no pobre  no pobre  \n",
       "4  pobre no extremo     pobre  "
      ]
     },
     "execution_count": 190,
     "metadata": {},
     "output_type": "execute_result"
    }
   ],
   "source": [
    "# tu respuesta aquí\n",
    "df_sumaria[\"pobreza2\"] = df_sumaria[\"pobreza\"].replace({1: \"pobre\", 2: \"pobre\", 3: \"no pobre\"})\n",
    "df_sumaria.head()"
   ]
  },
  {
   "cell_type": "markdown",
   "metadata": {
    "id": "p3j4pRHnGFI-"
   },
   "source": [
    "7. Queremos saber el promedio de ingresos de los hogares (inghog2d) por nivel de pobreza. Haz un `groupby` para averiguar esto. \n",
    "\n",
    "\n",
    "(Por ejemplo, todos los hogares pobres extremos tendrán un único promedio, y así con las 2 categorías de pobreza adicionales). "
   ]
  },
  {
   "cell_type": "code",
   "execution_count": 194,
   "metadata": {
    "colab": {
     "base_uri": "https://localhost:8080/",
     "height": 175
    },
    "id": "tzRRzKGaGFI-",
    "outputId": "80ac761f-b378-42fa-b97b-6fcf8296c33c"
   },
   "outputs": [
    {
     "data": {
      "text/html": [
       "<div>\n",
       "<style scoped>\n",
       "    .dataframe tbody tr th:only-of-type {\n",
       "        vertical-align: middle;\n",
       "    }\n",
       "\n",
       "    .dataframe tbody tr th {\n",
       "        vertical-align: top;\n",
       "    }\n",
       "\n",
       "    .dataframe thead th {\n",
       "        text-align: right;\n",
       "    }\n",
       "</style>\n",
       "<table border=\"1\" class=\"dataframe\">\n",
       "  <thead>\n",
       "    <tr style=\"text-align: right;\">\n",
       "      <th></th>\n",
       "      <th>inghog2d</th>\n",
       "    </tr>\n",
       "    <tr>\n",
       "      <th>pobreza</th>\n",
       "      <th></th>\n",
       "    </tr>\n",
       "  </thead>\n",
       "  <tbody>\n",
       "    <tr>\n",
       "      <th>1</th>\n",
       "      <td>12945.434301</td>\n",
       "    </tr>\n",
       "    <tr>\n",
       "      <th>2</th>\n",
       "      <td>20042.135942</td>\n",
       "    </tr>\n",
       "    <tr>\n",
       "      <th>3</th>\n",
       "      <td>40513.933057</td>\n",
       "    </tr>\n",
       "  </tbody>\n",
       "</table>\n",
       "</div>"
      ],
      "text/plain": [
       "             inghog2d\n",
       "pobreza              \n",
       "1        12945.434301\n",
       "2        20042.135942\n",
       "3        40513.933057"
      ]
     },
     "execution_count": 194,
     "metadata": {},
     "output_type": "execute_result"
    }
   ],
   "source": [
    "df_sumaria[['inghog2d', 'pobreza']].groupby('pobreza').mean()"
   ]
  },
  {
   "cell_type": "code",
   "execution_count": 198,
   "metadata": {},
   "outputs": [
    {
     "data": {
      "text/html": [
       "<div>\n",
       "<style scoped>\n",
       "    .dataframe tbody tr th:only-of-type {\n",
       "        vertical-align: middle;\n",
       "    }\n",
       "\n",
       "    .dataframe tbody tr th {\n",
       "        vertical-align: top;\n",
       "    }\n",
       "\n",
       "    .dataframe thead th {\n",
       "        text-align: right;\n",
       "    }\n",
       "</style>\n",
       "<table border=\"1\" class=\"dataframe\">\n",
       "  <thead>\n",
       "    <tr style=\"text-align: right;\">\n",
       "      <th></th>\n",
       "      <th>inghog2d</th>\n",
       "    </tr>\n",
       "    <tr>\n",
       "      <th>pobreza1</th>\n",
       "      <th></th>\n",
       "    </tr>\n",
       "  </thead>\n",
       "  <tbody>\n",
       "    <tr>\n",
       "      <th>no pobre</th>\n",
       "      <td>40513.933057</td>\n",
       "    </tr>\n",
       "    <tr>\n",
       "      <th>pobre extremo</th>\n",
       "      <td>12945.434301</td>\n",
       "    </tr>\n",
       "    <tr>\n",
       "      <th>pobre no extremo</th>\n",
       "      <td>20042.135942</td>\n",
       "    </tr>\n",
       "  </tbody>\n",
       "</table>\n",
       "</div>"
      ],
      "text/plain": [
       "                      inghog2d\n",
       "pobreza1                      \n",
       "no pobre          40513.933057\n",
       "pobre extremo     12945.434301\n",
       "pobre no extremo  20042.135942"
      ]
     },
     "execution_count": 198,
     "metadata": {},
     "output_type": "execute_result"
    }
   ],
   "source": [
    "df_sumaria[['inghog2d', 'pobreza1']].groupby('pobreza1').mean()"
   ]
  },
  {
   "cell_type": "code",
   "execution_count": 196,
   "metadata": {},
   "outputs": [
    {
     "data": {
      "text/html": [
       "<div>\n",
       "<style scoped>\n",
       "    .dataframe tbody tr th:only-of-type {\n",
       "        vertical-align: middle;\n",
       "    }\n",
       "\n",
       "    .dataframe tbody tr th {\n",
       "        vertical-align: top;\n",
       "    }\n",
       "\n",
       "    .dataframe thead th {\n",
       "        text-align: right;\n",
       "    }\n",
       "</style>\n",
       "<table border=\"1\" class=\"dataframe\">\n",
       "  <thead>\n",
       "    <tr style=\"text-align: right;\">\n",
       "      <th></th>\n",
       "      <th>inghog2d</th>\n",
       "    </tr>\n",
       "    <tr>\n",
       "      <th>pobreza2</th>\n",
       "      <th></th>\n",
       "    </tr>\n",
       "  </thead>\n",
       "  <tbody>\n",
       "    <tr>\n",
       "      <th>no pobre</th>\n",
       "      <td>40513.933057</td>\n",
       "    </tr>\n",
       "    <tr>\n",
       "      <th>pobre</th>\n",
       "      <td>18522.930335</td>\n",
       "    </tr>\n",
       "  </tbody>\n",
       "</table>\n",
       "</div>"
      ],
      "text/plain": [
       "              inghog2d\n",
       "pobreza2              \n",
       "no pobre  40513.933057\n",
       "pobre     18522.930335"
      ]
     },
     "execution_count": 196,
     "metadata": {},
     "output_type": "execute_result"
    }
   ],
   "source": [
    "df_sumaria[['inghog2d', 'pobreza2']].groupby('pobreza2').mean()"
   ]
  },
  {
   "cell_type": "markdown",
   "metadata": {
    "id": "HPdGVw2WGFI-"
   },
   "source": [
    "8. ¡Ahora uniremos los datos!  \n",
    "Pero antes un check de sanidad: Verifica que el número  de filas de ambas bases de datos son las mismas (acuérdate que filtramos las observaciones por `result`).  La ENAHO recolecta información de estos 34,490 hogares a través de todos sus módulos. Para utilizar estos módulos a la vez, realizaremos una \"unión\" (merge).   \n",
    "\n",
    "Une ambas bases con un _inner merge_. Recuerda que el id que identifica a cada hogar se compone de ` conglome vivienda hogar`.  "
   ]
  },
  {
   "cell_type": "code",
   "execution_count": 202,
   "metadata": {
    "colab": {
     "base_uri": "https://localhost:8080/"
    },
    "id": "TqxWCbBr89p1",
    "outputId": "e181f6e9-c2f8-4798-b6bb-493e97eb8e0f"
   },
   "outputs": [],
   "source": [
    "# tu respuesta aquí\n",
    "# La estructura del código es: nombre del merge = dataframe1.merge(df2, on=[variables id], how=\"método\")\n",
    "df_merged = df_sumaria.merge(df_Enaho, on=[\"conglome\", \"vivienda\", \"hogar\"], how=\"inner\")"
   ]
  },
  {
   "cell_type": "code",
   "execution_count": 204,
   "metadata": {
    "colab": {
     "base_uri": "https://localhost:8080/"
    },
    "id": "Iylba8_o9KhK",
    "outputId": "7ee63830-9ecb-4116-b0ca-920a665a6ecc"
   },
   "outputs": [
    {
     "name": "stdout",
     "output_type": "stream",
     "text": [
      "(34213, 14) (34213, 9)\n"
     ]
    }
   ],
   "source": [
    "# tu respuesta aquí\n",
    "print(df_sumaria.shape, df_Enaho.shape)"
   ]
  },
  {
   "cell_type": "code",
   "execution_count": 208,
   "metadata": {
    "colab": {
     "base_uri": "https://localhost:8080/",
     "height": 488
    },
    "id": "cbYXIqnx9RDz",
    "outputId": "3d05c1dd-1fb5-4b31-d4d4-ba921fc3e1df"
   },
   "outputs": [
    {
     "data": {
      "text/html": [
       "<div>\n",
       "<style scoped>\n",
       "    .dataframe tbody tr th:only-of-type {\n",
       "        vertical-align: middle;\n",
       "    }\n",
       "\n",
       "    .dataframe tbody tr th {\n",
       "        vertical-align: top;\n",
       "    }\n",
       "\n",
       "    .dataframe thead th {\n",
       "        text-align: right;\n",
       "    }\n",
       "</style>\n",
       "<table border=\"1\" class=\"dataframe\">\n",
       "  <thead>\n",
       "    <tr style=\"text-align: right;\">\n",
       "      <th></th>\n",
       "      <th>conglome</th>\n",
       "      <th>vivienda</th>\n",
       "      <th>hogar</th>\n",
       "      <th>mieperho</th>\n",
       "      <th>percepho</th>\n",
       "      <th>pobreza</th>\n",
       "      <th>gashog2d</th>\n",
       "      <th>inghog2d</th>\n",
       "      <th>ubigeo</th>\n",
       "      <th>df_miembros_dependientes</th>\n",
       "      <th>df_ingper</th>\n",
       "      <th>df_ing_gas</th>\n",
       "      <th>pobreza1</th>\n",
       "      <th>pobreza2</th>\n",
       "      <th>result</th>\n",
       "      <th>nbi1</th>\n",
       "      <th>nbi2</th>\n",
       "      <th>nbi3</th>\n",
       "      <th>nbi4</th>\n",
       "      <th>nbi5</th>\n",
       "    </tr>\n",
       "  </thead>\n",
       "  <tbody>\n",
       "    <tr>\n",
       "      <th>0</th>\n",
       "      <td>5030</td>\n",
       "      <td>8</td>\n",
       "      <td>11</td>\n",
       "      <td>2</td>\n",
       "      <td>2</td>\n",
       "      <td>3</td>\n",
       "      <td>36949.523438</td>\n",
       "      <td>34606.441406</td>\n",
       "      <td>10201</td>\n",
       "      <td>0</td>\n",
       "      <td>17303.220703</td>\n",
       "      <td>-2343.082031</td>\n",
       "      <td>no pobre</td>\n",
       "      <td>no pobre</td>\n",
       "      <td>1</td>\n",
       "      <td>0</td>\n",
       "      <td>0</td>\n",
       "      <td>0</td>\n",
       "      <td>0</td>\n",
       "      <td>0</td>\n",
       "    </tr>\n",
       "    <tr>\n",
       "      <th>1</th>\n",
       "      <td>5030</td>\n",
       "      <td>17</td>\n",
       "      <td>11</td>\n",
       "      <td>2</td>\n",
       "      <td>2</td>\n",
       "      <td>3</td>\n",
       "      <td>48161.250000</td>\n",
       "      <td>82028.218750</td>\n",
       "      <td>10201</td>\n",
       "      <td>0</td>\n",
       "      <td>41014.109375</td>\n",
       "      <td>33866.968750</td>\n",
       "      <td>no pobre</td>\n",
       "      <td>no pobre</td>\n",
       "      <td>1</td>\n",
       "      <td>0</td>\n",
       "      <td>0</td>\n",
       "      <td>0</td>\n",
       "      <td>0</td>\n",
       "      <td>0</td>\n",
       "    </tr>\n",
       "    <tr>\n",
       "      <th>2</th>\n",
       "      <td>5030</td>\n",
       "      <td>33</td>\n",
       "      <td>11</td>\n",
       "      <td>4</td>\n",
       "      <td>4</td>\n",
       "      <td>3</td>\n",
       "      <td>27575.876953</td>\n",
       "      <td>31791.029297</td>\n",
       "      <td>10201</td>\n",
       "      <td>0</td>\n",
       "      <td>7947.757324</td>\n",
       "      <td>4215.152344</td>\n",
       "      <td>no pobre</td>\n",
       "      <td>no pobre</td>\n",
       "      <td>1</td>\n",
       "      <td>0</td>\n",
       "      <td>1</td>\n",
       "      <td>0</td>\n",
       "      <td>0</td>\n",
       "      <td>0</td>\n",
       "    </tr>\n",
       "    <tr>\n",
       "      <th>3</th>\n",
       "      <td>5030</td>\n",
       "      <td>50</td>\n",
       "      <td>11</td>\n",
       "      <td>3</td>\n",
       "      <td>1</td>\n",
       "      <td>3</td>\n",
       "      <td>16161.042969</td>\n",
       "      <td>24028.867188</td>\n",
       "      <td>10201</td>\n",
       "      <td>2</td>\n",
       "      <td>24028.867188</td>\n",
       "      <td>7867.824219</td>\n",
       "      <td>no pobre</td>\n",
       "      <td>no pobre</td>\n",
       "      <td>1</td>\n",
       "      <td>0</td>\n",
       "      <td>0</td>\n",
       "      <td>0</td>\n",
       "      <td>0</td>\n",
       "      <td>0</td>\n",
       "    </tr>\n",
       "    <tr>\n",
       "      <th>4</th>\n",
       "      <td>5030</td>\n",
       "      <td>59</td>\n",
       "      <td>11</td>\n",
       "      <td>11</td>\n",
       "      <td>7</td>\n",
       "      <td>2</td>\n",
       "      <td>30606.212891</td>\n",
       "      <td>46056.109375</td>\n",
       "      <td>10201</td>\n",
       "      <td>4</td>\n",
       "      <td>6579.444196</td>\n",
       "      <td>15449.896484</td>\n",
       "      <td>pobre no extremo</td>\n",
       "      <td>pobre</td>\n",
       "      <td>1</td>\n",
       "      <td>0</td>\n",
       "      <td>1</td>\n",
       "      <td>0</td>\n",
       "      <td>0</td>\n",
       "      <td>0</td>\n",
       "    </tr>\n",
       "  </tbody>\n",
       "</table>\n",
       "</div>"
      ],
      "text/plain": [
       "   conglome  vivienda  hogar  mieperho  percepho  pobreza      gashog2d  \\\n",
       "0      5030         8     11         2         2        3  36949.523438   \n",
       "1      5030        17     11         2         2        3  48161.250000   \n",
       "2      5030        33     11         4         4        3  27575.876953   \n",
       "3      5030        50     11         3         1        3  16161.042969   \n",
       "4      5030        59     11        11         7        2  30606.212891   \n",
       "\n",
       "       inghog2d  ubigeo  df_miembros_dependientes     df_ingper    df_ing_gas  \\\n",
       "0  34606.441406   10201                         0  17303.220703  -2343.082031   \n",
       "1  82028.218750   10201                         0  41014.109375  33866.968750   \n",
       "2  31791.029297   10201                         0   7947.757324   4215.152344   \n",
       "3  24028.867188   10201                         2  24028.867188   7867.824219   \n",
       "4  46056.109375   10201                         4   6579.444196  15449.896484   \n",
       "\n",
       "           pobreza1  pobreza2  result nbi1 nbi2 nbi3 nbi4 nbi5  \n",
       "0          no pobre  no pobre       1    0    0    0    0    0  \n",
       "1          no pobre  no pobre       1    0    0    0    0    0  \n",
       "2          no pobre  no pobre       1    0    1    0    0    0  \n",
       "3          no pobre  no pobre       1    0    0    0    0    0  \n",
       "4  pobre no extremo     pobre       1    0    1    0    0    0  "
      ]
     },
     "execution_count": 208,
     "metadata": {},
     "output_type": "execute_result"
    }
   ],
   "source": [
    "# tu respuesta aquí\n",
    "df_merged.head()"
   ]
  },
  {
   "cell_type": "markdown",
   "metadata": {
    "id": "U7wgw3R_GFI_"
   },
   "source": [
    "9. Haz un ```groupby``` que agrupe (`agg`) los datos por nivel de pobreza  y la nbi1. Queremos hallar el promedio y la mediana de los ingresos (inghog2d) y los gastos (gashog2d) por el producto cartesiano de las categorías de estas 2 variables - pobreza y nbi 1 -. \n",
    "\n",
    "El producto cartesiano es tan sólo todas las posibles combinaciones entre categorías. \n",
    "En este caso, tendremos:\n",
    "- pobre extremo con nbi1\n",
    "- pobre extremo sin nbi1\n",
    "- pobre no extremo con nbi1\n",
    "- pobre no extremo sin nbi1\n",
    "- no pobre con nbi1\n",
    "- no pobre sin nbi1\n",
    "\n",
    "(Este es un  ejemplo de cómo, al cruzar un indicador de pobreza monetaria -pobreza- y pobreza multidimensional-nbis-, podemos seguir observando brechas)."
   ]
  },
  {
   "cell_type": "code",
   "execution_count": 218,
   "metadata": {
    "colab": {
     "base_uri": "https://localhost:8080/"
    },
    "id": "OeyLC00EDrZT",
    "outputId": "1c339323-84e9-4527-858e-55519677840e"
   },
   "outputs": [
    {
     "data": {
      "text/html": [
       "<div>\n",
       "<style scoped>\n",
       "    .dataframe tbody tr th:only-of-type {\n",
       "        vertical-align: middle;\n",
       "    }\n",
       "\n",
       "    .dataframe tbody tr th {\n",
       "        vertical-align: top;\n",
       "    }\n",
       "\n",
       "    .dataframe thead tr th {\n",
       "        text-align: left;\n",
       "    }\n",
       "\n",
       "    .dataframe thead tr:last-of-type th {\n",
       "        text-align: right;\n",
       "    }\n",
       "</style>\n",
       "<table border=\"1\" class=\"dataframe\">\n",
       "  <thead>\n",
       "    <tr>\n",
       "      <th></th>\n",
       "      <th></th>\n",
       "      <th colspan=\"2\" halign=\"left\">inghog2d</th>\n",
       "      <th colspan=\"2\" halign=\"left\">gashog2d</th>\n",
       "    </tr>\n",
       "    <tr>\n",
       "      <th></th>\n",
       "      <th></th>\n",
       "      <th>mean</th>\n",
       "      <th>median</th>\n",
       "      <th>mean</th>\n",
       "      <th>median</th>\n",
       "    </tr>\n",
       "    <tr>\n",
       "      <th>pobreza</th>\n",
       "      <th>nbi1</th>\n",
       "      <th></th>\n",
       "      <th></th>\n",
       "      <th></th>\n",
       "      <th></th>\n",
       "    </tr>\n",
       "  </thead>\n",
       "  <tbody>\n",
       "    <tr>\n",
       "      <th rowspan=\"2\" valign=\"top\">1</th>\n",
       "      <th>0</th>\n",
       "      <td>12789.427903</td>\n",
       "      <td>10092.849609</td>\n",
       "      <td>8384.462050</td>\n",
       "      <td>7918.078613</td>\n",
       "    </tr>\n",
       "    <tr>\n",
       "      <th>1</th>\n",
       "      <td>13938.827986</td>\n",
       "      <td>11361.211426</td>\n",
       "      <td>9048.719897</td>\n",
       "      <td>8502.177246</td>\n",
       "    </tr>\n",
       "    <tr>\n",
       "      <th rowspan=\"2\" valign=\"top\">2</th>\n",
       "      <th>0</th>\n",
       "      <td>20230.731744</td>\n",
       "      <td>16260.113281</td>\n",
       "      <td>14899.363700</td>\n",
       "      <td>13943.960938</td>\n",
       "    </tr>\n",
       "    <tr>\n",
       "      <th>1</th>\n",
       "      <td>18634.609608</td>\n",
       "      <td>15313.995117</td>\n",
       "      <td>14865.038216</td>\n",
       "      <td>13673.346680</td>\n",
       "    </tr>\n",
       "    <tr>\n",
       "      <th rowspan=\"2\" valign=\"top\">3</th>\n",
       "      <th>0</th>\n",
       "      <td>41483.639054</td>\n",
       "      <td>30811.552734</td>\n",
       "      <td>32560.459581</td>\n",
       "      <td>27251.416016</td>\n",
       "    </tr>\n",
       "    <tr>\n",
       "      <th>1</th>\n",
       "      <td>25945.486160</td>\n",
       "      <td>21665.683594</td>\n",
       "      <td>21946.112793</td>\n",
       "      <td>20046.343750</td>\n",
       "    </tr>\n",
       "  </tbody>\n",
       "</table>\n",
       "</div>"
      ],
      "text/plain": [
       "                  inghog2d                    gashog2d              \n",
       "                      mean        median          mean        median\n",
       "pobreza nbi1                                                        \n",
       "1       0     12789.427903  10092.849609   8384.462050   7918.078613\n",
       "        1     13938.827986  11361.211426   9048.719897   8502.177246\n",
       "2       0     20230.731744  16260.113281  14899.363700  13943.960938\n",
       "        1     18634.609608  15313.995117  14865.038216  13673.346680\n",
       "3       0     41483.639054  30811.552734  32560.459581  27251.416016\n",
       "        1     25945.486160  21665.683594  21946.112793  20046.343750"
      ]
     },
     "execution_count": 218,
     "metadata": {},
     "output_type": "execute_result"
    }
   ],
   "source": [
    "# tu respuesta aquí\n",
    "#estructura --> dfmerged.groupby([\"variables del mapa cart.\"]).agg({\"variable\": [\"mean\", \"median\"], ...)\n",
    "df_merged.groupby([\"pobreza\", \"nbi1\"]).agg({\"inghog2d\": [\"mean\", \"median\"], \"gashog2d\": [\"mean\", \"median\"]})"
   ]
  },
  {
   "cell_type": "markdown",
   "metadata": {
    "id": "ngipWVz3GFI_"
   },
   "source": [
    "10. Crea una variable que nos informe sobre los hogares que tienen al menos dos nbis. Esta tomará el valor de 1 si tiene dos nbis (cualquiera sean estas), 0 en caso contrario (menos de 2). \n",
    "\n",
    "Calcula el promedio de miembros dependientes por cada categoría de esta nueva variable. "
   ]
  },
  {
   "cell_type": "code",
   "execution_count": 224,
   "metadata": {
    "colab": {
     "base_uri": "https://localhost:8080/",
     "height": 143
    },
    "id": "8EWBYZFOGFJA",
    "outputId": "4f8617c3-d6fa-46e5-e108-f86556b3c134"
   },
   "outputs": [
    {
     "data": {
      "text/plain": [
       "nbi_01\n",
       "0    1.175111\n",
       "1    1.432041\n",
       "Name: df_miembros_dependientes, dtype: float64"
      ]
     },
     "execution_count": 224,
     "metadata": {},
     "output_type": "execute_result"
    }
   ],
   "source": [
    "# tu respuesta aquí\n",
    "df_merged[\"nbi1\"] = pd.to_numeric(df_merged[\"nbi1\"], errors=\"coerce\")  \n",
    "df_merged[\"nbi_01\"] = (df_merged[\"nbi1\"] >= 1).astype(int)\n",
    "df_merged.groupby(\"nbi_01\")[\"df_miembros_dependientes\"].mean()"
   ]
  },
  {
   "cell_type": "markdown",
   "metadata": {
    "id": "FWyfNv0nGFJA"
   },
   "source": [
    "Crédito extra: \n",
    "\n",
    "11. Guarda el dataframe del resultado del ejercicio 9 como un csv. (No es necesario adjuntar este csv, con  que el bloque haya corrido está bien). "
   ]
  },
  {
   "cell_type": "code",
   "execution_count": 226,
   "metadata": {
    "id": "0qmac8KrGFJA"
   },
   "outputs": [],
   "source": [
    "# tu respuesta aquí. \n",
    "df_merged.to_csv(\"resultado_ejercicio_9.csv\", index=True)"
   ]
  },
  {
   "cell_type": "markdown",
   "metadata": {
    "id": "0GToqotdGFJA"
   },
   "source": [
    "12. Haz una tabulación cruzada en donde cuentes el número de personas, por nivel de pobreza, que hay en cada departamento. Este nuevo dataframe tendrá como filas a los departamentos y las nuevas columnas, los 3 niveles de pobreza (pobre extremo, pobre y no pobre). Usa `pivot_table`.\n",
    "\n",
    "*Nota: Los departamentos no necesitan tener nombre, con que estén enumerados del 1 al 25, está bien. \n",
    "Pista: Puedes utilizar una función que guarde el primer dígito de ubigeo cuando el valor es menor a x, y guardar 2 dígitos cuando el valor es mayor.   \n",
    "El método de creación de la variable departamento es libre. \n"
   ]
  },
  {
   "cell_type": "code",
   "execution_count": 262,
   "metadata": {
    "id": "AWGNAyjuGFJA"
   },
   "outputs": [
    {
     "name": "stdout",
     "output_type": "stream",
     "text": [
      "pobreza1      no pobre  pobre extremo  pobre no extremo\n",
      "departamento                                           \n",
      "1               2963.0          434.0             906.0\n",
      "2               3613.0          214.0             788.0\n",
      "3               2158.0          116.0             627.0\n",
      "4               4252.0          129.0             592.0\n",
      "5               2010.0          451.0             959.0\n",
      "6               2508.0          903.0            1173.0\n",
      "7               2542.0          163.0             849.0\n",
      "8               2966.0          141.0             731.0\n",
      "9               2110.0          313.0             927.0\n",
      "10              2554.0          447.0            1074.0\n",
      "11              4733.0            NaN             199.0\n",
      "12              3658.0          225.0             800.0\n",
      "13              3850.0          263.0            1221.0\n",
      "14              4446.0           60.0             606.0\n",
      "15             11554.0          476.0            3096.0\n",
      "16              3590.0          864.0            1532.0\n",
      "17              1782.0           22.0             176.0\n",
      "18              2415.0           88.0             251.0\n",
      "19              1848.0          281.0             758.0\n",
      "20              4296.0          212.0            1494.0\n",
      "21              1964.0          386.0             915.0\n",
      "22              3806.0          190.0             804.0\n",
      "23              3110.0           96.0             766.0\n",
      "24              2323.0           18.0             655.0\n",
      "25              3511.0          161.0             864.0\n"
     ]
    }
   ],
   "source": [
    "# tu respuesta aquí. \n",
    "def depto(ubigeo):\n",
    "    ubigeo = str(ubigeo)\n",
    "    if int(ubigeo) < 100000:  \n",
    "        return int(ubigeo[0])\n",
    "    else:  \n",
    "        return int(ubigeo[:2])\n",
    "\n",
    "df_merged[\"departamento\"] = df_merged[\"ubigeo\"].apply(depto)\n",
    "tabla = df_merged.pivot_table(index=\"departamento\", columns=\"pobreza1\", values=\"mieperho\", aggfunc=\"sum\")\n",
    "print(tabla)"
   ]
  },
  {
   "cell_type": "markdown",
   "metadata": {
    "id": "2gdRa7LcGFJA"
   },
   "source": [
    "# Parte 2"
   ]
  },
  {
   "cell_type": "markdown",
   "metadata": {
    "id": "YHHwSvoMGFJB"
   },
   "source": []
  },
  {
   "cell_type": "markdown",
   "metadata": {},
   "source": [
    "1. Escribe una función que toma dos parámetros numéricos, `a` y `b`, y resta ambos números, de tal forma que `c = a - b`. Expresa `c` como el valor a retornar.  \n"
   ]
  },
  {
   "cell_type": "code",
   "execution_count": 6,
   "metadata": {},
   "outputs": [],
   "source": [
    "def funcion(a,b):\n",
    "    \n",
    "    c = a - b\n",
    "\n",
    "    return c"
   ]
  },
  {
   "cell_type": "code",
   "execution_count": 10,
   "metadata": {},
   "outputs": [
    {
     "data": {
      "text/plain": [
       "1"
      ]
     },
     "execution_count": 10,
     "metadata": {},
     "output_type": "execute_result"
    }
   ],
   "source": [
    "funcion (4,3)"
   ]
  },
  {
   "cell_type": "markdown",
   "metadata": {},
   "source": [
    "2. Escribe una función que transforme la temperatura de grados celsius a grados fahrenheit. La fórmula es:    \n",
    "$F = 1.8*C + 32$"
   ]
  },
  {
   "cell_type": "code",
   "execution_count": 14,
   "metadata": {},
   "outputs": [],
   "source": [
    "def celsius_a_fahrenheit(temp_c):\n",
    "    '''\n",
    "    transforma temperatura de celsius a fahrenheit\n",
    "    Input: \n",
    "        temp_c:número float\n",
    "    Ouput: \n",
    "        retorna: número float\n",
    "    '''\n",
    "    \n",
    "    #Escribe aquí tu función \n",
    "    temp_f = 1.8*temp_c + 32\n",
    "    \n",
    "    \n",
    "    return temp_f "
   ]
  },
  {
   "cell_type": "code",
   "execution_count": 16,
   "metadata": {},
   "outputs": [
    {
     "data": {
      "text/plain": [
       "41.0"
      ]
     },
     "execution_count": 16,
     "metadata": {},
     "output_type": "execute_result"
    }
   ],
   "source": [
    "celsius_a_fahrenheit( 5 )"
   ]
  },
  {
   "cell_type": "markdown",
   "metadata": {},
   "source": [
    "3. \n",
    "\n",
    "3.1. Escribe una función que tome como input una lista de números y calcule su promedio. \n",
    "\n",
    "3.2. Escribe una función que tome como input un diccionario, y que almacene en una lista a todos sus valores.  \n",
    "Es decir. Si el diccionario es el de la clase: \n",
    "`ejem_dict =  {\"Juana\": \"gallina\", \"Martin\": \"gato\", \"Carla\": \"conejo\", \"Cristina\": \"gato\", \"Diego\": \"perro\" } `\n",
    "Queremos un diccionario = `[\"gallina\", \"gato\", \"conejo\",\"gato\", \"perro\"]`"
   ]
  },
  {
   "cell_type": "code",
   "execution_count": 24,
   "metadata": {},
   "outputs": [],
   "source": [
    "#3.1\n",
    "\n",
    "lista1 = [1,2,3,4]\n",
    "def funcion (lista1):\n",
    "    \n",
    "    prom = sum(lista1)/len(lista1)\n",
    "    \n",
    "    return (prom)"
   ]
  },
  {
   "cell_type": "code",
   "execution_count": 26,
   "metadata": {},
   "outputs": [
    {
     "data": {
      "text/plain": [
       "2.5"
      ]
     },
     "execution_count": 26,
     "metadata": {},
     "output_type": "execute_result"
    }
   ],
   "source": [
    "funcion(lista1)"
   ]
  },
  {
   "cell_type": "code",
   "execution_count": 28,
   "metadata": {},
   "outputs": [
    {
     "name": "stdout",
     "output_type": "stream",
     "text": [
      "['gallina', 'gato', 'conejo', 'gato']\n"
     ]
    }
   ],
   "source": [
    "#3.2\n",
    "\n",
    "def extraer_valores(diccionario):\n",
    "    return list(diccionario.values())\n",
    "\n",
    "ejem_dict = {\"Juana\": \"gallina\", \"Martin\": \"gato\", \"Carla\": \"conejo\", \"Cristina\": \"gato\"}\n",
    "valores_lista = extraer_valores(ejem_dict)\n",
    "\n",
    "print(valores_lista)"
   ]
  },
  {
   "cell_type": "markdown",
   "metadata": {},
   "source": [
    "4. Tenemos la siguientes función: "
   ]
  },
  {
   "cell_type": "code",
   "execution_count": 3,
   "metadata": {},
   "outputs": [],
   "source": [
    "def grado_escolar(edad):\n",
    "    \n",
    "    ''' calcula el grado escolar al que pertences segun tu edad\n",
    "    Input: \n",
    "    edad : int\n",
    "    output: tupla, compuestad de \n",
    "    grado: string\n",
    "    esp: especifico que grado\n",
    "    \n",
    "    '''\n",
    "    \n",
    "    if ((edad < 6) | (edad > 17)):\n",
    "        return \"No está en edad escolar\"\n",
    "    #assert edad > 5 & edad < 17\n",
    "    elif ((edad >=6) & (edad < 12)):\n",
    "        grado = \"Primaria\"\n",
    "        if edad == 6:\n",
    "            esp = \"1er grado\"\n",
    "        elif edad == 7:\n",
    "            esp = \"2do grado\"\n",
    "        elif edad == 8:\n",
    "            esp = \"3er grado\"\n",
    "        elif edad == 9:\n",
    "            esp = \"4to grado\"\n",
    "        elif edad == 10:\n",
    "            esp = \"5to grado\"\n",
    "        else:\n",
    "            esp = \"6to grado\"\n",
    "        \n",
    "    else:\n",
    "        grado = \"Secundaria\"\n",
    "        if edad == 12:\n",
    "            esp = \"1er año\"\n",
    "        elif edad == 13:\n",
    "            esp = \"2do año\"\n",
    "        elif edad == 14:\n",
    "            esp = \"3er año\"\n",
    "        elif edad == 15:\n",
    "            esp = \"4to año\"\n",
    "        else:\n",
    "            esp = \"5to año\"\n",
    "            \n",
    "    return grado, esp"
   ]
  },
  {
   "cell_type": "markdown",
   "metadata": {},
   "source": [
    "\n",
    "Asimismo, tenemos a 7 niños, que tienen las siguientes edades:   \n",
    "    `edades = [2, 4, 6, 7, 10, 15, 16]`  \n",
    "Queremos saber a qué grados/años van estos niños. Para ello, crea una lista vacía. En dicha lista almacenarás el resultado de dicha función para cada una de las edades de esta lista. Utiliza un for loop . \n",
    "\n",
    "Pista: Para familiarizarte con la función, puedes utilizarla con edades dentro del rango de edad escolar. "
   ]
  },
  {
   "cell_type": "code",
   "execution_count": 30,
   "metadata": {},
   "outputs": [
    {
     "name": "stdout",
     "output_type": "stream",
     "text": [
      "No está en edad escolar\n",
      "[(2, 'No está en edad escolar')]\n",
      "No está en edad escolar\n",
      "[(2, 'No está en edad escolar'), (4, 'No está en edad escolar')]\n",
      "('Primaria', '1er grado')\n",
      "[(2, 'No está en edad escolar'), (4, 'No está en edad escolar'), (6, ('Primaria', '1er grado'))]\n",
      "('Primaria', '2do grado')\n",
      "[(2, 'No está en edad escolar'), (4, 'No está en edad escolar'), (6, ('Primaria', '1er grado')), (7, ('Primaria', '2do grado'))]\n",
      "('Primaria', '5to grado')\n",
      "[(2, 'No está en edad escolar'), (4, 'No está en edad escolar'), (6, ('Primaria', '1er grado')), (7, ('Primaria', '2do grado')), (10, ('Primaria', '5to grado'))]\n",
      "('Secundaria', '4to año')\n",
      "[(2, 'No está en edad escolar'), (4, 'No está en edad escolar'), (6, ('Primaria', '1er grado')), (7, ('Primaria', '2do grado')), (10, ('Primaria', '5to grado')), (15, ('Secundaria', '4to año'))]\n",
      "('Secundaria', '5to año')\n",
      "[(2, 'No está en edad escolar'), (4, 'No está en edad escolar'), (6, ('Primaria', '1er grado')), (7, ('Primaria', '2do grado')), (10, ('Primaria', '5to grado')), (15, ('Secundaria', '4to año')), (16, ('Secundaria', '5to año'))]\n"
     ]
    }
   ],
   "source": [
    "def grado_escolar(edad):\n",
    "    if (edad < 6 or edad > 17):\n",
    "        return \"No está en edad escolar\"\n",
    "    elif (edad >=6 and edad < 12):\n",
    "        grado = \"Primaria\"\n",
    "        if edad == 6:\n",
    "            esp = \"1er grado\"\n",
    "        elif edad == 7:\n",
    "            esp = \"2do grado\"\n",
    "        elif edad == 8:\n",
    "            esp = \"3er grado\"\n",
    "        elif edad == 9:\n",
    "            esp = \"4to grado\"\n",
    "        elif edad == 10:\n",
    "            esp = \"5to grado\"\n",
    "        else:\n",
    "            esp = \"6to grado\"\n",
    "        \n",
    "    else:\n",
    "        grado = \"Secundaria\"\n",
    "        if edad == 12:\n",
    "            esp = \"1er año\"\n",
    "        elif edad == 13:\n",
    "            esp = \"2do año\"\n",
    "        elif edad == 14:\n",
    "            esp = \"3er año\"\n",
    "        elif edad == 15:\n",
    "            esp = \"4to año\"\n",
    "        else:\n",
    "            esp = \"5to año\"\n",
    "            \n",
    "    return grado, esp\n",
    "\n",
    "edades=[2, 4, 6, 7, 10, 15, 16]\n",
    "resultados=[]\n",
    "for edad in edades:\n",
    "    resultado= grado_escolar(edad)\n",
    "    resultados.append((edad, resultado))\n",
    "    print(resultado) in resultados\n",
    "    print(resultados)\n",
    "\n"
   ]
  },
  {
   "cell_type": "code",
   "execution_count": null,
   "metadata": {},
   "outputs": [],
   "source": []
  }
 ],
 "metadata": {
  "colab": {
   "collapsed_sections": [],
   "name": "T3_2022_AV.ipynb",
   "provenance": []
  },
  "kernelspec": {
   "display_name": "Python 3 (ipykernel)",
   "language": "python",
   "name": "python3"
  },
  "language_info": {
   "codemirror_mode": {
    "name": "ipython",
    "version": 3
   },
   "file_extension": ".py",
   "mimetype": "text/x-python",
   "name": "python",
   "nbconvert_exporter": "python",
   "pygments_lexer": "ipython3",
   "version": "3.12.4"
  }
 },
 "nbformat": 4,
 "nbformat_minor": 4
}
